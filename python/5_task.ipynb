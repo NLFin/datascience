{
 "cells": [
  {
   "cell_type": "markdown",
   "id": "85755de8",
   "metadata": {},
   "source": [
    "# Самостоятельное задание #5\n",
    "\n",
    "\n",
    "### Задание 1\n",
    "\n",
    "Допишите функцию, которая принимает список, выбирает из него все элементы с четным индексом и возвращает их в виде списка."
   ]
  },
  {
   "cell_type": "code",
   "execution_count": 1,
   "id": "6ef6d9b3",
   "metadata": {},
   "outputs": [],
   "source": [
    "def chet(l):\n",
    "    a=[]\n",
    "    for i in l:\n",
    "       if l.index(i)%2==0:\n",
    "            a.append(i)\n",
    "    return a"
   ]
  },
  {
   "cell_type": "markdown",
   "id": "443974c9",
   "metadata": {},
   "source": [
    "### Задание 2\n",
    "\n",
    "Допишите функцию, которая принимает список, выбирает из него все элементы, которые больше предыдущего и возвращает их в виде списка.\n"
   ]
  },
  {
   "cell_type": "code",
   "execution_count": 4,
   "id": "3a8cf925",
   "metadata": {},
   "outputs": [],
   "source": [
    "def gros(l):\n",
    "    a=[]\n",
    "    for i in range(0, len(l)-1):\n",
    "        if l[i]<l[i+1]:\n",
    "            a.append(l[i+1])\n",
    "    return a"
   ]
  },
  {
   "cell_type": "markdown",
   "id": "34524ede",
   "metadata": {},
   "source": [
    "### Задание 3\n",
    "\n",
    "Допишите функцию, которая принимает список, меняет местами наибольший и наименьший элементы и возвращает этот список."
   ]
  },
  {
   "cell_type": "code",
   "execution_count": 5,
   "id": "34d2beae",
   "metadata": {},
   "outputs": [],
   "source": [
    "def mmlist(l):\n",
    "    l[l.index(max(l))], l[l.index(min(l))] = l[l.index(min(l))], l[l.index(max(l))]\n",
    "    return l"
   ]
  }
 ],
 "metadata": {
  "kernelspec": {
   "display_name": "Python 3.9.0 64-bit",
   "language": "python",
   "name": "python3"
  },
  "language_info": {
   "codemirror_mode": {
    "name": "ipython",
    "version": 3
   },
   "file_extension": ".py",
   "mimetype": "text/x-python",
   "name": "python",
   "nbconvert_exporter": "python",
   "pygments_lexer": "ipython3",
   "version": "3.9.0"
  },
  "vscode": {
   "interpreter": {
    "hash": "d9ca571b8b9095f630f03552cea0bea8dbb706f569fda07e0ea31c5724b15930"
   }
  }
 },
 "nbformat": 4,
 "nbformat_minor": 5
}
