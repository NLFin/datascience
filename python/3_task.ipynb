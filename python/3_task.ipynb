{
 "cells": [
  {
   "cell_type": "markdown",
   "id": "657be689",
   "metadata": {},
   "source": [
    "# Самостоятельное задание #3\n",
    "\n",
    "\n",
    "### Задание 1\n",
    "\n",
    "Допишите функцию, которая принимает массив из 10 чисел и возвращает их сумму."
   ]
  },
  {
   "cell_type": "code",
   "execution_count": 1,
   "id": "18ffcbab",
   "metadata": {},
   "outputs": [],
   "source": [
    "def summ(arr):\n",
    "    sum=0\n",
    "    for i in range(10):\n",
    "        sum = sum + arr[i]\n",
    "    return sum"
   ]
  },
  {
   "cell_type": "markdown",
   "id": "eb78afc0",
   "metadata": {},
   "source": [
    "\n",
    "### Задание 2\n",
    "\n",
    "Допишите функцию, которая принимает массив чисел и возвращает количество чисел равных нулю."
   ]
  },
  {
   "cell_type": "code",
   "execution_count": 2,
   "id": "7e8fe536",
   "metadata": {},
   "outputs": [],
   "source": [
    "def zero(arr):\n",
    "    k=0\n",
    "    for i in arr:\n",
    "        if arr[i]==0:\n",
    "            k=k+1\n",
    "    return k"
   ]
  },
  {
   "cell_type": "markdown",
   "id": "570d5a26",
   "metadata": {},
   "source": [
    "\n",
    "### Задание 3\n",
    "\n",
    "Напишите программу, в которой задается  натуральное число n и выводится лестница из n ступенек, i-я ступенька должна состоять из чисел от 1 до i без пробелов."
   ]
  },
  {
   "cell_type": "code",
   "execution_count": 3,
   "id": "69fd0501",
   "metadata": {},
   "outputs": [
    {
     "name": "stdout",
     "output_type": "stream",
     "text": [
      "1\n",
      "12\n",
      "123\n"
     ]
    }
   ],
   "source": [
    "n=int(input())\n",
    "for i in range(2,n+2):\n",
    "    print(*range(1,i),sep='')"
   ]
  },
  {
   "cell_type": "markdown",
   "id": "b6ef1c44",
   "metadata": {},
   "source": [
    "\n",
    "### Задание 4\n",
    "\n",
    "Напишите программу, в которой задается натуральное число n и выводится пирамида из n ступенек, i-я ступень должна состоять из чисел от 1 до i и обратно без пробелов."
   ]
  },
  {
   "cell_type": "code",
   "execution_count": 4,
   "id": "6b038f87",
   "metadata": {},
   "outputs": [
    {
     "name": "stdout",
     "output_type": "stream",
     "text": [
      "   1\n",
      "  121\n",
      " 12321\n"
     ]
    }
   ],
   "source": [
    "n=int(input())\n",
    "for i in range(2,n+2):\n",
    "    print(' '*(n-i+2), end='')\n",
    "    print(*range(1,i), *range(1,i-1)[::-1],sep='')"
   ]
  },
  {
   "cell_type": "markdown",
   "id": "b4552ef5",
   "metadata": {},
   "source": [
    "\n",
    "### Задание 5\n",
    "\n",
    "Напишите программу, в которой задается натуральное число n и выводится ромб из `n*2-1` ступенек, i-я ступень должна состоять из чисел от 1 до i и обратно без пробелов."
   ]
  },
  {
   "cell_type": "code",
   "execution_count": 5,
   "id": "5eaae897",
   "metadata": {},
   "outputs": [
    {
     "name": "stdout",
     "output_type": "stream",
     "text": [
      "    1\n",
      "   121\n",
      "  12321\n",
      " 1234321\n",
      "  12321\n",
      "   121\n",
      "    1\n"
     ]
    }
   ],
   "source": [
    "n=int(input())\n",
    "for i in range(2,n+2):\n",
    "    print(' '*(n-i+2), end='')\n",
    "    print(*range(1,i), *range(1,i-1)[::-1],sep='')\n",
    "for i in range(n,1, -1):\n",
    "    print(' '*(n-i+2), end='')\n",
    "    print(*range(1,i), *range(1,i-1)[::-1],sep='')"
   ]
  }
 ],
 "metadata": {
  "kernelspec": {
   "display_name": "Python 3.9.0 64-bit",
   "language": "python",
   "name": "python3"
  },
  "language_info": {
   "codemirror_mode": {
    "name": "ipython",
    "version": 3
   },
   "file_extension": ".py",
   "mimetype": "text/x-python",
   "name": "python",
   "nbconvert_exporter": "python",
   "pygments_lexer": "ipython3",
   "version": "3.9.0"
  },
  "vscode": {
   "interpreter": {
    "hash": "d9ca571b8b9095f630f03552cea0bea8dbb706f569fda07e0ea31c5724b15930"
   }
  }
 },
 "nbformat": 4,
 "nbformat_minor": 5
}
