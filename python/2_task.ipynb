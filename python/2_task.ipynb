{
 "cells": [
  {
   "cell_type": "markdown",
   "id": "246424fe",
   "metadata": {},
   "source": [
    "# Самостоятельная работа #2\n",
    "### Задание 1\n",
    "\n",
    "Допишите функцию, которая принимает 2 числа, сравнивает между собой и возвращает наименьшее."
   ]
  },
  {
   "cell_type": "code",
   "execution_count": 3,
   "id": "1b225d18",
   "metadata": {},
   "outputs": [],
   "source": [
    "def func1(a, b):\n",
    "    if a>b:\n",
    "        return b\n",
    "    else:\n",
    "        return a"
   ]
  },
  {
   "cell_type": "markdown",
   "id": "9342d85f",
   "metadata": {},
   "source": [
    "### Задание 2\n",
    "\n",
    "Допишите функцию, которая принимает 3 числа, сравнивает между собой и возвращает наименьшее."
   ]
  },
  {
   "cell_type": "code",
   "execution_count": 2,
   "id": "5371aa95",
   "metadata": {},
   "outputs": [],
   "source": [
    "def func2(a, b, c):\n",
    "    if a<b and a<c:\n",
    "        return a\n",
    "    elif b<c and b<a:\n",
    "        return b\n",
    "    else:\n",
    "        return c"
   ]
  },
  {
   "cell_type": "markdown",
   "id": "9ef85dfd",
   "metadata": {},
   "source": [
    "### Задание 2\n",
    "\n",
    "Допишите функцию, которая принимает 3 числа, сравнивает между собой и возвращает количество совпадающих чисел. Соответственно, программа может возвращать одно из трех чисел: 3 - если совпадают все, 2 - если совпадают 2 числа, 0 - если все числа различны."
   ]
  },
  {
   "cell_type": "code",
   "execution_count": 4,
   "id": "ec6a169c",
   "metadata": {},
   "outputs": [],
   "source": [
    "def func3(a,b,c):\n",
    "    if a==b==c:\n",
    "        return 3\n",
    "    elif (a==b and a!=c) or (a==c and a!=b):\n",
    "        return 2\n",
    "    else:\n",
    "        return 0"
   ]
  }
 ],
 "metadata": {
  "kernelspec": {
   "display_name": "Python 3.9.0 64-bit",
   "language": "python",
   "name": "python3"
  },
  "language_info": {
   "codemirror_mode": {
    "name": "ipython",
    "version": 3
   },
   "file_extension": ".py",
   "mimetype": "text/x-python",
   "name": "python",
   "nbconvert_exporter": "python",
   "pygments_lexer": "ipython3",
   "version": "3.9.0"
  },
  "vscode": {
   "interpreter": {
    "hash": "d9ca571b8b9095f630f03552cea0bea8dbb706f569fda07e0ea31c5724b15930"
   }
  }
 },
 "nbformat": 4,
 "nbformat_minor": 5
}
