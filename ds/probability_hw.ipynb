{
 "cells": [
  {
   "cell_type": "markdown",
   "id": "261bb71a",
   "metadata": {},
   "source": [
    "# Домашнее задание. Вероятности"
   ]
  },
  {
   "cell_type": "markdown",
   "id": "964f26e6",
   "metadata": {},
   "source": [
    "1. Один самолет вылетел из Москвы, и должен совершить посадку в 5 городах. Необходимо узнать, количество городов, в котрых может приземлиться в первый, второй, третий город."
   ]
  },
  {
   "cell_type": "code",
   "execution_count": null,
   "id": "59f2a57b",
   "metadata": {},
   "outputs": [],
   "source": [
    "# Начните писать код тут "
   ]
  },
  {
   "cell_type": "markdown",
   "id": "d8ba96f1",
   "metadata": {},
   "source": [
    "2. Осьминог Пауль 16 раз пробовал угадать победителя футбольного матча. 14 раз он угадал правильно, 2 раза ошибся. Проверьте гипотезу H0: Пауль выбирает победителя футбольного матча случайно. Сделайте вывод. (сложная задача)"
   ]
  },
  {
   "cell_type": "code",
   "execution_count": null,
   "id": "9c02008f",
   "metadata": {},
   "outputs": [],
   "source": [
    "# Начните писать код тут "
   ]
  }
 ],
 "metadata": {
  "kernelspec": {
   "display_name": "Python 3",
   "language": "python",
   "name": "python3"
  },
  "language_info": {
   "codemirror_mode": {
    "name": "ipython",
    "version": 3
   },
   "file_extension": ".py",
   "mimetype": "text/x-python",
   "name": "python",
   "nbconvert_exporter": "python",
   "pygments_lexer": "ipython3",
   "version": "3.10.2"
  }
 },
 "nbformat": 4,
 "nbformat_minor": 5
}
