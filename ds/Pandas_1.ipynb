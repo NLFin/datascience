{
 "cells": [
  {
   "cell_type": "markdown",
   "id": "80928f6d",
   "metadata": {
    "id": "80928f6d"
   },
   "source": [
    "## Lambda-выражения\n",
    "\n",
    "Под lambda-выражениями будем понимать обработку каждого элемента списка одной операцией. Данный функциональный подход наиболее оптимизирован в Python для обработки большого массива данных и позволяет грамотно и лаконично задать процесс обработки в одну строку"
   ]
  },
  {
   "cell_type": "code",
   "execution_count": 2,
   "id": "0bc557da",
   "metadata": {
    "id": "0bc557da"
   },
   "outputs": [],
   "source": [
    "def more3(l):\n",
    "    result = []\n",
    "    for n in l:\n",
    "        if n > 3:\n",
    "            result.append(n)\n",
    "    return result #[x > 3  for x in l]"
   ]
  },
  {
   "cell_type": "code",
   "execution_count": 3,
   "id": "vZ_csTYBHhwS",
   "metadata": {
    "id": "vZ_csTYBHhwS"
   },
   "outputs": [],
   "source": [
    "list1 = [1, 2, 5, 4, 6, 3, 4]"
   ]
  },
  {
   "cell_type": "code",
   "execution_count": 4,
   "id": "97883a44",
   "metadata": {
    "colab": {
     "base_uri": "https://localhost:8080/"
    },
    "id": "97883a44",
    "outputId": "481832c7-c4f1-4ece-f987-67ae80170fe9"
   },
   "outputs": [
    {
     "data": {
      "text/plain": [
       "[5, 4, 6, 4]"
      ]
     },
     "execution_count": 4,
     "metadata": {},
     "output_type": "execute_result"
    }
   ],
   "source": [
    "more3(list1)"
   ]
  },
  {
   "cell_type": "code",
   "execution_count": 5,
   "id": "3f1dabaa",
   "metadata": {
    "id": "3f1dabaa"
   },
   "outputs": [],
   "source": [
    "def isMoreThan3(n):\n",
    "    return n > 4"
   ]
  },
  {
   "cell_type": "code",
   "execution_count": 6,
   "id": "f720a1c7",
   "metadata": {},
   "outputs": [
    {
     "data": {
      "text/plain": [
       "[5, 6]"
      ]
     },
     "execution_count": 6,
     "metadata": {},
     "output_type": "execute_result"
    }
   ],
   "source": [
    "list(filter(isMoreThan3, list1))"
   ]
  },
  {
   "cell_type": "code",
   "execution_count": 7,
   "id": "6158be00",
   "metadata": {
    "colab": {
     "base_uri": "https://localhost:8080/"
    },
    "id": "6158be00",
    "outputId": "869d8cb9-49de-4ff6-c2f5-7d13268533c4"
   },
   "outputs": [
    {
     "data": {
      "text/plain": [
       "[5, 6]"
      ]
     },
     "execution_count": 7,
     "metadata": {},
     "output_type": "execute_result"
    }
   ],
   "source": [
    "list4 = filter(lambda x: x > 4, list1)\n",
    "list(list4)"
   ]
  },
  {
   "cell_type": "code",
   "execution_count": 8,
   "id": "ca0be33b",
   "metadata": {
    "id": "ca0be33b",
    "outputId": "a3a945c2-180f-4a1d-b59b-861e540d3fb4"
   },
   "outputs": [
    {
     "name": "stdout",
     "output_type": "stream",
     "text": [
      "322 ns ± 4.05 ns per loop (mean ± std. dev. of 7 runs, 1,000,000 loops each)\n"
     ]
    }
   ],
   "source": [
    "%timeit more3(list1)"
   ]
  },
  {
   "cell_type": "code",
   "execution_count": 9,
   "id": "452ea6cb",
   "metadata": {
    "id": "452ea6cb",
    "outputId": "412480ee-0735-4262-a336-da21cddf43e4"
   },
   "outputs": [
    {
     "name": "stdout",
     "output_type": "stream",
     "text": [
      "122 ns ± 0.105 ns per loop (mean ± std. dev. of 7 runs, 10,000,000 loops each)\n"
     ]
    }
   ],
   "source": [
    "%timeit filter(lambda x: x > 3, list1)"
   ]
  },
  {
   "cell_type": "code",
   "execution_count": 10,
   "id": "d11e17b1",
   "metadata": {
    "id": "d11e17b1",
    "outputId": "db34cb25-8b08-4870-a41b-e4d8f69016e3"
   },
   "outputs": [
    {
     "name": "stdout",
     "output_type": "stream",
     "text": [
      "81.3 ns ± 0.285 ns per loop (mean ± std. dev. of 7 runs, 10,000,000 loops each)\n"
     ]
    }
   ],
   "source": [
    "%timeit filter(isMoreThan3, list1)"
   ]
  },
  {
   "cell_type": "code",
   "execution_count": 16,
   "id": "8971ecad",
   "metadata": {
    "id": "8971ecad",
    "outputId": "55f4e1f1-7b71-45dc-81ed-359c184aac4b"
   },
   "outputs": [
    {
     "data": {
      "text/plain": [
       "[2, 4, 10, 8, 12, 6, 8]"
      ]
     },
     "execution_count": 16,
     "metadata": {},
     "output_type": "execute_result"
    }
   ],
   "source": [
    "list5 = map(lambda x: x * 2, list1)\n",
    "list(list5)"
   ]
  },
  {
   "cell_type": "code",
   "execution_count": 17,
   "id": "f5f72aa2",
   "metadata": {
    "id": "f5f72aa2",
    "outputId": "5403aec7-dbe4-4276-ea0e-48374497f628"
   },
   "outputs": [
    {
     "data": {
      "text/plain": [
       "[('a', 1), ('b', 2), ('c', 3)]"
      ]
     },
     "execution_count": 17,
     "metadata": {},
     "output_type": "execute_result"
    }
   ],
   "source": [
    "strings = ['a', 'b', 'c']\n",
    "numbers = [1, 2, 3, 4, 5]\n",
    "list(zip(strings, numbers))"
   ]
  },
  {
   "cell_type": "code",
   "execution_count": 20,
   "id": "c3c7dbe5",
   "metadata": {
    "id": "c3c7dbe5",
    "outputId": "88c1b62f-8d03-4029-e076-fde50f713feb"
   },
   "outputs": [
    {
     "data": {
      "text/plain": [
       "120"
      ]
     },
     "execution_count": 20,
     "metadata": {},
     "output_type": "execute_result"
    }
   ],
   "source": [
    "from functools import reduce\n",
    "list6 = [1, 2, 3, 4, 5]\n",
    "reduce(lambda x, y: x * y, list6)"
   ]
  },
  {
   "cell_type": "code",
   "execution_count": 22,
   "id": "aac78d48",
   "metadata": {},
   "outputs": [
    {
     "data": {
      "text/plain": [
       "[{'id': 1, 'timestamp': 3, 'amount': 2},\n",
       " {'id': 2, 'timestamp': 4, 'amount': 8}]"
      ]
     },
     "execution_count": 22,
     "metadata": {},
     "output_type": "execute_result"
    }
   ],
   "source": [
    "filter(operations)"
   ]
  },
  {
   "cell_type": "code",
   "execution_count": 23,
   "id": "tobpdSPRHdQV",
   "metadata": {
    "id": "tobpdSPRHdQV"
   },
   "outputs": [],
   "source": [
    "import matplotlib.pyplot as plt"
   ]
  },
  {
   "cell_type": "markdown",
   "id": "36396f4c",
   "metadata": {
    "id": "36396f4c"
   },
   "source": [
    "## Датафреймы\n",
    "\n",
    "Для обработки данных в питоне обычно используют датафреймы. В датафреймах удобно работать с различного рода таблицами, проводить над ними операции, использовать некоторые операции из баз данных."
   ]
  },
  {
   "cell_type": "code",
   "execution_count": 2,
   "id": "f06545d5",
   "metadata": {
    "id": "f06545d5"
   },
   "outputs": [],
   "source": [
    "import pandas as pd"
   ]
  },
  {
   "cell_type": "code",
   "execution_count": 3,
   "id": "0d81ef0c",
   "metadata": {
    "id": "0d81ef0c"
   },
   "outputs": [],
   "source": [
    "ser = pd.Series([1, 2, 3], index=[3, 2, 1])"
   ]
  },
  {
   "cell_type": "code",
   "execution_count": 4,
   "id": "8c8efb29",
   "metadata": {
    "colab": {
     "base_uri": "https://localhost:8080/"
    },
    "id": "8c8efb29",
    "outputId": "6e2ffd5a-1d3f-4503-f5ad-9b93b100fdda"
   },
   "outputs": [
    {
     "data": {
      "text/plain": [
       "3    1\n",
       "2    2\n",
       "1    3\n",
       "dtype: int64"
      ]
     },
     "execution_count": 4,
     "metadata": {},
     "output_type": "execute_result"
    }
   ],
   "source": [
    "ser"
   ]
  },
  {
   "cell_type": "code",
   "execution_count": 5,
   "id": "w4aPRY_nWzxy",
   "metadata": {
    "colab": {
     "base_uri": "https://localhost:8080/",
     "height": 143
    },
    "id": "w4aPRY_nWzxy",
    "outputId": "77f996e1-ffe5-4edc-ad6c-03b06950de8c"
   },
   "outputs": [
    {
     "data": {
      "text/html": [
       "<div>\n",
       "<style scoped>\n",
       "    .dataframe tbody tr th:only-of-type {\n",
       "        vertical-align: middle;\n",
       "    }\n",
       "\n",
       "    .dataframe tbody tr th {\n",
       "        vertical-align: top;\n",
       "    }\n",
       "\n",
       "    .dataframe thead th {\n",
       "        text-align: right;\n",
       "    }\n",
       "</style>\n",
       "<table border=\"1\" class=\"dataframe\">\n",
       "  <thead>\n",
       "    <tr style=\"text-align: right;\">\n",
       "      <th></th>\n",
       "      <th>index</th>\n",
       "      <th>0</th>\n",
       "    </tr>\n",
       "  </thead>\n",
       "  <tbody>\n",
       "    <tr>\n",
       "      <th>0</th>\n",
       "      <td>3</td>\n",
       "      <td>1</td>\n",
       "    </tr>\n",
       "    <tr>\n",
       "      <th>1</th>\n",
       "      <td>2</td>\n",
       "      <td>2</td>\n",
       "    </tr>\n",
       "    <tr>\n",
       "      <th>2</th>\n",
       "      <td>1</td>\n",
       "      <td>3</td>\n",
       "    </tr>\n",
       "  </tbody>\n",
       "</table>\n",
       "</div>"
      ],
      "text/plain": [
       "   index  0\n",
       "0      3  1\n",
       "1      2  2\n",
       "2      1  3"
      ]
     },
     "execution_count": 5,
     "metadata": {},
     "output_type": "execute_result"
    }
   ],
   "source": [
    "ser.reset_index()"
   ]
  },
  {
   "cell_type": "markdown",
   "id": "6e0971d1",
   "metadata": {},
   "source": [
    "`DataFrame` - это удобное представление табличных данных в Python. Каждая колонка данных состоит из специального масси `pd.Series`"
   ]
  },
  {
   "cell_type": "code",
   "execution_count": 6,
   "id": "512af0ec",
   "metadata": {
    "colab": {
     "base_uri": "https://localhost:8080/",
     "height": 112
    },
    "id": "512af0ec",
    "outputId": "27e41b75-3389-4d52-8ad4-aa9c77a371b4"
   },
   "outputs": [
    {
     "data": {
      "text/html": [
       "<div>\n",
       "<style scoped>\n",
       "    .dataframe tbody tr th:only-of-type {\n",
       "        vertical-align: middle;\n",
       "    }\n",
       "\n",
       "    .dataframe tbody tr th {\n",
       "        vertical-align: top;\n",
       "    }\n",
       "\n",
       "    .dataframe thead th {\n",
       "        text-align: right;\n",
       "    }\n",
       "</style>\n",
       "<table border=\"1\" class=\"dataframe\">\n",
       "  <thead>\n",
       "    <tr style=\"text-align: right;\">\n",
       "      <th></th>\n",
       "      <th>a</th>\n",
       "      <th>b</th>\n",
       "    </tr>\n",
       "  </thead>\n",
       "  <tbody>\n",
       "    <tr>\n",
       "      <th>0</th>\n",
       "      <td>1</td>\n",
       "      <td>2</td>\n",
       "    </tr>\n",
       "    <tr>\n",
       "      <th>1</th>\n",
       "      <td>3</td>\n",
       "      <td>4</td>\n",
       "    </tr>\n",
       "    <tr>\n",
       "      <th>2</th>\n",
       "      <td>4</td>\n",
       "      <td>5</td>\n",
       "    </tr>\n",
       "  </tbody>\n",
       "</table>\n",
       "</div>"
      ],
      "text/plain": [
       "   a  b\n",
       "0  1  2\n",
       "1  3  4\n",
       "2  4  5"
      ]
     },
     "execution_count": 6,
     "metadata": {},
     "output_type": "execute_result"
    }
   ],
   "source": [
    "df = pd.DataFrame({'a': [1, 3, 4], 'b': [2, 4, 5]})\n",
    "df\n"
   ]
  },
  {
   "cell_type": "markdown",
   "id": "0a1ceeeb",
   "metadata": {},
   "source": [
    "Проверим тип с которым создалась переменная df"
   ]
  },
  {
   "cell_type": "code",
   "execution_count": 7,
   "id": "3229c72a",
   "metadata": {
    "id": "3229c72a",
    "outputId": "102c1951-ba4a-4fac-cc29-c235d6046ad6"
   },
   "outputs": [
    {
     "data": {
      "text/plain": [
       "pandas.core.frame.DataFrame"
      ]
     },
     "execution_count": 7,
     "metadata": {},
     "output_type": "execute_result"
    }
   ],
   "source": [
    "type(df)"
   ]
  },
  {
   "cell_type": "markdown",
   "id": "88985bb2",
   "metadata": {},
   "source": [
    "В DataFrame так же можно добавлять значения в колонки, как в примере ниже"
   ]
  },
  {
   "cell_type": "code",
   "execution_count": 8,
   "id": "88c4441d",
   "metadata": {
    "id": "88c4441d"
   },
   "outputs": [
    {
     "name": "stderr",
     "output_type": "stream",
     "text": [
      "/tmp/ipykernel_9144/2466297743.py:1: FutureWarning: The frame.append method is deprecated and will be removed from pandas in a future version. Use pandas.concat instead.\n",
      "  df = df.append({'a': 5, 'b': 6}, ignore_index=True)\n"
     ]
    }
   ],
   "source": [
    "df = df.append({'a': 5, 'b': 6}, ignore_index=True)"
   ]
  },
  {
   "cell_type": "code",
   "execution_count": 9,
   "id": "d5551bc8",
   "metadata": {
    "colab": {
     "base_uri": "https://localhost:8080/",
     "height": 175
    },
    "id": "d5551bc8",
    "outputId": "894eea7e-ba57-40f3-d975-e338dcb270e2"
   },
   "outputs": [
    {
     "data": {
      "text/html": [
       "<div>\n",
       "<style scoped>\n",
       "    .dataframe tbody tr th:only-of-type {\n",
       "        vertical-align: middle;\n",
       "    }\n",
       "\n",
       "    .dataframe tbody tr th {\n",
       "        vertical-align: top;\n",
       "    }\n",
       "\n",
       "    .dataframe thead th {\n",
       "        text-align: right;\n",
       "    }\n",
       "</style>\n",
       "<table border=\"1\" class=\"dataframe\">\n",
       "  <thead>\n",
       "    <tr style=\"text-align: right;\">\n",
       "      <th></th>\n",
       "      <th>a</th>\n",
       "      <th>b</th>\n",
       "    </tr>\n",
       "  </thead>\n",
       "  <tbody>\n",
       "    <tr>\n",
       "      <th>0</th>\n",
       "      <td>1</td>\n",
       "      <td>2</td>\n",
       "    </tr>\n",
       "    <tr>\n",
       "      <th>1</th>\n",
       "      <td>3</td>\n",
       "      <td>4</td>\n",
       "    </tr>\n",
       "    <tr>\n",
       "      <th>2</th>\n",
       "      <td>4</td>\n",
       "      <td>5</td>\n",
       "    </tr>\n",
       "    <tr>\n",
       "      <th>3</th>\n",
       "      <td>5</td>\n",
       "      <td>6</td>\n",
       "    </tr>\n",
       "  </tbody>\n",
       "</table>\n",
       "</div>"
      ],
      "text/plain": [
       "   a  b\n",
       "0  1  2\n",
       "1  3  4\n",
       "2  4  5\n",
       "3  5  6"
      ]
     },
     "execution_count": 9,
     "metadata": {},
     "output_type": "execute_result"
    }
   ],
   "source": [
    "df"
   ]
  },
  {
   "cell_type": "markdown",
   "id": "8cda56d0",
   "metadata": {},
   "source": [
    "Так же DataFrame поддерживает загрузки из популярных форматов хранения данных CSV (Comma Seporated Value), формат MS Excel, JSON и тд.\n",
    "\n",
    "> **Запомни!**\n",
    "> \n",
    "> Не стоит загружать большие наборы данных через DataFrame. Почему? Потому что DataFrame загружается сразу весь файл в память, и твоей памяти может просто не хватить. "
   ]
  },
  {
   "cell_type": "code",
   "execution_count": 10,
   "id": "e75c4c9b",
   "metadata": {
    "id": "e75c4c9b"
   },
   "outputs": [],
   "source": [
    "df = pd.read_csv('data/TSLA.csv') # можно считывать разные файлы: csv - read_csv, xlsx - read_excel и тд"
   ]
  },
  {
   "cell_type": "markdown",
   "id": "111812c1",
   "metadata": {},
   "source": [
    "При простом вызове переменной `df` вы увидете первые 5 значние и последние 5 значений"
   ]
  },
  {
   "cell_type": "code",
   "execution_count": 11,
   "id": "1d065fc9",
   "metadata": {
    "colab": {
     "base_uri": "https://localhost:8080/",
     "height": 597
    },
    "id": "1d065fc9",
    "outputId": "7bb15e93-2bec-4893-8b80-f0b0840b4ffb"
   },
   "outputs": [
    {
     "data": {
      "text/html": [
       "<div>\n",
       "<style scoped>\n",
       "    .dataframe tbody tr th:only-of-type {\n",
       "        vertical-align: middle;\n",
       "    }\n",
       "\n",
       "    .dataframe tbody tr th {\n",
       "        vertical-align: top;\n",
       "    }\n",
       "\n",
       "    .dataframe thead th {\n",
       "        text-align: right;\n",
       "    }\n",
       "</style>\n",
       "<table border=\"1\" class=\"dataframe\">\n",
       "  <thead>\n",
       "    <tr style=\"text-align: right;\">\n",
       "      <th></th>\n",
       "      <th>Date</th>\n",
       "      <th>Open</th>\n",
       "      <th>High</th>\n",
       "      <th>Low</th>\n",
       "      <th>Close</th>\n",
       "      <th>Adj Close</th>\n",
       "      <th>Volume</th>\n",
       "    </tr>\n",
       "  </thead>\n",
       "  <tbody>\n",
       "    <tr>\n",
       "      <th>0</th>\n",
       "      <td>2010-06-29</td>\n",
       "      <td>19.000000</td>\n",
       "      <td>25.000000</td>\n",
       "      <td>17.540001</td>\n",
       "      <td>23.889999</td>\n",
       "      <td>23.889999</td>\n",
       "      <td>18766300</td>\n",
       "    </tr>\n",
       "    <tr>\n",
       "      <th>1</th>\n",
       "      <td>2010-06-30</td>\n",
       "      <td>25.790001</td>\n",
       "      <td>30.420000</td>\n",
       "      <td>23.299999</td>\n",
       "      <td>23.830000</td>\n",
       "      <td>23.830000</td>\n",
       "      <td>17187100</td>\n",
       "    </tr>\n",
       "    <tr>\n",
       "      <th>2</th>\n",
       "      <td>2010-07-01</td>\n",
       "      <td>25.000000</td>\n",
       "      <td>25.920000</td>\n",
       "      <td>20.270000</td>\n",
       "      <td>21.959999</td>\n",
       "      <td>21.959999</td>\n",
       "      <td>8218800</td>\n",
       "    </tr>\n",
       "    <tr>\n",
       "      <th>3</th>\n",
       "      <td>2010-07-02</td>\n",
       "      <td>23.000000</td>\n",
       "      <td>23.100000</td>\n",
       "      <td>18.709999</td>\n",
       "      <td>19.200001</td>\n",
       "      <td>19.200001</td>\n",
       "      <td>5139800</td>\n",
       "    </tr>\n",
       "    <tr>\n",
       "      <th>4</th>\n",
       "      <td>2010-07-06</td>\n",
       "      <td>20.000000</td>\n",
       "      <td>20.000000</td>\n",
       "      <td>15.830000</td>\n",
       "      <td>16.110001</td>\n",
       "      <td>16.110001</td>\n",
       "      <td>6866900</td>\n",
       "    </tr>\n",
       "    <tr>\n",
       "      <th>...</th>\n",
       "      <td>...</td>\n",
       "      <td>...</td>\n",
       "      <td>...</td>\n",
       "      <td>...</td>\n",
       "      <td>...</td>\n",
       "      <td>...</td>\n",
       "      <td>...</td>\n",
       "    </tr>\n",
       "    <tr>\n",
       "      <th>2411</th>\n",
       "      <td>2020-01-28</td>\n",
       "      <td>568.489990</td>\n",
       "      <td>576.809998</td>\n",
       "      <td>558.080017</td>\n",
       "      <td>566.900024</td>\n",
       "      <td>566.900024</td>\n",
       "      <td>11788500</td>\n",
       "    </tr>\n",
       "    <tr>\n",
       "      <th>2412</th>\n",
       "      <td>2020-01-29</td>\n",
       "      <td>575.690002</td>\n",
       "      <td>589.799988</td>\n",
       "      <td>567.429993</td>\n",
       "      <td>580.989990</td>\n",
       "      <td>580.989990</td>\n",
       "      <td>17801500</td>\n",
       "    </tr>\n",
       "    <tr>\n",
       "      <th>2413</th>\n",
       "      <td>2020-01-30</td>\n",
       "      <td>632.419983</td>\n",
       "      <td>650.880005</td>\n",
       "      <td>618.000000</td>\n",
       "      <td>640.809998</td>\n",
       "      <td>640.809998</td>\n",
       "      <td>29005700</td>\n",
       "    </tr>\n",
       "    <tr>\n",
       "      <th>2414</th>\n",
       "      <td>2020-01-31</td>\n",
       "      <td>640.000000</td>\n",
       "      <td>653.000000</td>\n",
       "      <td>632.520020</td>\n",
       "      <td>650.570007</td>\n",
       "      <td>650.570007</td>\n",
       "      <td>15719300</td>\n",
       "    </tr>\n",
       "    <tr>\n",
       "      <th>2415</th>\n",
       "      <td>2020-02-03</td>\n",
       "      <td>673.690002</td>\n",
       "      <td>786.140015</td>\n",
       "      <td>673.520020</td>\n",
       "      <td>780.000000</td>\n",
       "      <td>780.000000</td>\n",
       "      <td>47065000</td>\n",
       "    </tr>\n",
       "  </tbody>\n",
       "</table>\n",
       "<p>2416 rows × 7 columns</p>\n",
       "</div>"
      ],
      "text/plain": [
       "            Date        Open        High         Low       Close   Adj Close  \\\n",
       "0     2010-06-29   19.000000   25.000000   17.540001   23.889999   23.889999   \n",
       "1     2010-06-30   25.790001   30.420000   23.299999   23.830000   23.830000   \n",
       "2     2010-07-01   25.000000   25.920000   20.270000   21.959999   21.959999   \n",
       "3     2010-07-02   23.000000   23.100000   18.709999   19.200001   19.200001   \n",
       "4     2010-07-06   20.000000   20.000000   15.830000   16.110001   16.110001   \n",
       "...          ...         ...         ...         ...         ...         ...   \n",
       "2411  2020-01-28  568.489990  576.809998  558.080017  566.900024  566.900024   \n",
       "2412  2020-01-29  575.690002  589.799988  567.429993  580.989990  580.989990   \n",
       "2413  2020-01-30  632.419983  650.880005  618.000000  640.809998  640.809998   \n",
       "2414  2020-01-31  640.000000  653.000000  632.520020  650.570007  650.570007   \n",
       "2415  2020-02-03  673.690002  786.140015  673.520020  780.000000  780.000000   \n",
       "\n",
       "        Volume  \n",
       "0     18766300  \n",
       "1     17187100  \n",
       "2      8218800  \n",
       "3      5139800  \n",
       "4      6866900  \n",
       "...        ...  \n",
       "2411  11788500  \n",
       "2412  17801500  \n",
       "2413  29005700  \n",
       "2414  15719300  \n",
       "2415  47065000  \n",
       "\n",
       "[2416 rows x 7 columns]"
      ]
     },
     "execution_count": 11,
     "metadata": {},
     "output_type": "execute_result"
    }
   ],
   "source": [
    "df"
   ]
  },
  {
   "cell_type": "markdown",
   "id": "a2baf041",
   "metadata": {},
   "source": [
    "Или можем сразу вызвать функцию `head()` которая выведет первые 5 строк, ну или указав из количество `head(3)`"
   ]
  },
  {
   "cell_type": "code",
   "execution_count": 12,
   "id": "47dbdd67",
   "metadata": {
    "colab": {
     "base_uri": "https://localhost:8080/",
     "height": 206
    },
    "id": "47dbdd67",
    "outputId": "884fbb44-0ac4-4765-b8a3-c585d5814c94"
   },
   "outputs": [
    {
     "data": {
      "text/html": [
       "<div>\n",
       "<style scoped>\n",
       "    .dataframe tbody tr th:only-of-type {\n",
       "        vertical-align: middle;\n",
       "    }\n",
       "\n",
       "    .dataframe tbody tr th {\n",
       "        vertical-align: top;\n",
       "    }\n",
       "\n",
       "    .dataframe thead th {\n",
       "        text-align: right;\n",
       "    }\n",
       "</style>\n",
       "<table border=\"1\" class=\"dataframe\">\n",
       "  <thead>\n",
       "    <tr style=\"text-align: right;\">\n",
       "      <th></th>\n",
       "      <th>Date</th>\n",
       "      <th>Open</th>\n",
       "      <th>High</th>\n",
       "      <th>Low</th>\n",
       "      <th>Close</th>\n",
       "      <th>Adj Close</th>\n",
       "      <th>Volume</th>\n",
       "    </tr>\n",
       "  </thead>\n",
       "  <tbody>\n",
       "    <tr>\n",
       "      <th>0</th>\n",
       "      <td>2010-06-29</td>\n",
       "      <td>19.000000</td>\n",
       "      <td>25.00</td>\n",
       "      <td>17.540001</td>\n",
       "      <td>23.889999</td>\n",
       "      <td>23.889999</td>\n",
       "      <td>18766300</td>\n",
       "    </tr>\n",
       "    <tr>\n",
       "      <th>1</th>\n",
       "      <td>2010-06-30</td>\n",
       "      <td>25.790001</td>\n",
       "      <td>30.42</td>\n",
       "      <td>23.299999</td>\n",
       "      <td>23.830000</td>\n",
       "      <td>23.830000</td>\n",
       "      <td>17187100</td>\n",
       "    </tr>\n",
       "    <tr>\n",
       "      <th>2</th>\n",
       "      <td>2010-07-01</td>\n",
       "      <td>25.000000</td>\n",
       "      <td>25.92</td>\n",
       "      <td>20.270000</td>\n",
       "      <td>21.959999</td>\n",
       "      <td>21.959999</td>\n",
       "      <td>8218800</td>\n",
       "    </tr>\n",
       "    <tr>\n",
       "      <th>3</th>\n",
       "      <td>2010-07-02</td>\n",
       "      <td>23.000000</td>\n",
       "      <td>23.10</td>\n",
       "      <td>18.709999</td>\n",
       "      <td>19.200001</td>\n",
       "      <td>19.200001</td>\n",
       "      <td>5139800</td>\n",
       "    </tr>\n",
       "    <tr>\n",
       "      <th>4</th>\n",
       "      <td>2010-07-06</td>\n",
       "      <td>20.000000</td>\n",
       "      <td>20.00</td>\n",
       "      <td>15.830000</td>\n",
       "      <td>16.110001</td>\n",
       "      <td>16.110001</td>\n",
       "      <td>6866900</td>\n",
       "    </tr>\n",
       "  </tbody>\n",
       "</table>\n",
       "</div>"
      ],
      "text/plain": [
       "         Date       Open   High        Low      Close  Adj Close    Volume\n",
       "0  2010-06-29  19.000000  25.00  17.540001  23.889999  23.889999  18766300\n",
       "1  2010-06-30  25.790001  30.42  23.299999  23.830000  23.830000  17187100\n",
       "2  2010-07-01  25.000000  25.92  20.270000  21.959999  21.959999   8218800\n",
       "3  2010-07-02  23.000000  23.10  18.709999  19.200001  19.200001   5139800\n",
       "4  2010-07-06  20.000000  20.00  15.830000  16.110001  16.110001   6866900"
      ]
     },
     "execution_count": 12,
     "metadata": {},
     "output_type": "execute_result"
    }
   ],
   "source": [
    "# head(x) дает взглянуть на x первых строк\n",
    "\n",
    "df.head()"
   ]
  },
  {
   "cell_type": "markdown",
   "id": "ec3b0a7b",
   "metadata": {},
   "source": [
    "Тоже самое что и `head` только с конца"
   ]
  },
  {
   "cell_type": "code",
   "execution_count": 13,
   "id": "5FivPKCqRFS0",
   "metadata": {
    "colab": {
     "base_uri": "https://localhost:8080/",
     "height": 293
    },
    "id": "5FivPKCqRFS0",
    "outputId": "4e2a4081-82e3-4a2f-9e5b-0d52af764e74"
   },
   "outputs": [
    {
     "data": {
      "text/html": [
       "<div>\n",
       "<style scoped>\n",
       "    .dataframe tbody tr th:only-of-type {\n",
       "        vertical-align: middle;\n",
       "    }\n",
       "\n",
       "    .dataframe tbody tr th {\n",
       "        vertical-align: top;\n",
       "    }\n",
       "\n",
       "    .dataframe thead th {\n",
       "        text-align: right;\n",
       "    }\n",
       "</style>\n",
       "<table border=\"1\" class=\"dataframe\">\n",
       "  <thead>\n",
       "    <tr style=\"text-align: right;\">\n",
       "      <th></th>\n",
       "      <th>Date</th>\n",
       "      <th>Open</th>\n",
       "      <th>High</th>\n",
       "      <th>Low</th>\n",
       "      <th>Close</th>\n",
       "      <th>Adj Close</th>\n",
       "      <th>Volume</th>\n",
       "    </tr>\n",
       "  </thead>\n",
       "  <tbody>\n",
       "    <tr>\n",
       "      <th>2411</th>\n",
       "      <td>2020-01-28</td>\n",
       "      <td>568.489990</td>\n",
       "      <td>576.809998</td>\n",
       "      <td>558.080017</td>\n",
       "      <td>566.900024</td>\n",
       "      <td>566.900024</td>\n",
       "      <td>11788500</td>\n",
       "    </tr>\n",
       "    <tr>\n",
       "      <th>2412</th>\n",
       "      <td>2020-01-29</td>\n",
       "      <td>575.690002</td>\n",
       "      <td>589.799988</td>\n",
       "      <td>567.429993</td>\n",
       "      <td>580.989990</td>\n",
       "      <td>580.989990</td>\n",
       "      <td>17801500</td>\n",
       "    </tr>\n",
       "    <tr>\n",
       "      <th>2413</th>\n",
       "      <td>2020-01-30</td>\n",
       "      <td>632.419983</td>\n",
       "      <td>650.880005</td>\n",
       "      <td>618.000000</td>\n",
       "      <td>640.809998</td>\n",
       "      <td>640.809998</td>\n",
       "      <td>29005700</td>\n",
       "    </tr>\n",
       "    <tr>\n",
       "      <th>2414</th>\n",
       "      <td>2020-01-31</td>\n",
       "      <td>640.000000</td>\n",
       "      <td>653.000000</td>\n",
       "      <td>632.520020</td>\n",
       "      <td>650.570007</td>\n",
       "      <td>650.570007</td>\n",
       "      <td>15719300</td>\n",
       "    </tr>\n",
       "    <tr>\n",
       "      <th>2415</th>\n",
       "      <td>2020-02-03</td>\n",
       "      <td>673.690002</td>\n",
       "      <td>786.140015</td>\n",
       "      <td>673.520020</td>\n",
       "      <td>780.000000</td>\n",
       "      <td>780.000000</td>\n",
       "      <td>47065000</td>\n",
       "    </tr>\n",
       "  </tbody>\n",
       "</table>\n",
       "</div>"
      ],
      "text/plain": [
       "            Date        Open        High         Low       Close   Adj Close  \\\n",
       "2411  2020-01-28  568.489990  576.809998  558.080017  566.900024  566.900024   \n",
       "2412  2020-01-29  575.690002  589.799988  567.429993  580.989990  580.989990   \n",
       "2413  2020-01-30  632.419983  650.880005  618.000000  640.809998  640.809998   \n",
       "2414  2020-01-31  640.000000  653.000000  632.520020  650.570007  650.570007   \n",
       "2415  2020-02-03  673.690002  786.140015  673.520020  780.000000  780.000000   \n",
       "\n",
       "        Volume  \n",
       "2411  11788500  \n",
       "2412  17801500  \n",
       "2413  29005700  \n",
       "2414  15719300  \n",
       "2415  47065000  "
      ]
     },
     "execution_count": 13,
     "metadata": {},
     "output_type": "execute_result"
    }
   ],
   "source": [
    "df.tail()"
   ]
  },
  {
   "cell_type": "markdown",
   "id": "1484adf6",
   "metadata": {},
   "source": [
    "При помощи функции `info()` можно взглянуть на общую информацию о наборе данных. "
   ]
  },
  {
   "cell_type": "code",
   "execution_count": 14,
   "id": "84283b6e",
   "metadata": {
    "colab": {
     "base_uri": "https://localhost:8080/"
    },
    "id": "84283b6e",
    "outputId": "79128f3e-6354-4eed-d464-5453a9331f7b"
   },
   "outputs": [
    {
     "name": "stdout",
     "output_type": "stream",
     "text": [
      "<class 'pandas.core.frame.DataFrame'>\n",
      "RangeIndex: 2416 entries, 0 to 2415\n",
      "Data columns (total 7 columns):\n",
      " #   Column     Non-Null Count  Dtype  \n",
      "---  ------     --------------  -----  \n",
      " 0   Date       2416 non-null   object \n",
      " 1   Open       2416 non-null   float64\n",
      " 2   High       2416 non-null   float64\n",
      " 3   Low        2416 non-null   float64\n",
      " 4   Close      2416 non-null   float64\n",
      " 5   Adj Close  2416 non-null   float64\n",
      " 6   Volume     2416 non-null   int64  \n",
      "dtypes: float64(5), int64(1), object(1)\n",
      "memory usage: 132.2+ KB\n"
     ]
    }
   ],
   "source": [
    "#info() сразу дает информацию о типах данных и количестве NaN значений\n",
    "\n",
    "df.info()"
   ]
  },
  {
   "cell_type": "markdown",
   "id": "a77e7ab9",
   "metadata": {},
   "source": [
    "Доступ к конкретным колонкам, можно получить просто указав из как в словаре. Вам возратиться объект `Series`"
   ]
  },
  {
   "cell_type": "code",
   "execution_count": 15,
   "id": "NXRm7RJeRD__",
   "metadata": {
    "id": "NXRm7RJeRD__"
   },
   "outputs": [
    {
     "data": {
      "text/plain": [
       "0       18766300\n",
       "1       17187100\n",
       "2        8218800\n",
       "3        5139800\n",
       "4        6866900\n",
       "          ...   \n",
       "2411    11788500\n",
       "2412    17801500\n",
       "2413    29005700\n",
       "2414    15719300\n",
       "2415    47065000\n",
       "Name: Volume, Length: 2416, dtype: int64"
      ]
     },
     "execution_count": 15,
     "metadata": {},
     "output_type": "execute_result"
    }
   ],
   "source": [
    "df[\"Volume\"]"
   ]
  },
  {
   "cell_type": "code",
   "execution_count": 16,
   "id": "b9961f99",
   "metadata": {
    "colab": {
     "base_uri": "https://localhost:8080/"
    },
    "id": "b9961f99",
    "outputId": "6470f69d-d031-4c25-c667-2515147ef1c5"
   },
   "outputs": [
    {
     "data": {
      "text/plain": [
       "0       2010-06-29\n",
       "1       2010-06-30\n",
       "2       2010-07-01\n",
       "3       2010-07-02\n",
       "4       2010-07-06\n",
       "           ...    \n",
       "2411    2020-01-28\n",
       "2412    2020-01-29\n",
       "2413    2020-01-30\n",
       "2414    2020-01-31\n",
       "2415    2020-02-03\n",
       "Name: Date, Length: 2416, dtype: object"
      ]
     },
     "execution_count": 16,
     "metadata": {},
     "output_type": "execute_result"
    }
   ],
   "source": [
    "# Чтобы посмотреть на колонку, надо указать ее название в ковычках и квадратных скобках\n",
    "\n",
    "df['Date']"
   ]
  },
  {
   "cell_type": "code",
   "execution_count": 17,
   "id": "bNWzmIAM1UAB",
   "metadata": {
    "colab": {
     "base_uri": "https://localhost:8080/"
    },
    "id": "bNWzmIAM1UAB",
    "outputId": "f8573cd7-bd4f-467b-f9b5-6b3d844998d4"
   },
   "outputs": [
    {
     "data": {
      "text/plain": [
       "0       2010-06-29\n",
       "1       2010-06-30\n",
       "2       2010-07-01\n",
       "3       2010-07-02\n",
       "4       2010-07-06\n",
       "           ...    \n",
       "2411    2020-01-28\n",
       "2412    2020-01-29\n",
       "2413    2020-01-30\n",
       "2414    2020-01-31\n",
       "2415    2020-02-03\n",
       "Name: Date, Length: 2416, dtype: object"
      ]
     },
     "execution_count": 17,
     "metadata": {},
     "output_type": "execute_result"
    }
   ],
   "source": [
    "# либо через точку\n",
    "\n",
    "df.Date"
   ]
  },
  {
   "cell_type": "markdown",
   "id": "c8e14dd3",
   "metadata": {},
   "source": [
    "Так же если вы хотите получить несколко колонок сразу, то необходимо указать их в двойных квадратных скобках `[[ ]]`. \n",
    "\n",
    "Пример ниже"
   ]
  },
  {
   "cell_type": "code",
   "execution_count": 18,
   "id": "f040f045",
   "metadata": {
    "colab": {
     "base_uri": "https://localhost:8080/",
     "height": 423
    },
    "id": "f040f045",
    "outputId": "0ae6d909-1d78-48f1-ae92-c3b412d60c10"
   },
   "outputs": [
    {
     "data": {
      "text/html": [
       "<div>\n",
       "<style scoped>\n",
       "    .dataframe tbody tr th:only-of-type {\n",
       "        vertical-align: middle;\n",
       "    }\n",
       "\n",
       "    .dataframe tbody tr th {\n",
       "        vertical-align: top;\n",
       "    }\n",
       "\n",
       "    .dataframe thead th {\n",
       "        text-align: right;\n",
       "    }\n",
       "</style>\n",
       "<table border=\"1\" class=\"dataframe\">\n",
       "  <thead>\n",
       "    <tr style=\"text-align: right;\">\n",
       "      <th></th>\n",
       "      <th>Date</th>\n",
       "      <th>Volume</th>\n",
       "      <th>Close</th>\n",
       "    </tr>\n",
       "  </thead>\n",
       "  <tbody>\n",
       "    <tr>\n",
       "      <th>0</th>\n",
       "      <td>2010-06-29</td>\n",
       "      <td>18766300</td>\n",
       "      <td>23.889999</td>\n",
       "    </tr>\n",
       "    <tr>\n",
       "      <th>1</th>\n",
       "      <td>2010-06-30</td>\n",
       "      <td>17187100</td>\n",
       "      <td>23.830000</td>\n",
       "    </tr>\n",
       "    <tr>\n",
       "      <th>2</th>\n",
       "      <td>2010-07-01</td>\n",
       "      <td>8218800</td>\n",
       "      <td>21.959999</td>\n",
       "    </tr>\n",
       "    <tr>\n",
       "      <th>3</th>\n",
       "      <td>2010-07-02</td>\n",
       "      <td>5139800</td>\n",
       "      <td>19.200001</td>\n",
       "    </tr>\n",
       "    <tr>\n",
       "      <th>4</th>\n",
       "      <td>2010-07-06</td>\n",
       "      <td>6866900</td>\n",
       "      <td>16.110001</td>\n",
       "    </tr>\n",
       "    <tr>\n",
       "      <th>...</th>\n",
       "      <td>...</td>\n",
       "      <td>...</td>\n",
       "      <td>...</td>\n",
       "    </tr>\n",
       "    <tr>\n",
       "      <th>2411</th>\n",
       "      <td>2020-01-28</td>\n",
       "      <td>11788500</td>\n",
       "      <td>566.900024</td>\n",
       "    </tr>\n",
       "    <tr>\n",
       "      <th>2412</th>\n",
       "      <td>2020-01-29</td>\n",
       "      <td>17801500</td>\n",
       "      <td>580.989990</td>\n",
       "    </tr>\n",
       "    <tr>\n",
       "      <th>2413</th>\n",
       "      <td>2020-01-30</td>\n",
       "      <td>29005700</td>\n",
       "      <td>640.809998</td>\n",
       "    </tr>\n",
       "    <tr>\n",
       "      <th>2414</th>\n",
       "      <td>2020-01-31</td>\n",
       "      <td>15719300</td>\n",
       "      <td>650.570007</td>\n",
       "    </tr>\n",
       "    <tr>\n",
       "      <th>2415</th>\n",
       "      <td>2020-02-03</td>\n",
       "      <td>47065000</td>\n",
       "      <td>780.000000</td>\n",
       "    </tr>\n",
       "  </tbody>\n",
       "</table>\n",
       "<p>2416 rows × 3 columns</p>\n",
       "</div>"
      ],
      "text/plain": [
       "            Date    Volume       Close\n",
       "0     2010-06-29  18766300   23.889999\n",
       "1     2010-06-30  17187100   23.830000\n",
       "2     2010-07-01   8218800   21.959999\n",
       "3     2010-07-02   5139800   19.200001\n",
       "4     2010-07-06   6866900   16.110001\n",
       "...          ...       ...         ...\n",
       "2411  2020-01-28  11788500  566.900024\n",
       "2412  2020-01-29  17801500  580.989990\n",
       "2413  2020-01-30  29005700  640.809998\n",
       "2414  2020-01-31  15719300  650.570007\n",
       "2415  2020-02-03  47065000  780.000000\n",
       "\n",
       "[2416 rows x 3 columns]"
      ]
     },
     "execution_count": 18,
     "metadata": {},
     "output_type": "execute_result"
    }
   ],
   "source": [
    "df[['Date', 'Volume', \"Close\"]]"
   ]
  },
  {
   "cell_type": "markdown",
   "id": "bb7b5b79",
   "metadata": {},
   "source": [
    "Получить можно не только колонку но и всю строку по последовательности, через экземпляр свойства (property) `loc`"
   ]
  },
  {
   "cell_type": "code",
   "execution_count": 21,
   "id": "c2d78f0a",
   "metadata": {
    "id": "c2d78f0a",
    "outputId": "8925edd7-c89a-467a-fac4-fcc72142e0ac"
   },
   "outputs": [
    {
     "data": {
      "text/plain": [
       "Date         2010-06-30\n",
       "Open          25.790001\n",
       "High              30.42\n",
       "Low           23.299999\n",
       "Close             23.83\n",
       "Adj Close         23.83\n",
       "Volume         17187100\n",
       "Name: 1, dtype: object"
      ]
     },
     "execution_count": 21,
     "metadata": {},
     "output_type": "execute_result"
    }
   ],
   "source": [
    "# Строка с указанным номером\n",
    "\n",
    "df.loc[1]"
   ]
  },
  {
   "cell_type": "code",
   "execution_count": 22,
   "id": "f4e6eefe",
   "metadata": {},
   "outputs": [],
   "source": [
    "index = [100,101,1231, 2199]"
   ]
  },
  {
   "cell_type": "markdown",
   "id": "3dca2f9d",
   "metadata": {},
   "source": [
    "Или же можем получить несколько строк сразу передав массив"
   ]
  },
  {
   "cell_type": "code",
   "execution_count": 49,
   "id": "a960e5d9",
   "metadata": {
    "id": "a960e5d9",
    "outputId": "215e5200-10cf-4e42-a131-715280357de5"
   },
   "outputs": [
    {
     "data": {
      "text/html": [
       "<div>\n",
       "<style scoped>\n",
       "    .dataframe tbody tr th:only-of-type {\n",
       "        vertical-align: middle;\n",
       "    }\n",
       "\n",
       "    .dataframe tbody tr th {\n",
       "        vertical-align: top;\n",
       "    }\n",
       "\n",
       "    .dataframe thead th {\n",
       "        text-align: right;\n",
       "    }\n",
       "</style>\n",
       "<table border=\"1\" class=\"dataframe\">\n",
       "  <thead>\n",
       "    <tr style=\"text-align: right;\">\n",
       "      <th></th>\n",
       "      <th>Date</th>\n",
       "      <th>Open</th>\n",
       "      <th>High</th>\n",
       "      <th>Low</th>\n",
       "      <th>Close</th>\n",
       "      <th>Adj Close</th>\n",
       "      <th>Volume</th>\n",
       "    </tr>\n",
       "  </thead>\n",
       "  <tbody>\n",
       "    <tr>\n",
       "      <th>100</th>\n",
       "      <td>2010-11-18</td>\n",
       "      <td>30.670000</td>\n",
       "      <td>30.740000</td>\n",
       "      <td>28.920000</td>\n",
       "      <td>29.889999</td>\n",
       "      <td>29.889999</td>\n",
       "      <td>956100</td>\n",
       "    </tr>\n",
       "    <tr>\n",
       "      <th>101</th>\n",
       "      <td>2010-11-19</td>\n",
       "      <td>30.160000</td>\n",
       "      <td>31.370001</td>\n",
       "      <td>29.700001</td>\n",
       "      <td>30.990000</td>\n",
       "      <td>30.990000</td>\n",
       "      <td>1150500</td>\n",
       "    </tr>\n",
       "    <tr>\n",
       "      <th>1231</th>\n",
       "      <td>2015-05-20</td>\n",
       "      <td>247.130005</td>\n",
       "      <td>247.740005</td>\n",
       "      <td>241.369995</td>\n",
       "      <td>244.350006</td>\n",
       "      <td>244.350006</td>\n",
       "      <td>3755600</td>\n",
       "    </tr>\n",
       "    <tr>\n",
       "      <th>2199</th>\n",
       "      <td>2019-03-26</td>\n",
       "      <td>264.440002</td>\n",
       "      <td>270.260010</td>\n",
       "      <td>264.429993</td>\n",
       "      <td>267.769989</td>\n",
       "      <td>267.769989</td>\n",
       "      <td>7350900</td>\n",
       "    </tr>\n",
       "  </tbody>\n",
       "</table>\n",
       "</div>"
      ],
      "text/plain": [
       "            Date        Open        High         Low       Close   Adj Close  \\\n",
       "100   2010-11-18   30.670000   30.740000   28.920000   29.889999   29.889999   \n",
       "101   2010-11-19   30.160000   31.370001   29.700001   30.990000   30.990000   \n",
       "1231  2015-05-20  247.130005  247.740005  241.369995  244.350006  244.350006   \n",
       "2199  2019-03-26  264.440002  270.260010  264.429993  267.769989  267.769989   \n",
       "\n",
       "       Volume  \n",
       "100    956100  \n",
       "101   1150500  \n",
       "1231  3755600  \n",
       "2199  7350900  "
      ]
     },
     "execution_count": 49,
     "metadata": {},
     "output_type": "execute_result"
    }
   ],
   "source": [
    "# Либо строки\n",
    "\n",
    "df.loc[index]"
   ]
  },
  {
   "cell_type": "markdown",
   "id": "60f40b43",
   "metadata": {},
   "source": [
    "Получить можно не только колонку но и всю строку по индексу, через экземпляр свойства (property) `iloc`"
   ]
  },
  {
   "cell_type": "code",
   "execution_count": null,
   "id": "9ba7214a",
   "metadata": {
    "id": "9ba7214a",
    "outputId": "f7f2ec65-3feb-4494-c726-c299865ff5a2"
   },
   "outputs": [
    {
     "data": {
      "text/plain": [
       "Date         2010-07-07\n",
       "Open              3.280\n",
       "High              3.326\n",
       "Low               2.996\n",
       "Close             3.160\n",
       "Adj Close         3.160\n",
       "Volume         34608500\n",
       "Name: 5, dtype: object"
      ]
     },
     "execution_count": 281,
     "metadata": {},
     "output_type": "execute_result"
    }
   ],
   "source": [
    "# iloc - строка с указанным индексом\n",
    "\n",
    "df.iloc[5]"
   ]
  },
  {
   "cell_type": "code",
   "execution_count": null,
   "id": "2f2dab2c",
   "metadata": {
    "id": "2f2dab2c",
    "outputId": "e47595bc-265d-45af-96c1-f3da9200d2e0"
   },
   "outputs": [
    {
     "data": {
      "text/html": [
       "<div>\n",
       "<style scoped>\n",
       "    .dataframe tbody tr th:only-of-type {\n",
       "        vertical-align: middle;\n",
       "    }\n",
       "\n",
       "    .dataframe tbody tr th {\n",
       "        vertical-align: top;\n",
       "    }\n",
       "\n",
       "    .dataframe thead th {\n",
       "        text-align: right;\n",
       "    }\n",
       "</style>\n",
       "<table border=\"1\" class=\"dataframe\">\n",
       "  <thead>\n",
       "    <tr style=\"text-align: right;\">\n",
       "      <th></th>\n",
       "      <th>Date</th>\n",
       "      <th>Open</th>\n",
       "      <th>High</th>\n",
       "      <th>Low</th>\n",
       "      <th>Close</th>\n",
       "      <th>Adj Close</th>\n",
       "      <th>Volume</th>\n",
       "    </tr>\n",
       "  </thead>\n",
       "  <tbody>\n",
       "    <tr>\n",
       "      <th>5</th>\n",
       "      <td>2010-07-07</td>\n",
       "      <td>3.280</td>\n",
       "      <td>3.326</td>\n",
       "      <td>2.996</td>\n",
       "      <td>3.16</td>\n",
       "      <td>3.16</td>\n",
       "      <td>34608500</td>\n",
       "    </tr>\n",
       "    <tr>\n",
       "      <th>7</th>\n",
       "      <td>2010-07-09</td>\n",
       "      <td>3.516</td>\n",
       "      <td>3.580</td>\n",
       "      <td>3.310</td>\n",
       "      <td>3.48</td>\n",
       "      <td>3.48</td>\n",
       "      <td>20253000</td>\n",
       "    </tr>\n",
       "  </tbody>\n",
       "</table>\n",
       "</div>"
      ],
      "text/plain": [
       "         Date   Open   High    Low  Close  Adj Close    Volume\n",
       "5  2010-07-07  3.280  3.326  2.996   3.16       3.16  34608500\n",
       "7  2010-07-09  3.516  3.580  3.310   3.48       3.48  20253000"
      ]
     },
     "execution_count": 282,
     "metadata": {},
     "output_type": "execute_result"
    }
   ],
   "source": [
    "df.iloc[[5, 7]]"
   ]
  },
  {
   "cell_type": "code",
   "execution_count": 53,
   "id": "37831453",
   "metadata": {
    "id": "37831453",
    "outputId": "65569efa-9ae4-427c-eeab-39de79b37c92"
   },
   "outputs": [
    {
     "data": {
      "text/html": [
       "<div>\n",
       "<style scoped>\n",
       "    .dataframe tbody tr th:only-of-type {\n",
       "        vertical-align: middle;\n",
       "    }\n",
       "\n",
       "    .dataframe tbody tr th {\n",
       "        vertical-align: top;\n",
       "    }\n",
       "\n",
       "    .dataframe thead th {\n",
       "        text-align: right;\n",
       "    }\n",
       "</style>\n",
       "<table border=\"1\" class=\"dataframe\">\n",
       "  <thead>\n",
       "    <tr style=\"text-align: right;\">\n",
       "      <th></th>\n",
       "      <th>Date</th>\n",
       "      <th>Open</th>\n",
       "      <th>High</th>\n",
       "      <th>Low</th>\n",
       "      <th>Close</th>\n",
       "      <th>Adj Close</th>\n",
       "      <th>Volume</th>\n",
       "    </tr>\n",
       "  </thead>\n",
       "  <tbody>\n",
       "    <tr>\n",
       "      <th>20</th>\n",
       "      <td>2010-07-28</td>\n",
       "      <td>20.549999</td>\n",
       "      <td>20.900000</td>\n",
       "      <td>20.510000</td>\n",
       "      <td>20.719999</td>\n",
       "      <td>20.719999</td>\n",
       "      <td>467200</td>\n",
       "    </tr>\n",
       "    <tr>\n",
       "      <th>21</th>\n",
       "      <td>2010-07-29</td>\n",
       "      <td>20.770000</td>\n",
       "      <td>20.879999</td>\n",
       "      <td>20.000000</td>\n",
       "      <td>20.350000</td>\n",
       "      <td>20.350000</td>\n",
       "      <td>616000</td>\n",
       "    </tr>\n",
       "    <tr>\n",
       "      <th>22</th>\n",
       "      <td>2010-07-30</td>\n",
       "      <td>20.200001</td>\n",
       "      <td>20.440001</td>\n",
       "      <td>19.549999</td>\n",
       "      <td>19.940001</td>\n",
       "      <td>19.940001</td>\n",
       "      <td>426900</td>\n",
       "    </tr>\n",
       "    <tr>\n",
       "      <th>23</th>\n",
       "      <td>2010-08-02</td>\n",
       "      <td>20.500000</td>\n",
       "      <td>20.969999</td>\n",
       "      <td>20.330000</td>\n",
       "      <td>20.920000</td>\n",
       "      <td>20.920000</td>\n",
       "      <td>718100</td>\n",
       "    </tr>\n",
       "    <tr>\n",
       "      <th>24</th>\n",
       "      <td>2010-08-03</td>\n",
       "      <td>21.000000</td>\n",
       "      <td>21.950001</td>\n",
       "      <td>20.820000</td>\n",
       "      <td>21.950001</td>\n",
       "      <td>21.950001</td>\n",
       "      <td>1230500</td>\n",
       "    </tr>\n",
       "    <tr>\n",
       "      <th>25</th>\n",
       "      <td>2010-08-04</td>\n",
       "      <td>21.950001</td>\n",
       "      <td>22.180000</td>\n",
       "      <td>20.850000</td>\n",
       "      <td>21.260000</td>\n",
       "      <td>21.260000</td>\n",
       "      <td>913000</td>\n",
       "    </tr>\n",
       "    <tr>\n",
       "      <th>26</th>\n",
       "      <td>2010-08-05</td>\n",
       "      <td>21.540001</td>\n",
       "      <td>21.549999</td>\n",
       "      <td>20.049999</td>\n",
       "      <td>20.450001</td>\n",
       "      <td>20.450001</td>\n",
       "      <td>796200</td>\n",
       "    </tr>\n",
       "    <tr>\n",
       "      <th>27</th>\n",
       "      <td>2010-08-06</td>\n",
       "      <td>20.100000</td>\n",
       "      <td>20.160000</td>\n",
       "      <td>19.520000</td>\n",
       "      <td>19.590000</td>\n",
       "      <td>19.590000</td>\n",
       "      <td>741900</td>\n",
       "    </tr>\n",
       "    <tr>\n",
       "      <th>28</th>\n",
       "      <td>2010-08-09</td>\n",
       "      <td>19.900000</td>\n",
       "      <td>19.980000</td>\n",
       "      <td>19.450001</td>\n",
       "      <td>19.600000</td>\n",
       "      <td>19.600000</td>\n",
       "      <td>812700</td>\n",
       "    </tr>\n",
       "    <tr>\n",
       "      <th>29</th>\n",
       "      <td>2010-08-10</td>\n",
       "      <td>19.650000</td>\n",
       "      <td>19.650000</td>\n",
       "      <td>18.820000</td>\n",
       "      <td>19.030001</td>\n",
       "      <td>19.030001</td>\n",
       "      <td>1281300</td>\n",
       "    </tr>\n",
       "    <tr>\n",
       "      <th>30</th>\n",
       "      <td>2010-08-11</td>\n",
       "      <td>18.690001</td>\n",
       "      <td>18.879999</td>\n",
       "      <td>17.850000</td>\n",
       "      <td>17.900000</td>\n",
       "      <td>17.900000</td>\n",
       "      <td>797600</td>\n",
       "    </tr>\n",
       "    <tr>\n",
       "      <th>31</th>\n",
       "      <td>2010-08-12</td>\n",
       "      <td>17.799999</td>\n",
       "      <td>17.900000</td>\n",
       "      <td>17.389999</td>\n",
       "      <td>17.600000</td>\n",
       "      <td>17.600000</td>\n",
       "      <td>691000</td>\n",
       "    </tr>\n",
       "    <tr>\n",
       "      <th>32</th>\n",
       "      <td>2010-08-13</td>\n",
       "      <td>18.180000</td>\n",
       "      <td>18.450001</td>\n",
       "      <td>17.660000</td>\n",
       "      <td>18.320000</td>\n",
       "      <td>18.320000</td>\n",
       "      <td>634000</td>\n",
       "    </tr>\n",
       "    <tr>\n",
       "      <th>33</th>\n",
       "      <td>2010-08-16</td>\n",
       "      <td>18.450001</td>\n",
       "      <td>18.799999</td>\n",
       "      <td>18.260000</td>\n",
       "      <td>18.780001</td>\n",
       "      <td>18.780001</td>\n",
       "      <td>485800</td>\n",
       "    </tr>\n",
       "    <tr>\n",
       "      <th>34</th>\n",
       "      <td>2010-08-17</td>\n",
       "      <td>18.959999</td>\n",
       "      <td>19.400000</td>\n",
       "      <td>18.780001</td>\n",
       "      <td>19.150000</td>\n",
       "      <td>19.150000</td>\n",
       "      <td>447900</td>\n",
       "    </tr>\n",
       "    <tr>\n",
       "      <th>35</th>\n",
       "      <td>2010-08-18</td>\n",
       "      <td>19.590000</td>\n",
       "      <td>19.590000</td>\n",
       "      <td>18.600000</td>\n",
       "      <td>18.770000</td>\n",
       "      <td>18.770000</td>\n",
       "      <td>601300</td>\n",
       "    </tr>\n",
       "    <tr>\n",
       "      <th>36</th>\n",
       "      <td>2010-08-19</td>\n",
       "      <td>18.540001</td>\n",
       "      <td>19.250000</td>\n",
       "      <td>18.330000</td>\n",
       "      <td>18.790001</td>\n",
       "      <td>18.790001</td>\n",
       "      <td>579100</td>\n",
       "    </tr>\n",
       "    <tr>\n",
       "      <th>37</th>\n",
       "      <td>2010-08-20</td>\n",
       "      <td>18.650000</td>\n",
       "      <td>19.110001</td>\n",
       "      <td>18.510000</td>\n",
       "      <td>19.100000</td>\n",
       "      <td>19.100000</td>\n",
       "      <td>296000</td>\n",
       "    </tr>\n",
       "    <tr>\n",
       "      <th>38</th>\n",
       "      <td>2010-08-23</td>\n",
       "      <td>19.090000</td>\n",
       "      <td>20.389999</td>\n",
       "      <td>19.000000</td>\n",
       "      <td>20.129999</td>\n",
       "      <td>20.129999</td>\n",
       "      <td>1088100</td>\n",
       "    </tr>\n",
       "    <tr>\n",
       "      <th>39</th>\n",
       "      <td>2010-08-24</td>\n",
       "      <td>19.250000</td>\n",
       "      <td>19.709999</td>\n",
       "      <td>18.950001</td>\n",
       "      <td>19.200001</td>\n",
       "      <td>19.200001</td>\n",
       "      <td>673100</td>\n",
       "    </tr>\n",
       "    <tr>\n",
       "      <th>40</th>\n",
       "      <td>2010-08-25</td>\n",
       "      <td>19.160000</td>\n",
       "      <td>19.980000</td>\n",
       "      <td>18.559999</td>\n",
       "      <td>19.900000</td>\n",
       "      <td>19.900000</td>\n",
       "      <td>503300</td>\n",
       "    </tr>\n",
       "  </tbody>\n",
       "</table>\n",
       "</div>"
      ],
      "text/plain": [
       "          Date       Open       High        Low      Close  Adj Close   Volume\n",
       "20  2010-07-28  20.549999  20.900000  20.510000  20.719999  20.719999   467200\n",
       "21  2010-07-29  20.770000  20.879999  20.000000  20.350000  20.350000   616000\n",
       "22  2010-07-30  20.200001  20.440001  19.549999  19.940001  19.940001   426900\n",
       "23  2010-08-02  20.500000  20.969999  20.330000  20.920000  20.920000   718100\n",
       "24  2010-08-03  21.000000  21.950001  20.820000  21.950001  21.950001  1230500\n",
       "25  2010-08-04  21.950001  22.180000  20.850000  21.260000  21.260000   913000\n",
       "26  2010-08-05  21.540001  21.549999  20.049999  20.450001  20.450001   796200\n",
       "27  2010-08-06  20.100000  20.160000  19.520000  19.590000  19.590000   741900\n",
       "28  2010-08-09  19.900000  19.980000  19.450001  19.600000  19.600000   812700\n",
       "29  2010-08-10  19.650000  19.650000  18.820000  19.030001  19.030001  1281300\n",
       "30  2010-08-11  18.690001  18.879999  17.850000  17.900000  17.900000   797600\n",
       "31  2010-08-12  17.799999  17.900000  17.389999  17.600000  17.600000   691000\n",
       "32  2010-08-13  18.180000  18.450001  17.660000  18.320000  18.320000   634000\n",
       "33  2010-08-16  18.450001  18.799999  18.260000  18.780001  18.780001   485800\n",
       "34  2010-08-17  18.959999  19.400000  18.780001  19.150000  19.150000   447900\n",
       "35  2010-08-18  19.590000  19.590000  18.600000  18.770000  18.770000   601300\n",
       "36  2010-08-19  18.540001  19.250000  18.330000  18.790001  18.790001   579100\n",
       "37  2010-08-20  18.650000  19.110001  18.510000  19.100000  19.100000   296000\n",
       "38  2010-08-23  19.090000  20.389999  19.000000  20.129999  20.129999  1088100\n",
       "39  2010-08-24  19.250000  19.709999  18.950001  19.200001  19.200001   673100\n",
       "40  2010-08-25  19.160000  19.980000  18.559999  19.900000  19.900000   503300"
      ]
     },
     "execution_count": 53,
     "metadata": {},
     "output_type": "execute_result"
    }
   ],
   "source": [
    "df.iloc[20:41]"
   ]
  },
  {
   "cell_type": "code",
   "execution_count": null,
   "id": "f4a95e5a",
   "metadata": {
    "id": "f4a95e5a",
    "outputId": "d1adf574-14f6-465d-b56b-a7d2f399c2b3"
   },
   "outputs": [
    {
     "data": {
      "text/html": [
       "<div>\n",
       "<style scoped>\n",
       "    .dataframe tbody tr th:only-of-type {\n",
       "        vertical-align: middle;\n",
       "    }\n",
       "\n",
       "    .dataframe tbody tr th {\n",
       "        vertical-align: top;\n",
       "    }\n",
       "\n",
       "    .dataframe thead th {\n",
       "        text-align: right;\n",
       "    }\n",
       "</style>\n",
       "<table border=\"1\" class=\"dataframe\">\n",
       "  <thead>\n",
       "    <tr style=\"text-align: right;\">\n",
       "      <th></th>\n",
       "      <th>Date</th>\n",
       "      <th>Open</th>\n",
       "      <th>High</th>\n",
       "      <th>Low</th>\n",
       "      <th>Close</th>\n",
       "      <th>Adj Close</th>\n",
       "      <th>Volume</th>\n",
       "    </tr>\n",
       "  </thead>\n",
       "  <tbody>\n",
       "    <tr>\n",
       "      <th>50</th>\n",
       "      <td>2010-09-09</td>\n",
       "      <td>4.200</td>\n",
       "      <td>4.210</td>\n",
       "      <td>4.138</td>\n",
       "      <td>4.142</td>\n",
       "      <td>4.142</td>\n",
       "      <td>1881000</td>\n",
       "    </tr>\n",
       "    <tr>\n",
       "      <th>51</th>\n",
       "      <td>2010-09-10</td>\n",
       "      <td>4.150</td>\n",
       "      <td>4.186</td>\n",
       "      <td>3.952</td>\n",
       "      <td>4.034</td>\n",
       "      <td>4.034</td>\n",
       "      <td>1933000</td>\n",
       "    </tr>\n",
       "    <tr>\n",
       "      <th>52</th>\n",
       "      <td>2010-09-13</td>\n",
       "      <td>4.178</td>\n",
       "      <td>4.180</td>\n",
       "      <td>4.100</td>\n",
       "      <td>4.144</td>\n",
       "      <td>4.144</td>\n",
       "      <td>1804000</td>\n",
       "    </tr>\n",
       "    <tr>\n",
       "      <th>53</th>\n",
       "      <td>2010-09-14</td>\n",
       "      <td>4.108</td>\n",
       "      <td>4.320</td>\n",
       "      <td>4.106</td>\n",
       "      <td>4.224</td>\n",
       "      <td>4.224</td>\n",
       "      <td>3273500</td>\n",
       "    </tr>\n",
       "    <tr>\n",
       "      <th>54</th>\n",
       "      <td>2010-09-15</td>\n",
       "      <td>4.196</td>\n",
       "      <td>4.400</td>\n",
       "      <td>4.158</td>\n",
       "      <td>4.396</td>\n",
       "      <td>4.396</td>\n",
       "      <td>3423000</td>\n",
       "    </tr>\n",
       "    <tr>\n",
       "      <th>55</th>\n",
       "      <td>2010-09-16</td>\n",
       "      <td>4.430</td>\n",
       "      <td>4.632</td>\n",
       "      <td>4.168</td>\n",
       "      <td>4.188</td>\n",
       "      <td>4.188</td>\n",
       "      <td>13422500</td>\n",
       "    </tr>\n",
       "    <tr>\n",
       "      <th>56</th>\n",
       "      <td>2010-09-17</td>\n",
       "      <td>4.204</td>\n",
       "      <td>4.264</td>\n",
       "      <td>3.960</td>\n",
       "      <td>4.046</td>\n",
       "      <td>4.046</td>\n",
       "      <td>5992500</td>\n",
       "    </tr>\n",
       "    <tr>\n",
       "      <th>57</th>\n",
       "      <td>2010-09-20</td>\n",
       "      <td>4.134</td>\n",
       "      <td>4.270</td>\n",
       "      <td>4.032</td>\n",
       "      <td>4.212</td>\n",
       "      <td>4.212</td>\n",
       "      <td>4737500</td>\n",
       "    </tr>\n",
       "    <tr>\n",
       "      <th>58</th>\n",
       "      <td>2010-09-21</td>\n",
       "      <td>4.178</td>\n",
       "      <td>4.310</td>\n",
       "      <td>4.134</td>\n",
       "      <td>4.154</td>\n",
       "      <td>4.154</td>\n",
       "      <td>3980000</td>\n",
       "    </tr>\n",
       "    <tr>\n",
       "      <th>59</th>\n",
       "      <td>2010-09-22</td>\n",
       "      <td>4.174</td>\n",
       "      <td>4.190</td>\n",
       "      <td>3.960</td>\n",
       "      <td>3.974</td>\n",
       "      <td>3.974</td>\n",
       "      <td>4814500</td>\n",
       "    </tr>\n",
       "    <tr>\n",
       "      <th>60</th>\n",
       "      <td>2010-09-23</td>\n",
       "      <td>3.978</td>\n",
       "      <td>4.028</td>\n",
       "      <td>3.900</td>\n",
       "      <td>3.912</td>\n",
       "      <td>3.912</td>\n",
       "      <td>3340500</td>\n",
       "    </tr>\n",
       "    <tr>\n",
       "      <th>61</th>\n",
       "      <td>2010-09-24</td>\n",
       "      <td>3.990</td>\n",
       "      <td>4.038</td>\n",
       "      <td>3.930</td>\n",
       "      <td>4.020</td>\n",
       "      <td>4.020</td>\n",
       "      <td>2894500</td>\n",
       "    </tr>\n",
       "    <tr>\n",
       "      <th>62</th>\n",
       "      <td>2010-09-27</td>\n",
       "      <td>4.080</td>\n",
       "      <td>4.162</td>\n",
       "      <td>4.010</td>\n",
       "      <td>4.106</td>\n",
       "      <td>4.106</td>\n",
       "      <td>2093000</td>\n",
       "    </tr>\n",
       "    <tr>\n",
       "      <th>63</th>\n",
       "      <td>2010-09-28</td>\n",
       "      <td>4.208</td>\n",
       "      <td>4.298</td>\n",
       "      <td>4.152</td>\n",
       "      <td>4.280</td>\n",
       "      <td>4.280</td>\n",
       "      <td>6072500</td>\n",
       "    </tr>\n",
       "    <tr>\n",
       "      <th>64</th>\n",
       "      <td>2010-09-29</td>\n",
       "      <td>4.238</td>\n",
       "      <td>4.406</td>\n",
       "      <td>4.226</td>\n",
       "      <td>4.396</td>\n",
       "      <td>4.396</td>\n",
       "      <td>9846500</td>\n",
       "    </tr>\n",
       "    <tr>\n",
       "      <th>65</th>\n",
       "      <td>2010-09-30</td>\n",
       "      <td>4.400</td>\n",
       "      <td>4.430</td>\n",
       "      <td>4.038</td>\n",
       "      <td>4.082</td>\n",
       "      <td>4.082</td>\n",
       "      <td>10979000</td>\n",
       "    </tr>\n",
       "    <tr>\n",
       "      <th>66</th>\n",
       "      <td>2010-10-01</td>\n",
       "      <td>4.138</td>\n",
       "      <td>4.150</td>\n",
       "      <td>4.062</td>\n",
       "      <td>4.120</td>\n",
       "      <td>4.120</td>\n",
       "      <td>2988500</td>\n",
       "    </tr>\n",
       "    <tr>\n",
       "      <th>67</th>\n",
       "      <td>2010-10-04</td>\n",
       "      <td>4.086</td>\n",
       "      <td>4.234</td>\n",
       "      <td>4.060</td>\n",
       "      <td>4.198</td>\n",
       "      <td>4.198</td>\n",
       "      <td>3218000</td>\n",
       "    </tr>\n",
       "    <tr>\n",
       "      <th>68</th>\n",
       "      <td>2010-10-05</td>\n",
       "      <td>4.230</td>\n",
       "      <td>4.256</td>\n",
       "      <td>4.202</td>\n",
       "      <td>4.224</td>\n",
       "      <td>4.224</td>\n",
       "      <td>1660000</td>\n",
       "    </tr>\n",
       "    <tr>\n",
       "      <th>69</th>\n",
       "      <td>2010-10-06</td>\n",
       "      <td>4.212</td>\n",
       "      <td>4.252</td>\n",
       "      <td>4.064</td>\n",
       "      <td>4.092</td>\n",
       "      <td>4.092</td>\n",
       "      <td>1567000</td>\n",
       "    </tr>\n",
       "    <tr>\n",
       "      <th>70</th>\n",
       "      <td>2010-10-07</td>\n",
       "      <td>4.114</td>\n",
       "      <td>4.128</td>\n",
       "      <td>4.068</td>\n",
       "      <td>4.086</td>\n",
       "      <td>4.086</td>\n",
       "      <td>705000</td>\n",
       "    </tr>\n",
       "    <tr>\n",
       "      <th>71</th>\n",
       "      <td>2010-10-08</td>\n",
       "      <td>4.086</td>\n",
       "      <td>4.158</td>\n",
       "      <td>4.078</td>\n",
       "      <td>4.086</td>\n",
       "      <td>4.086</td>\n",
       "      <td>1339000</td>\n",
       "    </tr>\n",
       "    <tr>\n",
       "      <th>72</th>\n",
       "      <td>2010-10-11</td>\n",
       "      <td>4.088</td>\n",
       "      <td>4.140</td>\n",
       "      <td>4.014</td>\n",
       "      <td>4.048</td>\n",
       "      <td>4.048</td>\n",
       "      <td>856000</td>\n",
       "    </tr>\n",
       "    <tr>\n",
       "      <th>73</th>\n",
       "      <td>2010-10-12</td>\n",
       "      <td>4.040</td>\n",
       "      <td>4.056</td>\n",
       "      <td>4.006</td>\n",
       "      <td>4.048</td>\n",
       "      <td>4.048</td>\n",
       "      <td>1220000</td>\n",
       "    </tr>\n",
       "    <tr>\n",
       "      <th>74</th>\n",
       "      <td>2010-10-13</td>\n",
       "      <td>4.128</td>\n",
       "      <td>4.170</td>\n",
       "      <td>4.072</td>\n",
       "      <td>4.108</td>\n",
       "      <td>4.108</td>\n",
       "      <td>1591000</td>\n",
       "    </tr>\n",
       "    <tr>\n",
       "      <th>75</th>\n",
       "      <td>2010-10-14</td>\n",
       "      <td>4.200</td>\n",
       "      <td>4.206</td>\n",
       "      <td>4.080</td>\n",
       "      <td>4.150</td>\n",
       "      <td>4.150</td>\n",
       "      <td>1474000</td>\n",
       "    </tr>\n",
       "    <tr>\n",
       "      <th>76</th>\n",
       "      <td>2010-10-15</td>\n",
       "      <td>4.178</td>\n",
       "      <td>4.180</td>\n",
       "      <td>4.050</td>\n",
       "      <td>4.108</td>\n",
       "      <td>4.108</td>\n",
       "      <td>1423500</td>\n",
       "    </tr>\n",
       "    <tr>\n",
       "      <th>77</th>\n",
       "      <td>2010-10-18</td>\n",
       "      <td>4.104</td>\n",
       "      <td>4.128</td>\n",
       "      <td>4.044</td>\n",
       "      <td>4.046</td>\n",
       "      <td>4.046</td>\n",
       "      <td>814000</td>\n",
       "    </tr>\n",
       "    <tr>\n",
       "      <th>78</th>\n",
       "      <td>2010-10-19</td>\n",
       "      <td>4.040</td>\n",
       "      <td>4.082</td>\n",
       "      <td>4.000</td>\n",
       "      <td>4.010</td>\n",
       "      <td>4.010</td>\n",
       "      <td>1226000</td>\n",
       "    </tr>\n",
       "    <tr>\n",
       "      <th>79</th>\n",
       "      <td>2010-10-20</td>\n",
       "      <td>4.032</td>\n",
       "      <td>4.138</td>\n",
       "      <td>4.008</td>\n",
       "      <td>4.130</td>\n",
       "      <td>4.130</td>\n",
       "      <td>1562500</td>\n",
       "    </tr>\n",
       "    <tr>\n",
       "      <th>80</th>\n",
       "      <td>2010-10-21</td>\n",
       "      <td>4.122</td>\n",
       "      <td>4.190</td>\n",
       "      <td>4.090</td>\n",
       "      <td>4.150</td>\n",
       "      <td>4.150</td>\n",
       "      <td>2085500</td>\n",
       "    </tr>\n",
       "    <tr>\n",
       "      <th>81</th>\n",
       "      <td>2010-10-22</td>\n",
       "      <td>4.136</td>\n",
       "      <td>4.186</td>\n",
       "      <td>4.110</td>\n",
       "      <td>4.144</td>\n",
       "      <td>4.144</td>\n",
       "      <td>805500</td>\n",
       "    </tr>\n",
       "    <tr>\n",
       "      <th>82</th>\n",
       "      <td>2010-10-25</td>\n",
       "      <td>4.188</td>\n",
       "      <td>4.196</td>\n",
       "      <td>4.146</td>\n",
       "      <td>4.170</td>\n",
       "      <td>4.170</td>\n",
       "      <td>592500</td>\n",
       "    </tr>\n",
       "    <tr>\n",
       "      <th>83</th>\n",
       "      <td>2010-10-26</td>\n",
       "      <td>4.160</td>\n",
       "      <td>4.374</td>\n",
       "      <td>4.102</td>\n",
       "      <td>4.272</td>\n",
       "      <td>4.272</td>\n",
       "      <td>3304500</td>\n",
       "    </tr>\n",
       "    <tr>\n",
       "      <th>84</th>\n",
       "      <td>2010-10-27</td>\n",
       "      <td>4.250</td>\n",
       "      <td>4.276</td>\n",
       "      <td>4.130</td>\n",
       "      <td>4.200</td>\n",
       "      <td>4.200</td>\n",
       "      <td>1782500</td>\n",
       "    </tr>\n",
       "    <tr>\n",
       "      <th>85</th>\n",
       "      <td>2010-10-28</td>\n",
       "      <td>4.278</td>\n",
       "      <td>4.300</td>\n",
       "      <td>4.192</td>\n",
       "      <td>4.238</td>\n",
       "      <td>4.238</td>\n",
       "      <td>1121000</td>\n",
       "    </tr>\n",
       "    <tr>\n",
       "      <th>86</th>\n",
       "      <td>2010-10-29</td>\n",
       "      <td>4.228</td>\n",
       "      <td>4.370</td>\n",
       "      <td>4.210</td>\n",
       "      <td>4.368</td>\n",
       "      <td>4.368</td>\n",
       "      <td>1403000</td>\n",
       "    </tr>\n",
       "    <tr>\n",
       "      <th>87</th>\n",
       "      <td>2010-11-01</td>\n",
       "      <td>4.388</td>\n",
       "      <td>4.550</td>\n",
       "      <td>4.262</td>\n",
       "      <td>4.282</td>\n",
       "      <td>4.282</td>\n",
       "      <td>2279000</td>\n",
       "    </tr>\n",
       "    <tr>\n",
       "      <th>88</th>\n",
       "      <td>2010-11-02</td>\n",
       "      <td>4.336</td>\n",
       "      <td>4.376</td>\n",
       "      <td>4.210</td>\n",
       "      <td>4.250</td>\n",
       "      <td>4.250</td>\n",
       "      <td>1612500</td>\n",
       "    </tr>\n",
       "    <tr>\n",
       "      <th>89</th>\n",
       "      <td>2010-11-03</td>\n",
       "      <td>4.256</td>\n",
       "      <td>4.500</td>\n",
       "      <td>4.232</td>\n",
       "      <td>4.354</td>\n",
       "      <td>4.354</td>\n",
       "      <td>1863000</td>\n",
       "    </tr>\n",
       "    <tr>\n",
       "      <th>90</th>\n",
       "      <td>2010-11-04</td>\n",
       "      <td>4.520</td>\n",
       "      <td>5.066</td>\n",
       "      <td>4.430</td>\n",
       "      <td>4.980</td>\n",
       "      <td>4.980</td>\n",
       "      <td>9370000</td>\n",
       "    </tr>\n",
       "    <tr>\n",
       "      <th>91</th>\n",
       "      <td>2010-11-05</td>\n",
       "      <td>4.974</td>\n",
       "      <td>4.994</td>\n",
       "      <td>4.744</td>\n",
       "      <td>4.888</td>\n",
       "      <td>4.888</td>\n",
       "      <td>5055000</td>\n",
       "    </tr>\n",
       "    <tr>\n",
       "      <th>92</th>\n",
       "      <td>2010-11-08</td>\n",
       "      <td>4.900</td>\n",
       "      <td>5.000</td>\n",
       "      <td>4.806</td>\n",
       "      <td>4.996</td>\n",
       "      <td>4.996</td>\n",
       "      <td>2547500</td>\n",
       "    </tr>\n",
       "    <tr>\n",
       "      <th>93</th>\n",
       "      <td>2010-11-09</td>\n",
       "      <td>5.000</td>\n",
       "      <td>5.138</td>\n",
       "      <td>4.810</td>\n",
       "      <td>4.926</td>\n",
       "      <td>4.926</td>\n",
       "      <td>4782000</td>\n",
       "    </tr>\n",
       "    <tr>\n",
       "      <th>94</th>\n",
       "      <td>2010-11-10</td>\n",
       "      <td>4.896</td>\n",
       "      <td>5.994</td>\n",
       "      <td>4.810</td>\n",
       "      <td>5.872</td>\n",
       "      <td>5.872</td>\n",
       "      <td>15302500</td>\n",
       "    </tr>\n",
       "    <tr>\n",
       "      <th>95</th>\n",
       "      <td>2010-11-11</td>\n",
       "      <td>5.720</td>\n",
       "      <td>5.820</td>\n",
       "      <td>5.466</td>\n",
       "      <td>5.608</td>\n",
       "      <td>5.608</td>\n",
       "      <td>9726500</td>\n",
       "    </tr>\n",
       "    <tr>\n",
       "      <th>96</th>\n",
       "      <td>2010-11-12</td>\n",
       "      <td>5.650</td>\n",
       "      <td>6.100</td>\n",
       "      <td>5.614</td>\n",
       "      <td>5.968</td>\n",
       "      <td>5.968</td>\n",
       "      <td>13645500</td>\n",
       "    </tr>\n",
       "    <tr>\n",
       "      <th>97</th>\n",
       "      <td>2010-11-15</td>\n",
       "      <td>6.044</td>\n",
       "      <td>6.588</td>\n",
       "      <td>6.044</td>\n",
       "      <td>6.160</td>\n",
       "      <td>6.160</td>\n",
       "      <td>13114500</td>\n",
       "    </tr>\n",
       "    <tr>\n",
       "      <th>98</th>\n",
       "      <td>2010-11-16</td>\n",
       "      <td>6.200</td>\n",
       "      <td>6.280</td>\n",
       "      <td>5.684</td>\n",
       "      <td>5.934</td>\n",
       "      <td>5.934</td>\n",
       "      <td>6738000</td>\n",
       "    </tr>\n",
       "    <tr>\n",
       "      <th>99</th>\n",
       "      <td>2010-11-17</td>\n",
       "      <td>6.040</td>\n",
       "      <td>6.150</td>\n",
       "      <td>5.722</td>\n",
       "      <td>5.898</td>\n",
       "      <td>5.898</td>\n",
       "      <td>3750000</td>\n",
       "    </tr>\n",
       "  </tbody>\n",
       "</table>\n",
       "</div>"
      ],
      "text/plain": [
       "          Date   Open   High    Low  Close  Adj Close    Volume\n",
       "50  2010-09-09  4.200  4.210  4.138  4.142      4.142   1881000\n",
       "51  2010-09-10  4.150  4.186  3.952  4.034      4.034   1933000\n",
       "52  2010-09-13  4.178  4.180  4.100  4.144      4.144   1804000\n",
       "53  2010-09-14  4.108  4.320  4.106  4.224      4.224   3273500\n",
       "54  2010-09-15  4.196  4.400  4.158  4.396      4.396   3423000\n",
       "55  2010-09-16  4.430  4.632  4.168  4.188      4.188  13422500\n",
       "56  2010-09-17  4.204  4.264  3.960  4.046      4.046   5992500\n",
       "57  2010-09-20  4.134  4.270  4.032  4.212      4.212   4737500\n",
       "58  2010-09-21  4.178  4.310  4.134  4.154      4.154   3980000\n",
       "59  2010-09-22  4.174  4.190  3.960  3.974      3.974   4814500\n",
       "60  2010-09-23  3.978  4.028  3.900  3.912      3.912   3340500\n",
       "61  2010-09-24  3.990  4.038  3.930  4.020      4.020   2894500\n",
       "62  2010-09-27  4.080  4.162  4.010  4.106      4.106   2093000\n",
       "63  2010-09-28  4.208  4.298  4.152  4.280      4.280   6072500\n",
       "64  2010-09-29  4.238  4.406  4.226  4.396      4.396   9846500\n",
       "65  2010-09-30  4.400  4.430  4.038  4.082      4.082  10979000\n",
       "66  2010-10-01  4.138  4.150  4.062  4.120      4.120   2988500\n",
       "67  2010-10-04  4.086  4.234  4.060  4.198      4.198   3218000\n",
       "68  2010-10-05  4.230  4.256  4.202  4.224      4.224   1660000\n",
       "69  2010-10-06  4.212  4.252  4.064  4.092      4.092   1567000\n",
       "70  2010-10-07  4.114  4.128  4.068  4.086      4.086    705000\n",
       "71  2010-10-08  4.086  4.158  4.078  4.086      4.086   1339000\n",
       "72  2010-10-11  4.088  4.140  4.014  4.048      4.048    856000\n",
       "73  2010-10-12  4.040  4.056  4.006  4.048      4.048   1220000\n",
       "74  2010-10-13  4.128  4.170  4.072  4.108      4.108   1591000\n",
       "75  2010-10-14  4.200  4.206  4.080  4.150      4.150   1474000\n",
       "76  2010-10-15  4.178  4.180  4.050  4.108      4.108   1423500\n",
       "77  2010-10-18  4.104  4.128  4.044  4.046      4.046    814000\n",
       "78  2010-10-19  4.040  4.082  4.000  4.010      4.010   1226000\n",
       "79  2010-10-20  4.032  4.138  4.008  4.130      4.130   1562500\n",
       "80  2010-10-21  4.122  4.190  4.090  4.150      4.150   2085500\n",
       "81  2010-10-22  4.136  4.186  4.110  4.144      4.144    805500\n",
       "82  2010-10-25  4.188  4.196  4.146  4.170      4.170    592500\n",
       "83  2010-10-26  4.160  4.374  4.102  4.272      4.272   3304500\n",
       "84  2010-10-27  4.250  4.276  4.130  4.200      4.200   1782500\n",
       "85  2010-10-28  4.278  4.300  4.192  4.238      4.238   1121000\n",
       "86  2010-10-29  4.228  4.370  4.210  4.368      4.368   1403000\n",
       "87  2010-11-01  4.388  4.550  4.262  4.282      4.282   2279000\n",
       "88  2010-11-02  4.336  4.376  4.210  4.250      4.250   1612500\n",
       "89  2010-11-03  4.256  4.500  4.232  4.354      4.354   1863000\n",
       "90  2010-11-04  4.520  5.066  4.430  4.980      4.980   9370000\n",
       "91  2010-11-05  4.974  4.994  4.744  4.888      4.888   5055000\n",
       "92  2010-11-08  4.900  5.000  4.806  4.996      4.996   2547500\n",
       "93  2010-11-09  5.000  5.138  4.810  4.926      4.926   4782000\n",
       "94  2010-11-10  4.896  5.994  4.810  5.872      5.872  15302500\n",
       "95  2010-11-11  5.720  5.820  5.466  5.608      5.608   9726500\n",
       "96  2010-11-12  5.650  6.100  5.614  5.968      5.968  13645500\n",
       "97  2010-11-15  6.044  6.588  6.044  6.160      6.160  13114500\n",
       "98  2010-11-16  6.200  6.280  5.684  5.934      5.934   6738000\n",
       "99  2010-11-17  6.040  6.150  5.722  5.898      5.898   3750000"
      ]
     },
     "execution_count": 284,
     "metadata": {},
     "output_type": "execute_result"
    }
   ],
   "source": [
    "df[50:100]"
   ]
  },
  {
   "cell_type": "markdown",
   "id": "23c12fbd",
   "metadata": {},
   "source": [
    "Для поиска нужных строк можно использовать lambda-выражения или другие условия"
   ]
  },
  {
   "cell_type": "code",
   "execution_count": 55,
   "id": "5bc2bc81",
   "metadata": {
    "id": "5bc2bc81",
    "outputId": "c0df15a1-a1ea-4de1-e9ce-48118892124d"
   },
   "outputs": [
    {
     "data": {
      "text/html": [
       "<div>\n",
       "<style scoped>\n",
       "    .dataframe tbody tr th:only-of-type {\n",
       "        vertical-align: middle;\n",
       "    }\n",
       "\n",
       "    .dataframe tbody tr th {\n",
       "        vertical-align: top;\n",
       "    }\n",
       "\n",
       "    .dataframe thead th {\n",
       "        text-align: right;\n",
       "    }\n",
       "</style>\n",
       "<table border=\"1\" class=\"dataframe\">\n",
       "  <thead>\n",
       "    <tr style=\"text-align: right;\">\n",
       "      <th></th>\n",
       "      <th>Date</th>\n",
       "      <th>Open</th>\n",
       "      <th>High</th>\n",
       "      <th>Low</th>\n",
       "      <th>Close</th>\n",
       "      <th>Adj Close</th>\n",
       "      <th>Volume</th>\n",
       "    </tr>\n",
       "  </thead>\n",
       "  <tbody>\n",
       "    <tr>\n",
       "      <th>0</th>\n",
       "      <td>2010-06-29</td>\n",
       "      <td>19.000000</td>\n",
       "      <td>25.000000</td>\n",
       "      <td>17.540001</td>\n",
       "      <td>23.889999</td>\n",
       "      <td>23.889999</td>\n",
       "      <td>18766300</td>\n",
       "    </tr>\n",
       "    <tr>\n",
       "      <th>5</th>\n",
       "      <td>2010-07-07</td>\n",
       "      <td>16.400000</td>\n",
       "      <td>16.629999</td>\n",
       "      <td>14.980000</td>\n",
       "      <td>15.800000</td>\n",
       "      <td>15.800000</td>\n",
       "      <td>6921700</td>\n",
       "    </tr>\n",
       "    <tr>\n",
       "      <th>10</th>\n",
       "      <td>2010-07-14</td>\n",
       "      <td>17.940001</td>\n",
       "      <td>20.150000</td>\n",
       "      <td>17.760000</td>\n",
       "      <td>19.840000</td>\n",
       "      <td>19.840000</td>\n",
       "      <td>4195200</td>\n",
       "    </tr>\n",
       "    <tr>\n",
       "      <th>15</th>\n",
       "      <td>2010-07-21</td>\n",
       "      <td>20.660000</td>\n",
       "      <td>20.900000</td>\n",
       "      <td>19.500000</td>\n",
       "      <td>20.219999</td>\n",
       "      <td>20.219999</td>\n",
       "      <td>1252500</td>\n",
       "    </tr>\n",
       "    <tr>\n",
       "      <th>20</th>\n",
       "      <td>2010-07-28</td>\n",
       "      <td>20.549999</td>\n",
       "      <td>20.900000</td>\n",
       "      <td>20.510000</td>\n",
       "      <td>20.719999</td>\n",
       "      <td>20.719999</td>\n",
       "      <td>467200</td>\n",
       "    </tr>\n",
       "    <tr>\n",
       "      <th>...</th>\n",
       "      <td>...</td>\n",
       "      <td>...</td>\n",
       "      <td>...</td>\n",
       "      <td>...</td>\n",
       "      <td>...</td>\n",
       "      <td>...</td>\n",
       "      <td>...</td>\n",
       "    </tr>\n",
       "    <tr>\n",
       "      <th>2395</th>\n",
       "      <td>2020-01-03</td>\n",
       "      <td>440.500000</td>\n",
       "      <td>454.000000</td>\n",
       "      <td>436.920013</td>\n",
       "      <td>443.010010</td>\n",
       "      <td>443.010010</td>\n",
       "      <td>17778500</td>\n",
       "    </tr>\n",
       "    <tr>\n",
       "      <th>2400</th>\n",
       "      <td>2020-01-10</td>\n",
       "      <td>481.790009</td>\n",
       "      <td>484.940002</td>\n",
       "      <td>473.700012</td>\n",
       "      <td>478.149994</td>\n",
       "      <td>478.149994</td>\n",
       "      <td>12959500</td>\n",
       "    </tr>\n",
       "    <tr>\n",
       "      <th>2405</th>\n",
       "      <td>2020-01-17</td>\n",
       "      <td>507.609985</td>\n",
       "      <td>515.669983</td>\n",
       "      <td>503.160004</td>\n",
       "      <td>510.500000</td>\n",
       "      <td>510.500000</td>\n",
       "      <td>13629100</td>\n",
       "    </tr>\n",
       "    <tr>\n",
       "      <th>2410</th>\n",
       "      <td>2020-01-27</td>\n",
       "      <td>541.989990</td>\n",
       "      <td>564.440002</td>\n",
       "      <td>539.280029</td>\n",
       "      <td>558.020020</td>\n",
       "      <td>558.020020</td>\n",
       "      <td>13608100</td>\n",
       "    </tr>\n",
       "    <tr>\n",
       "      <th>2415</th>\n",
       "      <td>2020-02-03</td>\n",
       "      <td>673.690002</td>\n",
       "      <td>786.140015</td>\n",
       "      <td>673.520020</td>\n",
       "      <td>780.000000</td>\n",
       "      <td>780.000000</td>\n",
       "      <td>47065000</td>\n",
       "    </tr>\n",
       "  </tbody>\n",
       "</table>\n",
       "<p>484 rows × 7 columns</p>\n",
       "</div>"
      ],
      "text/plain": [
       "            Date        Open        High         Low       Close   Adj Close  \\\n",
       "0     2010-06-29   19.000000   25.000000   17.540001   23.889999   23.889999   \n",
       "5     2010-07-07   16.400000   16.629999   14.980000   15.800000   15.800000   \n",
       "10    2010-07-14   17.940001   20.150000   17.760000   19.840000   19.840000   \n",
       "15    2010-07-21   20.660000   20.900000   19.500000   20.219999   20.219999   \n",
       "20    2010-07-28   20.549999   20.900000   20.510000   20.719999   20.719999   \n",
       "...          ...         ...         ...         ...         ...         ...   \n",
       "2395  2020-01-03  440.500000  454.000000  436.920013  443.010010  443.010010   \n",
       "2400  2020-01-10  481.790009  484.940002  473.700012  478.149994  478.149994   \n",
       "2405  2020-01-17  507.609985  515.669983  503.160004  510.500000  510.500000   \n",
       "2410  2020-01-27  541.989990  564.440002  539.280029  558.020020  558.020020   \n",
       "2415  2020-02-03  673.690002  786.140015  673.520020  780.000000  780.000000   \n",
       "\n",
       "        Volume  \n",
       "0     18766300  \n",
       "5      6921700  \n",
       "10     4195200  \n",
       "15     1252500  \n",
       "20      467200  \n",
       "...        ...  \n",
       "2395  17778500  \n",
       "2400  12959500  \n",
       "2405  13629100  \n",
       "2410  13608100  \n",
       "2415  47065000  \n",
       "\n",
       "[484 rows x 7 columns]"
      ]
     },
     "execution_count": 55,
     "metadata": {},
     "output_type": "execute_result"
    }
   ],
   "source": [
    "df.iloc[lambda x: x.index % 5 == 0]"
   ]
  },
  {
   "cell_type": "markdown",
   "id": "81e3dd09",
   "metadata": {},
   "source": [
    "`iloc` так же позволяет вернуть не только строки которые интересны, но и колонки через указания их индексов"
   ]
  },
  {
   "cell_type": "code",
   "execution_count": null,
   "id": "ac09734c",
   "metadata": {},
   "outputs": [],
   "source": [
    "df.iloc[[100, 300], [1, 4]]"
   ]
  },
  {
   "cell_type": "markdown",
   "id": "ffe2b31d",
   "metadata": {},
   "source": [
    "Вместо индексирование обычными числами можно производить индексацию при помощи дат (вприниципе иных типов данных datetime,str, object и тд.)"
   ]
  },
  {
   "cell_type": "code",
   "execution_count": 23,
   "id": "1gSJ2fUBSlT4",
   "metadata": {
    "id": "1gSJ2fUBSlT4"
   },
   "outputs": [],
   "source": [
    "df.index = df.Date"
   ]
  },
  {
   "cell_type": "markdown",
   "id": "3dba955c",
   "metadata": {},
   "source": [
    "Посмотрим что же получилось"
   ]
  },
  {
   "cell_type": "code",
   "execution_count": 24,
   "id": "89a4dd93",
   "metadata": {},
   "outputs": [
    {
     "data": {
      "text/html": [
       "<div>\n",
       "<style scoped>\n",
       "    .dataframe tbody tr th:only-of-type {\n",
       "        vertical-align: middle;\n",
       "    }\n",
       "\n",
       "    .dataframe tbody tr th {\n",
       "        vertical-align: top;\n",
       "    }\n",
       "\n",
       "    .dataframe thead th {\n",
       "        text-align: right;\n",
       "    }\n",
       "</style>\n",
       "<table border=\"1\" class=\"dataframe\">\n",
       "  <thead>\n",
       "    <tr style=\"text-align: right;\">\n",
       "      <th></th>\n",
       "      <th>Date</th>\n",
       "      <th>Open</th>\n",
       "      <th>High</th>\n",
       "      <th>Low</th>\n",
       "      <th>Close</th>\n",
       "      <th>Adj Close</th>\n",
       "      <th>Volume</th>\n",
       "    </tr>\n",
       "    <tr>\n",
       "      <th>Date</th>\n",
       "      <th></th>\n",
       "      <th></th>\n",
       "      <th></th>\n",
       "      <th></th>\n",
       "      <th></th>\n",
       "      <th></th>\n",
       "      <th></th>\n",
       "    </tr>\n",
       "  </thead>\n",
       "  <tbody>\n",
       "    <tr>\n",
       "      <th>2010-06-29</th>\n",
       "      <td>2010-06-29</td>\n",
       "      <td>19.000000</td>\n",
       "      <td>25.00</td>\n",
       "      <td>17.540001</td>\n",
       "      <td>23.889999</td>\n",
       "      <td>23.889999</td>\n",
       "      <td>18766300</td>\n",
       "    </tr>\n",
       "    <tr>\n",
       "      <th>2010-06-30</th>\n",
       "      <td>2010-06-30</td>\n",
       "      <td>25.790001</td>\n",
       "      <td>30.42</td>\n",
       "      <td>23.299999</td>\n",
       "      <td>23.830000</td>\n",
       "      <td>23.830000</td>\n",
       "      <td>17187100</td>\n",
       "    </tr>\n",
       "    <tr>\n",
       "      <th>2010-07-01</th>\n",
       "      <td>2010-07-01</td>\n",
       "      <td>25.000000</td>\n",
       "      <td>25.92</td>\n",
       "      <td>20.270000</td>\n",
       "      <td>21.959999</td>\n",
       "      <td>21.959999</td>\n",
       "      <td>8218800</td>\n",
       "    </tr>\n",
       "    <tr>\n",
       "      <th>2010-07-02</th>\n",
       "      <td>2010-07-02</td>\n",
       "      <td>23.000000</td>\n",
       "      <td>23.10</td>\n",
       "      <td>18.709999</td>\n",
       "      <td>19.200001</td>\n",
       "      <td>19.200001</td>\n",
       "      <td>5139800</td>\n",
       "    </tr>\n",
       "    <tr>\n",
       "      <th>2010-07-06</th>\n",
       "      <td>2010-07-06</td>\n",
       "      <td>20.000000</td>\n",
       "      <td>20.00</td>\n",
       "      <td>15.830000</td>\n",
       "      <td>16.110001</td>\n",
       "      <td>16.110001</td>\n",
       "      <td>6866900</td>\n",
       "    </tr>\n",
       "  </tbody>\n",
       "</table>\n",
       "</div>"
      ],
      "text/plain": [
       "                  Date       Open   High        Low      Close  Adj Close  \\\n",
       "Date                                                                        \n",
       "2010-06-29  2010-06-29  19.000000  25.00  17.540001  23.889999  23.889999   \n",
       "2010-06-30  2010-06-30  25.790001  30.42  23.299999  23.830000  23.830000   \n",
       "2010-07-01  2010-07-01  25.000000  25.92  20.270000  21.959999  21.959999   \n",
       "2010-07-02  2010-07-02  23.000000  23.10  18.709999  19.200001  19.200001   \n",
       "2010-07-06  2010-07-06  20.000000  20.00  15.830000  16.110001  16.110001   \n",
       "\n",
       "              Volume  \n",
       "Date                  \n",
       "2010-06-29  18766300  \n",
       "2010-06-30  17187100  \n",
       "2010-07-01   8218800  \n",
       "2010-07-02   5139800  \n",
       "2010-07-06   6866900  "
      ]
     },
     "execution_count": 24,
     "metadata": {},
     "output_type": "execute_result"
    }
   ],
   "source": [
    "df.head()"
   ]
  },
  {
   "cell_type": "markdown",
   "id": "d643c283",
   "metadata": {},
   "source": [
    "Возьмем объект по `df.index` при помощи `loc`"
   ]
  },
  {
   "cell_type": "code",
   "execution_count": 27,
   "id": "6f75fdb9",
   "metadata": {},
   "outputs": [
    {
     "data": {
      "text/plain": [
       "Date         2010-06-29\n",
       "Open               19.0\n",
       "High               25.0\n",
       "Low           17.540001\n",
       "Close         23.889999\n",
       "Adj Close     23.889999\n",
       "Volume         18766300\n",
       "Name: 2010-06-29, dtype: object"
      ]
     },
     "execution_count": 27,
     "metadata": {},
     "output_type": "execute_result"
    }
   ],
   "source": [
    "df.loc['2010-06-29']"
   ]
  },
  {
   "cell_type": "markdown",
   "id": "4558d2e3",
   "metadata": {},
   "source": [
    "А обратно можем вернуть все применим генератор `range`"
   ]
  },
  {
   "cell_type": "code",
   "execution_count": 28,
   "id": "ooTgPNd_Sx0F",
   "metadata": {
    "id": "ooTgPNd_Sx0F"
   },
   "outputs": [],
   "source": [
    "df.index = range(len(df))"
   ]
  },
  {
   "cell_type": "code",
   "execution_count": 29,
   "id": "cb7ddd98",
   "metadata": {},
   "outputs": [
    {
     "data": {
      "text/html": [
       "<div>\n",
       "<style scoped>\n",
       "    .dataframe tbody tr th:only-of-type {\n",
       "        vertical-align: middle;\n",
       "    }\n",
       "\n",
       "    .dataframe tbody tr th {\n",
       "        vertical-align: top;\n",
       "    }\n",
       "\n",
       "    .dataframe thead th {\n",
       "        text-align: right;\n",
       "    }\n",
       "</style>\n",
       "<table border=\"1\" class=\"dataframe\">\n",
       "  <thead>\n",
       "    <tr style=\"text-align: right;\">\n",
       "      <th></th>\n",
       "      <th>Date</th>\n",
       "      <th>Open</th>\n",
       "      <th>High</th>\n",
       "      <th>Low</th>\n",
       "      <th>Close</th>\n",
       "      <th>Adj Close</th>\n",
       "      <th>Volume</th>\n",
       "    </tr>\n",
       "  </thead>\n",
       "  <tbody>\n",
       "    <tr>\n",
       "      <th>0</th>\n",
       "      <td>2010-06-29</td>\n",
       "      <td>19.000000</td>\n",
       "      <td>25.000000</td>\n",
       "      <td>17.540001</td>\n",
       "      <td>23.889999</td>\n",
       "      <td>23.889999</td>\n",
       "      <td>18766300</td>\n",
       "    </tr>\n",
       "    <tr>\n",
       "      <th>1</th>\n",
       "      <td>2010-06-30</td>\n",
       "      <td>25.790001</td>\n",
       "      <td>30.420000</td>\n",
       "      <td>23.299999</td>\n",
       "      <td>23.830000</td>\n",
       "      <td>23.830000</td>\n",
       "      <td>17187100</td>\n",
       "    </tr>\n",
       "    <tr>\n",
       "      <th>2</th>\n",
       "      <td>2010-07-01</td>\n",
       "      <td>25.000000</td>\n",
       "      <td>25.920000</td>\n",
       "      <td>20.270000</td>\n",
       "      <td>21.959999</td>\n",
       "      <td>21.959999</td>\n",
       "      <td>8218800</td>\n",
       "    </tr>\n",
       "    <tr>\n",
       "      <th>3</th>\n",
       "      <td>2010-07-02</td>\n",
       "      <td>23.000000</td>\n",
       "      <td>23.100000</td>\n",
       "      <td>18.709999</td>\n",
       "      <td>19.200001</td>\n",
       "      <td>19.200001</td>\n",
       "      <td>5139800</td>\n",
       "    </tr>\n",
       "    <tr>\n",
       "      <th>4</th>\n",
       "      <td>2010-07-06</td>\n",
       "      <td>20.000000</td>\n",
       "      <td>20.000000</td>\n",
       "      <td>15.830000</td>\n",
       "      <td>16.110001</td>\n",
       "      <td>16.110001</td>\n",
       "      <td>6866900</td>\n",
       "    </tr>\n",
       "    <tr>\n",
       "      <th>...</th>\n",
       "      <td>...</td>\n",
       "      <td>...</td>\n",
       "      <td>...</td>\n",
       "      <td>...</td>\n",
       "      <td>...</td>\n",
       "      <td>...</td>\n",
       "      <td>...</td>\n",
       "    </tr>\n",
       "    <tr>\n",
       "      <th>2411</th>\n",
       "      <td>2020-01-28</td>\n",
       "      <td>568.489990</td>\n",
       "      <td>576.809998</td>\n",
       "      <td>558.080017</td>\n",
       "      <td>566.900024</td>\n",
       "      <td>566.900024</td>\n",
       "      <td>11788500</td>\n",
       "    </tr>\n",
       "    <tr>\n",
       "      <th>2412</th>\n",
       "      <td>2020-01-29</td>\n",
       "      <td>575.690002</td>\n",
       "      <td>589.799988</td>\n",
       "      <td>567.429993</td>\n",
       "      <td>580.989990</td>\n",
       "      <td>580.989990</td>\n",
       "      <td>17801500</td>\n",
       "    </tr>\n",
       "    <tr>\n",
       "      <th>2413</th>\n",
       "      <td>2020-01-30</td>\n",
       "      <td>632.419983</td>\n",
       "      <td>650.880005</td>\n",
       "      <td>618.000000</td>\n",
       "      <td>640.809998</td>\n",
       "      <td>640.809998</td>\n",
       "      <td>29005700</td>\n",
       "    </tr>\n",
       "    <tr>\n",
       "      <th>2414</th>\n",
       "      <td>2020-01-31</td>\n",
       "      <td>640.000000</td>\n",
       "      <td>653.000000</td>\n",
       "      <td>632.520020</td>\n",
       "      <td>650.570007</td>\n",
       "      <td>650.570007</td>\n",
       "      <td>15719300</td>\n",
       "    </tr>\n",
       "    <tr>\n",
       "      <th>2415</th>\n",
       "      <td>2020-02-03</td>\n",
       "      <td>673.690002</td>\n",
       "      <td>786.140015</td>\n",
       "      <td>673.520020</td>\n",
       "      <td>780.000000</td>\n",
       "      <td>780.000000</td>\n",
       "      <td>47065000</td>\n",
       "    </tr>\n",
       "  </tbody>\n",
       "</table>\n",
       "<p>2416 rows × 7 columns</p>\n",
       "</div>"
      ],
      "text/plain": [
       "            Date        Open        High         Low       Close   Adj Close  \\\n",
       "0     2010-06-29   19.000000   25.000000   17.540001   23.889999   23.889999   \n",
       "1     2010-06-30   25.790001   30.420000   23.299999   23.830000   23.830000   \n",
       "2     2010-07-01   25.000000   25.920000   20.270000   21.959999   21.959999   \n",
       "3     2010-07-02   23.000000   23.100000   18.709999   19.200001   19.200001   \n",
       "4     2010-07-06   20.000000   20.000000   15.830000   16.110001   16.110001   \n",
       "...          ...         ...         ...         ...         ...         ...   \n",
       "2411  2020-01-28  568.489990  576.809998  558.080017  566.900024  566.900024   \n",
       "2412  2020-01-29  575.690002  589.799988  567.429993  580.989990  580.989990   \n",
       "2413  2020-01-30  632.419983  650.880005  618.000000  640.809998  640.809998   \n",
       "2414  2020-01-31  640.000000  653.000000  632.520020  650.570007  650.570007   \n",
       "2415  2020-02-03  673.690002  786.140015  673.520020  780.000000  780.000000   \n",
       "\n",
       "        Volume  \n",
       "0     18766300  \n",
       "1     17187100  \n",
       "2      8218800  \n",
       "3      5139800  \n",
       "4      6866900  \n",
       "...        ...  \n",
       "2411  11788500  \n",
       "2412  17801500  \n",
       "2413  29005700  \n",
       "2414  15719300  \n",
       "2415  47065000  \n",
       "\n",
       "[2416 rows x 7 columns]"
      ]
     },
     "execution_count": 29,
     "metadata": {},
     "output_type": "execute_result"
    }
   ],
   "source": [
    "df"
   ]
  },
  {
   "cell_type": "markdown",
   "id": "8d128c0a",
   "metadata": {},
   "source": [
    "Объект `Series` имеет встроенные статисчиеские методы "
   ]
  },
  {
   "cell_type": "code",
   "execution_count": 30,
   "id": "bcace7eb",
   "metadata": {
    "id": "bcace7eb",
    "outputId": "1b4cf635-193c-4415-c10b-11ae8ad1c2ab"
   },
   "outputs": [
    {
     "data": {
      "text/plain": [
       "(186.40365078187088, 780.0, 15.8, 212.960007)"
      ]
     },
     "execution_count": 30,
     "metadata": {},
     "output_type": "execute_result"
    }
   ],
   "source": [
    "df['Close'].mean(), df['Close'].max(),df['Close'].min(), df['Close'].median(), "
   ]
  },
  {
   "cell_type": "markdown",
   "id": "b25e9190",
   "metadata": {},
   "source": [
    "Бывает иногда что занчение в колонке пропущены и иногда их проще удалить чем восстанавливать или апроксимировать "
   ]
  },
  {
   "cell_type": "code",
   "execution_count": 67,
   "id": "f64f3072",
   "metadata": {
    "id": "f64f3072"
   },
   "outputs": [],
   "source": [
    "df = df.dropna()"
   ]
  },
  {
   "cell_type": "markdown",
   "id": "57fb083b",
   "metadata": {},
   "source": [
    "Построение запроса с  условием"
   ]
  },
  {
   "cell_type": "code",
   "execution_count": 71,
   "id": "cQ0loy-yTN47",
   "metadata": {
    "colab": {
     "base_uri": "https://localhost:8080/"
    },
    "id": "cQ0loy-yTN47",
    "outputId": "9d502f81-151f-4aea-d567-b20ca8ea2e93"
   },
   "outputs": [
    {
     "data": {
      "text/plain": [
       "0        23.889999\n",
       "720      69.400002\n",
       "721      76.760002\n",
       "722      87.800003\n",
       "723      83.239998\n",
       "           ...    \n",
       "2407    569.559998\n",
       "2408    572.200012\n",
       "2412    580.989990\n",
       "2413    640.809998\n",
       "2415    780.000000\n",
       "Name: Close, Length: 92, dtype: float64"
      ]
     },
     "execution_count": 71,
     "metadata": {},
     "output_type": "execute_result"
    }
   ],
   "source": [
    "# Поиск строк по условию\n",
    "\n",
    "\n",
    "df[df['Volume'] > 17187100]['Close']"
   ]
  },
  {
   "cell_type": "code",
   "execution_count": 73,
   "id": "9d23bec6",
   "metadata": {
    "colab": {
     "base_uri": "https://localhost:8080/"
    },
    "id": "9d23bec6",
    "outputId": "69ce026b-af7b-4e37-9519-379dbdbf69aa",
    "scrolled": false
   },
   "outputs": [
    {
     "data": {
      "text/plain": [
       "1475"
      ]
     },
     "execution_count": 73,
     "metadata": {},
     "output_type": "execute_result"
    }
   ],
   "source": [
    "len(df[df['Open'] > df['Open'].mean()]) # количество дней, когда цена была выше стредней"
   ]
  },
  {
   "cell_type": "code",
   "execution_count": null,
   "id": "5bcf6b11",
   "metadata": {
    "id": "5bcf6b11",
    "outputId": "a2b7d620-6e1f-4221-d1cb-c935bd1a4959"
   },
   "outputs": [
    {
     "name": "stdout",
     "output_type": "stream",
     "text": [
      "<class 'pandas.core.frame.DataFrame'>\n",
      "Int64Index: 2813 entries, 0 to 2812\n",
      "Data columns (total 7 columns):\n",
      " #   Column     Non-Null Count  Dtype  \n",
      "---  ------     --------------  -----  \n",
      " 0   Date       2813 non-null   object \n",
      " 1   Open       2813 non-null   float64\n",
      " 2   High       2813 non-null   float64\n",
      " 3   Low        2813 non-null   float64\n",
      " 4   Close      2813 non-null   float64\n",
      " 5   Adj Close  2813 non-null   float64\n",
      " 6   Volume     2813 non-null   int64  \n",
      "dtypes: float64(5), int64(1), object(1)\n",
      "memory usage: 175.8+ KB\n"
     ]
    }
   ],
   "source": [
    "df.info()"
   ]
  },
  {
   "cell_type": "code",
   "execution_count": 75,
   "id": "b55fcbf9",
   "metadata": {
    "colab": {
     "base_uri": "https://localhost:8080/"
    },
    "id": "b55fcbf9",
    "outputId": "206c7142-bd0f-432d-d05b-a754ee7848c1"
   },
   "outputs": [
    {
     "data": {
      "text/plain": [
       "0      19.000000\n",
       "1      25.790001\n",
       "2      25.000000\n",
       "3      23.000000\n",
       "4      20.000000\n",
       "         ...    \n",
       "741    98.930000\n",
       "742    98.180000\n",
       "743    96.800003\n",
       "744    99.000000\n",
       "751    96.500000\n",
       "Name: Open, Length: 742, dtype: float64"
      ]
     },
     "execution_count": 75,
     "metadata": {},
     "output_type": "execute_result"
    }
   ],
   "source": [
    "df['Open'].where(lambda x: x < 100).dropna()"
   ]
  },
  {
   "cell_type": "code",
   "execution_count": 76,
   "id": "2cf1f02d",
   "metadata": {},
   "outputs": [
    {
     "data": {
      "text/plain": [
       "0        19.000000\n",
       "1        25.790001\n",
       "2        25.000000\n",
       "3        23.000000\n",
       "4        20.000000\n",
       "           ...    \n",
       "2411    568.489990\n",
       "2412    575.690002\n",
       "2413    632.419983\n",
       "2414    640.000000\n",
       "2415    673.690002\n",
       "Name: Open, Length: 2416, dtype: float64"
      ]
     },
     "execution_count": 76,
     "metadata": {},
     "output_type": "execute_result"
    }
   ],
   "source": [
    "df['Open']"
   ]
  },
  {
   "cell_type": "markdown",
   "id": "11fce40f",
   "metadata": {},
   "source": [
    "Для модицикации всей колонки, допустим увеличение ее в 10 раз, можно изпользовать метод `apply`, который итерируемом достает элемент и передает его в `lambda` выражение"
   ]
  },
  {
   "cell_type": "code",
   "execution_count": 77,
   "id": "24d24807",
   "metadata": {
    "id": "24d24807",
    "outputId": "a0b170cd-d4c3-4917-e967-f2c10100e332"
   },
   "outputs": [
    {
     "data": {
      "text/plain": [
       "0        190.00000\n",
       "1        257.90001\n",
       "2        250.00000\n",
       "3        230.00000\n",
       "4        200.00000\n",
       "           ...    \n",
       "2411    5684.89990\n",
       "2412    5756.90002\n",
       "2413    6324.19983\n",
       "2414    6400.00000\n",
       "2415    6736.90002\n",
       "Name: Open, Length: 2416, dtype: float64"
      ]
     },
     "execution_count": 77,
     "metadata": {},
     "output_type": "execute_result"
    }
   ],
   "source": [
    " df['Open'].apply(lambda x: x * 10)"
   ]
  },
  {
   "cell_type": "code",
   "execution_count": 90,
   "id": "07ffa6f7",
   "metadata": {},
   "outputs": [],
   "source": [
    "import numpy as np"
   ]
  },
  {
   "cell_type": "code",
   "execution_count": 93,
   "id": "1bfb3713",
   "metadata": {},
   "outputs": [],
   "source": [
    "def average(item):\n",
    "    if item > np.average(df['Close']):\n",
    "        return item"
   ]
  },
  {
   "cell_type": "markdown",
   "id": "9c42a23a",
   "metadata": {},
   "source": [
    "Ну или передовать элемент непосредственно в функцию. А вней написать большое количество взаимодейсвтия и элементов"
   ]
  },
  {
   "cell_type": "code",
   "execution_count": 95,
   "id": "1513ce50",
   "metadata": {
    "id": "1513ce50",
    "outputId": "bd3e59f9-926a-4296-a448-43aae8954b40"
   },
   "outputs": [
    {
     "data": {
      "text/plain": [
       "817     186.699997\n",
       "818     187.520004\n",
       "819     189.000000\n",
       "820     193.960007\n",
       "821     188.589996\n",
       "           ...    \n",
       "2411    568.489990\n",
       "2412    575.690002\n",
       "2413    632.419983\n",
       "2414    640.000000\n",
       "2415    673.690002\n",
       "Name: Open, Length: 1475, dtype: float64"
      ]
     },
     "execution_count": 95,
     "metadata": {},
     "output_type": "execute_result"
    }
   ],
   "source": [
    "df['Open'].apply(lambda x: average(x)).dropna()"
   ]
  },
  {
   "cell_type": "code",
   "execution_count": null,
   "id": "twEiCwm4UqEJ",
   "metadata": {
    "colab": {
     "base_uri": "https://localhost:8080/"
    },
    "id": "twEiCwm4UqEJ",
    "outputId": "1ba62434-cedf-48ef-cf7e-f1969338d252"
   },
   "outputs": [
    {
     "name": "stderr",
     "output_type": "stream",
     "text": [
      "/usr/local/lib/python3.7/dist-packages/ipykernel_launcher.py:17: SettingWithCopyWarning: \n",
      "A value is trying to be set on a copy of a slice from a DataFrame.\n",
      "Try using .loc[row_indexer,col_indexer] = value instead\n",
      "\n",
      "See the caveats in the documentation: https://pandas.pydata.org/pandas-docs/stable/user_guide/indexing.html#returning-a-view-versus-a-copy\n"
     ]
    }
   ],
   "source": [
    "mean = df['Open'].mean()\n",
    "def is_too_low(x):\n",
    "  if x < mean*0.8:\n",
    "    return True\n",
    "  else:\n",
    "    return False\n",
    "\n",
    "def replace_too_low(x):\n",
    "  if x < mean*0.9:\n",
    "    return  mean*0.9\n",
    "  else:\n",
    "    return x\n",
    "\n",
    "def my_replace(x):\n",
    "  return x*0.95\n",
    "\n",
    "df[df['Open'].apply(is_too_low)]['Open'] = mean*0.8"
   ]
  },
  {
   "cell_type": "code",
   "execution_count": null,
   "id": "uVFxfvShWNq7",
   "metadata": {
    "colab": {
     "base_uri": "https://localhost:8080/"
    },
    "id": "uVFxfvShWNq7",
    "outputId": "434cd05c-aa69-4a75-9ada-4d61ec3f8956"
   },
   "outputs": [
    {
     "data": {
      "text/plain": [
       "0       167.644032\n",
       "1       167.644032\n",
       "2       167.644032\n",
       "3       167.644032\n",
       "4       167.644032\n",
       "           ...    \n",
       "2411    568.489990\n",
       "2412    575.690002\n",
       "2413    632.419983\n",
       "2414    640.000000\n",
       "2415    673.690002\n",
       "Name: Open, Length: 2416, dtype: float64"
      ]
     },
     "execution_count": 63,
     "metadata": {},
     "output_type": "execute_result"
    }
   ],
   "source": [
    "df['Open'].apply(replace_too_low)"
   ]
  },
  {
   "cell_type": "code",
   "execution_count": null,
   "id": "49RWrtaQWewv",
   "metadata": {
    "id": "49RWrtaQWewv"
   },
   "outputs": [],
   "source": [
    "df['Open'] = df[df['Open'] < mean*0.95]['Open'].apply(my_replace)"
   ]
  },
  {
   "cell_type": "code",
   "execution_count": null,
   "id": "873d7070",
   "metadata": {
    "id": "873d7070",
    "outputId": "fc046def-c3b5-47ce-af2c-c702c11175b6"
   },
   "outputs": [
    {
     "data": {
      "text/plain": [
       "4.8"
      ]
     },
     "execution_count": 343,
     "metadata": {},
     "output_type": "execute_result"
    }
   ],
   "source": [
    "np.mean([5, 4.6])"
   ]
  },
  {
   "cell_type": "code",
   "execution_count": 100,
   "id": "01fd1500",
   "metadata": {},
   "outputs": [
    {
     "data": {
      "text/html": [
       "<div>\n",
       "<style scoped>\n",
       "    .dataframe tbody tr th:only-of-type {\n",
       "        vertical-align: middle;\n",
       "    }\n",
       "\n",
       "    .dataframe tbody tr th {\n",
       "        vertical-align: top;\n",
       "    }\n",
       "\n",
       "    .dataframe thead th {\n",
       "        text-align: right;\n",
       "    }\n",
       "</style>\n",
       "<table border=\"1\" class=\"dataframe\">\n",
       "  <thead>\n",
       "    <tr style=\"text-align: right;\">\n",
       "      <th></th>\n",
       "      <th>Date</th>\n",
       "      <th>Open</th>\n",
       "      <th>High</th>\n",
       "      <th>Low</th>\n",
       "      <th>Close</th>\n",
       "      <th>Adj Close</th>\n",
       "      <th>Volume</th>\n",
       "    </tr>\n",
       "  </thead>\n",
       "  <tbody>\n",
       "    <tr>\n",
       "      <th>0</th>\n",
       "      <td>2010-06-29</td>\n",
       "      <td>19.000000</td>\n",
       "      <td>25.00</td>\n",
       "      <td>17.540001</td>\n",
       "      <td>23.889999</td>\n",
       "      <td>23.889999</td>\n",
       "      <td>18766300</td>\n",
       "    </tr>\n",
       "    <tr>\n",
       "      <th>1</th>\n",
       "      <td>2010-06-30</td>\n",
       "      <td>25.790001</td>\n",
       "      <td>30.42</td>\n",
       "      <td>23.299999</td>\n",
       "      <td>23.830000</td>\n",
       "      <td>23.830000</td>\n",
       "      <td>17187100</td>\n",
       "    </tr>\n",
       "    <tr>\n",
       "      <th>2</th>\n",
       "      <td>2010-07-01</td>\n",
       "      <td>25.000000</td>\n",
       "      <td>25.92</td>\n",
       "      <td>20.270000</td>\n",
       "      <td>21.959999</td>\n",
       "      <td>21.959999</td>\n",
       "      <td>8218800</td>\n",
       "    </tr>\n",
       "    <tr>\n",
       "      <th>3</th>\n",
       "      <td>2010-07-02</td>\n",
       "      <td>23.000000</td>\n",
       "      <td>23.10</td>\n",
       "      <td>18.709999</td>\n",
       "      <td>19.200001</td>\n",
       "      <td>19.200001</td>\n",
       "      <td>5139800</td>\n",
       "    </tr>\n",
       "    <tr>\n",
       "      <th>4</th>\n",
       "      <td>2010-07-06</td>\n",
       "      <td>20.000000</td>\n",
       "      <td>20.00</td>\n",
       "      <td>15.830000</td>\n",
       "      <td>16.110001</td>\n",
       "      <td>16.110001</td>\n",
       "      <td>6866900</td>\n",
       "    </tr>\n",
       "  </tbody>\n",
       "</table>\n",
       "</div>"
      ],
      "text/plain": [
       "         Date       Open   High        Low      Close  Adj Close    Volume\n",
       "0  2010-06-29  19.000000  25.00  17.540001  23.889999  23.889999  18766300\n",
       "1  2010-06-30  25.790001  30.42  23.299999  23.830000  23.830000  17187100\n",
       "2  2010-07-01  25.000000  25.92  20.270000  21.959999  21.959999   8218800\n",
       "3  2010-07-02  23.000000  23.10  18.709999  19.200001  19.200001   5139800\n",
       "4  2010-07-06  20.000000  20.00  15.830000  16.110001  16.110001   6866900"
      ]
     },
     "execution_count": 100,
     "metadata": {},
     "output_type": "execute_result"
    }
   ],
   "source": [
    "df.head()"
   ]
  },
  {
   "cell_type": "code",
   "execution_count": 102,
   "id": "0b602cce",
   "metadata": {},
   "outputs": [
    {
     "name": "stderr",
     "output_type": "stream",
     "text": [
      "/tmp/ipykernel_60853/1067998117.py:1: FutureWarning: In a future version of pandas all arguments of DataFrame.drop except for the argument 'labels' will be keyword-only.\n",
      "  df = df.drop('Adj Close', 1)\n"
     ]
    }
   ],
   "source": [
    "df = df.drop('Adj Close', 1)\n"
   ]
  },
  {
   "cell_type": "code",
   "execution_count": 103,
   "id": "2fe1eb69",
   "metadata": {},
   "outputs": [
    {
     "data": {
      "text/html": [
       "<div>\n",
       "<style scoped>\n",
       "    .dataframe tbody tr th:only-of-type {\n",
       "        vertical-align: middle;\n",
       "    }\n",
       "\n",
       "    .dataframe tbody tr th {\n",
       "        vertical-align: top;\n",
       "    }\n",
       "\n",
       "    .dataframe thead th {\n",
       "        text-align: right;\n",
       "    }\n",
       "</style>\n",
       "<table border=\"1\" class=\"dataframe\">\n",
       "  <thead>\n",
       "    <tr style=\"text-align: right;\">\n",
       "      <th></th>\n",
       "      <th>Date</th>\n",
       "      <th>Open</th>\n",
       "      <th>High</th>\n",
       "      <th>Low</th>\n",
       "      <th>Close</th>\n",
       "      <th>Volume</th>\n",
       "    </tr>\n",
       "  </thead>\n",
       "  <tbody>\n",
       "    <tr>\n",
       "      <th>0</th>\n",
       "      <td>2010-06-29</td>\n",
       "      <td>19.000000</td>\n",
       "      <td>25.000000</td>\n",
       "      <td>17.540001</td>\n",
       "      <td>23.889999</td>\n",
       "      <td>18766300</td>\n",
       "    </tr>\n",
       "    <tr>\n",
       "      <th>1</th>\n",
       "      <td>2010-06-30</td>\n",
       "      <td>25.790001</td>\n",
       "      <td>30.420000</td>\n",
       "      <td>23.299999</td>\n",
       "      <td>23.830000</td>\n",
       "      <td>17187100</td>\n",
       "    </tr>\n",
       "    <tr>\n",
       "      <th>2</th>\n",
       "      <td>2010-07-01</td>\n",
       "      <td>25.000000</td>\n",
       "      <td>25.920000</td>\n",
       "      <td>20.270000</td>\n",
       "      <td>21.959999</td>\n",
       "      <td>8218800</td>\n",
       "    </tr>\n",
       "    <tr>\n",
       "      <th>3</th>\n",
       "      <td>2010-07-02</td>\n",
       "      <td>23.000000</td>\n",
       "      <td>23.100000</td>\n",
       "      <td>18.709999</td>\n",
       "      <td>19.200001</td>\n",
       "      <td>5139800</td>\n",
       "    </tr>\n",
       "    <tr>\n",
       "      <th>4</th>\n",
       "      <td>2010-07-06</td>\n",
       "      <td>20.000000</td>\n",
       "      <td>20.000000</td>\n",
       "      <td>15.830000</td>\n",
       "      <td>16.110001</td>\n",
       "      <td>6866900</td>\n",
       "    </tr>\n",
       "    <tr>\n",
       "      <th>...</th>\n",
       "      <td>...</td>\n",
       "      <td>...</td>\n",
       "      <td>...</td>\n",
       "      <td>...</td>\n",
       "      <td>...</td>\n",
       "      <td>...</td>\n",
       "    </tr>\n",
       "    <tr>\n",
       "      <th>2411</th>\n",
       "      <td>2020-01-28</td>\n",
       "      <td>568.489990</td>\n",
       "      <td>576.809998</td>\n",
       "      <td>558.080017</td>\n",
       "      <td>566.900024</td>\n",
       "      <td>11788500</td>\n",
       "    </tr>\n",
       "    <tr>\n",
       "      <th>2412</th>\n",
       "      <td>2020-01-29</td>\n",
       "      <td>575.690002</td>\n",
       "      <td>589.799988</td>\n",
       "      <td>567.429993</td>\n",
       "      <td>580.989990</td>\n",
       "      <td>17801500</td>\n",
       "    </tr>\n",
       "    <tr>\n",
       "      <th>2413</th>\n",
       "      <td>2020-01-30</td>\n",
       "      <td>632.419983</td>\n",
       "      <td>650.880005</td>\n",
       "      <td>618.000000</td>\n",
       "      <td>640.809998</td>\n",
       "      <td>29005700</td>\n",
       "    </tr>\n",
       "    <tr>\n",
       "      <th>2414</th>\n",
       "      <td>2020-01-31</td>\n",
       "      <td>640.000000</td>\n",
       "      <td>653.000000</td>\n",
       "      <td>632.520020</td>\n",
       "      <td>650.570007</td>\n",
       "      <td>15719300</td>\n",
       "    </tr>\n",
       "    <tr>\n",
       "      <th>2415</th>\n",
       "      <td>2020-02-03</td>\n",
       "      <td>673.690002</td>\n",
       "      <td>786.140015</td>\n",
       "      <td>673.520020</td>\n",
       "      <td>780.000000</td>\n",
       "      <td>47065000</td>\n",
       "    </tr>\n",
       "  </tbody>\n",
       "</table>\n",
       "<p>2416 rows × 6 columns</p>\n",
       "</div>"
      ],
      "text/plain": [
       "            Date        Open        High         Low       Close    Volume\n",
       "0     2010-06-29   19.000000   25.000000   17.540001   23.889999  18766300\n",
       "1     2010-06-30   25.790001   30.420000   23.299999   23.830000  17187100\n",
       "2     2010-07-01   25.000000   25.920000   20.270000   21.959999   8218800\n",
       "3     2010-07-02   23.000000   23.100000   18.709999   19.200001   5139800\n",
       "4     2010-07-06   20.000000   20.000000   15.830000   16.110001   6866900\n",
       "...          ...         ...         ...         ...         ...       ...\n",
       "2411  2020-01-28  568.489990  576.809998  558.080017  566.900024  11788500\n",
       "2412  2020-01-29  575.690002  589.799988  567.429993  580.989990  17801500\n",
       "2413  2020-01-30  632.419983  650.880005  618.000000  640.809998  29005700\n",
       "2414  2020-01-31  640.000000  653.000000  632.520020  650.570007  15719300\n",
       "2415  2020-02-03  673.690002  786.140015  673.520020  780.000000  47065000\n",
       "\n",
       "[2416 rows x 6 columns]"
      ]
     },
     "execution_count": 103,
     "metadata": {},
     "output_type": "execute_result"
    }
   ],
   "source": [
    "df"
   ]
  },
  {
   "cell_type": "code",
   "execution_count": 113,
   "id": "f1cfdacf",
   "metadata": {},
   "outputs": [
    {
     "data": {
      "text/plain": [
       "<AxesSubplot:>"
      ]
     },
     "execution_count": 113,
     "metadata": {},
     "output_type": "execute_result"
    },
    {
     "data": {
      "image/png": "[encoded data removed]",
      "text/plain": [
       "<Figure size 1800x360 with 1 Axes>"
      ]
     },
     "metadata": {
      "needs_background": "light"
     },
     "output_type": "display_data"
    }
   ],
   "source": [
    "from matplotlib.pyplot import figure\n",
    "\n",
    "figure(figsize=(15, 3), dpi=120)\n",
    "\n",
    "df['Volume'].plot()"
   ]
  },
  {
   "cell_type": "code",
   "execution_count": null,
   "id": "QeQhdd3DXi1_",
   "metadata": {
    "id": "QeQhdd3DXi1_"
   },
   "outputs": [],
   "source": [
    "import numpy as np\n",
    "ind = [np.random.randint(0, len(df)) for i in range(50)]"
   ]
  },
  {
   "cell_type": "code",
   "execution_count": null,
   "id": "PZF4YiMZXC1C",
   "metadata": {
    "colab": {
     "base_uri": "https://localhost:8080/"
    },
    "id": "PZF4YiMZXC1C",
    "outputId": "139b7b77-b926-46b9-9b92-5113bb746f8d"
   },
   "outputs": [
    {
     "name": "stderr",
     "output_type": "stream",
     "text": [
      "/usr/local/lib/python3.7/dist-packages/ipykernel_launcher.py:1: SettingWithCopyWarning: \n",
      "A value is trying to be set on a copy of a slice from a DataFrame\n",
      "\n",
      "See the caveats in the documentation: https://pandas.pydata.org/pandas-docs/stable/user_guide/indexing.html#returning-a-view-versus-a-copy\n",
      "  \"\"\"Entry point for launching an IPython kernel.\n"
     ]
    }
   ],
   "source": [
    "df['Close'][ind] = None"
   ]
  },
  {
   "cell_type": "code",
   "execution_count": null,
   "id": "8InxuS9xX-jt",
   "metadata": {
    "colab": {
     "base_uri": "https://localhost:8080/"
    },
    "id": "8InxuS9xX-jt",
    "outputId": "3f46f19b-8433-48fd-96ad-830e2093190f"
   },
   "outputs": [
    {
     "name": "stdout",
     "output_type": "stream",
     "text": [
      "<class 'pandas.core.frame.DataFrame'>\n",
      "RangeIndex: 2416 entries, 0 to 2415\n",
      "Data columns (total 7 columns):\n",
      " #   Column     Non-Null Count  Dtype  \n",
      "---  ------     --------------  -----  \n",
      " 0   Date       2416 non-null   object \n",
      " 1   Open       2416 non-null   float64\n",
      " 2   High       2416 non-null   float64\n",
      " 3   Low        2416 non-null   float64\n",
      " 4   Close      2366 non-null   float64\n",
      " 5   Adj Close  2416 non-null   float64\n",
      " 6   Volume     2416 non-null   int64  \n",
      "dtypes: float64(5), int64(1), object(1)\n",
      "memory usage: 132.2+ KB\n"
     ]
    }
   ],
   "source": [
    "df.info()"
   ]
  },
  {
   "cell_type": "code",
   "execution_count": null,
   "id": "eynr0eBeX-rR",
   "metadata": {
    "colab": {
     "base_uri": "https://localhost:8080/",
     "height": 1000
    },
    "id": "eynr0eBeX-rR",
    "outputId": "5640bab7-bed8-4ca2-80ec-b32932d3bfba"
   },
   "outputs": [
    {
     "data": {
      "text/html": [
       "<div>\n",
       "<style scoped>\n",
       "    .dataframe tbody tr th:only-of-type {\n",
       "        vertical-align: middle;\n",
       "    }\n",
       "\n",
       "    .dataframe tbody tr th {\n",
       "        vertical-align: top;\n",
       "    }\n",
       "\n",
       "    .dataframe thead th {\n",
       "        text-align: right;\n",
       "    }\n",
       "</style>\n",
       "<table border=\"1\" class=\"dataframe\">\n",
       "  <thead>\n",
       "    <tr style=\"text-align: right;\">\n",
       "      <th></th>\n",
       "      <th>Date</th>\n",
       "      <th>Open</th>\n",
       "      <th>High</th>\n",
       "      <th>Low</th>\n",
       "      <th>Close</th>\n",
       "      <th>Adj Close</th>\n",
       "      <th>Volume</th>\n",
       "    </tr>\n",
       "  </thead>\n",
       "  <tbody>\n",
       "    <tr>\n",
       "      <th>79</th>\n",
       "      <td>2010-10-20</td>\n",
       "      <td>20.160000</td>\n",
       "      <td>20.690001</td>\n",
       "      <td>20.040001</td>\n",
       "      <td>NaN</td>\n",
       "      <td>20.650000</td>\n",
       "      <td>312500</td>\n",
       "    </tr>\n",
       "    <tr>\n",
       "      <th>176</th>\n",
       "      <td>2011-03-10</td>\n",
       "      <td>24.440001</td>\n",
       "      <td>24.490000</td>\n",
       "      <td>23.730000</td>\n",
       "      <td>NaN</td>\n",
       "      <td>24.010000</td>\n",
       "      <td>1017000</td>\n",
       "    </tr>\n",
       "    <tr>\n",
       "      <th>241</th>\n",
       "      <td>2011-06-13</td>\n",
       "      <td>28.070000</td>\n",
       "      <td>28.879999</td>\n",
       "      <td>27.879999</td>\n",
       "      <td>NaN</td>\n",
       "      <td>28.430000</td>\n",
       "      <td>1713400</td>\n",
       "    </tr>\n",
       "    <tr>\n",
       "      <th>245</th>\n",
       "      <td>2011-06-17</td>\n",
       "      <td>26.870001</td>\n",
       "      <td>27.700001</td>\n",
       "      <td>26.139999</td>\n",
       "      <td>NaN</td>\n",
       "      <td>26.500000</td>\n",
       "      <td>1714000</td>\n",
       "    </tr>\n",
       "    <tr>\n",
       "      <th>348</th>\n",
       "      <td>2011-11-11</td>\n",
       "      <td>31.900000</td>\n",
       "      <td>34.500000</td>\n",
       "      <td>30.570000</td>\n",
       "      <td>NaN</td>\n",
       "      <td>33.639999</td>\n",
       "      <td>3868300</td>\n",
       "    </tr>\n",
       "    <tr>\n",
       "      <th>390</th>\n",
       "      <td>2012-01-13</td>\n",
       "      <td>28.400000</td>\n",
       "      <td>28.500000</td>\n",
       "      <td>22.639999</td>\n",
       "      <td>NaN</td>\n",
       "      <td>22.790001</td>\n",
       "      <td>5500400</td>\n",
       "    </tr>\n",
       "    <tr>\n",
       "      <th>428</th>\n",
       "      <td>2012-03-09</td>\n",
       "      <td>33.200001</td>\n",
       "      <td>35.310001</td>\n",
       "      <td>33.200001</td>\n",
       "      <td>NaN</td>\n",
       "      <td>34.740002</td>\n",
       "      <td>1553400</td>\n",
       "    </tr>\n",
       "    <tr>\n",
       "      <th>530</th>\n",
       "      <td>2012-08-03</td>\n",
       "      <td>26.900000</td>\n",
       "      <td>27.549999</td>\n",
       "      <td>26.740000</td>\n",
       "      <td>NaN</td>\n",
       "      <td>27.270000</td>\n",
       "      <td>1209500</td>\n",
       "    </tr>\n",
       "    <tr>\n",
       "      <th>541</th>\n",
       "      <td>2012-08-20</td>\n",
       "      <td>30.150000</td>\n",
       "      <td>30.389999</td>\n",
       "      <td>29.100000</td>\n",
       "      <td>NaN</td>\n",
       "      <td>29.510000</td>\n",
       "      <td>1179100</td>\n",
       "    </tr>\n",
       "    <tr>\n",
       "      <th>616</th>\n",
       "      <td>2012-12-07</td>\n",
       "      <td>34.299999</td>\n",
       "      <td>34.490002</td>\n",
       "      <td>33.849998</td>\n",
       "      <td>NaN</td>\n",
       "      <td>34.169998</td>\n",
       "      <td>664400</td>\n",
       "    </tr>\n",
       "    <tr>\n",
       "      <th>637</th>\n",
       "      <td>2013-01-09</td>\n",
       "      <td>34.009998</td>\n",
       "      <td>34.189999</td>\n",
       "      <td>33.400002</td>\n",
       "      <td>NaN</td>\n",
       "      <td>33.639999</td>\n",
       "      <td>698000</td>\n",
       "    </tr>\n",
       "    <tr>\n",
       "      <th>726</th>\n",
       "      <td>2013-05-17</td>\n",
       "      <td>92.500000</td>\n",
       "      <td>94.440002</td>\n",
       "      <td>87.500000</td>\n",
       "      <td>NaN</td>\n",
       "      <td>91.500000</td>\n",
       "      <td>19002200</td>\n",
       "    </tr>\n",
       "    <tr>\n",
       "      <th>727</th>\n",
       "      <td>2013-05-20</td>\n",
       "      <td>91.120003</td>\n",
       "      <td>92.500000</td>\n",
       "      <td>88.629997</td>\n",
       "      <td>NaN</td>\n",
       "      <td>89.940002</td>\n",
       "      <td>8348400</td>\n",
       "    </tr>\n",
       "    <tr>\n",
       "      <th>758</th>\n",
       "      <td>2013-07-03</td>\n",
       "      <td>118.000000</td>\n",
       "      <td>119.250000</td>\n",
       "      <td>114.269997</td>\n",
       "      <td>NaN</td>\n",
       "      <td>115.239998</td>\n",
       "      <td>4806700</td>\n",
       "    </tr>\n",
       "    <tr>\n",
       "      <th>789</th>\n",
       "      <td>2013-08-16</td>\n",
       "      <td>141.630005</td>\n",
       "      <td>143.910004</td>\n",
       "      <td>140.970001</td>\n",
       "      <td>NaN</td>\n",
       "      <td>142.000000</td>\n",
       "      <td>7108100</td>\n",
       "    </tr>\n",
       "    <tr>\n",
       "      <th>895</th>\n",
       "      <td>2014-01-17</td>\n",
       "      <td>170.190002</td>\n",
       "      <td>173.199997</td>\n",
       "      <td>167.949997</td>\n",
       "      <td>NaN</td>\n",
       "      <td>170.009995</td>\n",
       "      <td>9206200</td>\n",
       "    </tr>\n",
       "    <tr>\n",
       "      <th>964</th>\n",
       "      <td>2014-04-29</td>\n",
       "      <td>198.210007</td>\n",
       "      <td>207.149994</td>\n",
       "      <td>195.529999</td>\n",
       "      <td>NaN</td>\n",
       "      <td>206.919998</td>\n",
       "      <td>5779100</td>\n",
       "    </tr>\n",
       "    <tr>\n",
       "      <th>1000</th>\n",
       "      <td>2014-06-19</td>\n",
       "      <td>228.880005</td>\n",
       "      <td>235.309998</td>\n",
       "      <td>227.000000</td>\n",
       "      <td>NaN</td>\n",
       "      <td>227.789993</td>\n",
       "      <td>8793100</td>\n",
       "    </tr>\n",
       "    <tr>\n",
       "      <th>1140</th>\n",
       "      <td>2015-01-08</td>\n",
       "      <td>212.809998</td>\n",
       "      <td>213.800003</td>\n",
       "      <td>210.009995</td>\n",
       "      <td>NaN</td>\n",
       "      <td>210.619995</td>\n",
       "      <td>3442500</td>\n",
       "    </tr>\n",
       "    <tr>\n",
       "      <th>1204</th>\n",
       "      <td>2015-04-13</td>\n",
       "      <td>210.440002</td>\n",
       "      <td>213.000000</td>\n",
       "      <td>209.050003</td>\n",
       "      <td>NaN</td>\n",
       "      <td>209.779999</td>\n",
       "      <td>3758200</td>\n",
       "    </tr>\n",
       "    <tr>\n",
       "      <th>1212</th>\n",
       "      <td>2015-04-23</td>\n",
       "      <td>218.270004</td>\n",
       "      <td>221.479996</td>\n",
       "      <td>217.149994</td>\n",
       "      <td>NaN</td>\n",
       "      <td>218.600006</td>\n",
       "      <td>4411200</td>\n",
       "    </tr>\n",
       "    <tr>\n",
       "      <th>1280</th>\n",
       "      <td>2015-07-30</td>\n",
       "      <td>262.690002</td>\n",
       "      <td>266.940002</td>\n",
       "      <td>262.109985</td>\n",
       "      <td>NaN</td>\n",
       "      <td>266.790009</td>\n",
       "      <td>2034600</td>\n",
       "    </tr>\n",
       "    <tr>\n",
       "      <th>1296</th>\n",
       "      <td>2015-08-21</td>\n",
       "      <td>236.000000</td>\n",
       "      <td>243.800003</td>\n",
       "      <td>230.509995</td>\n",
       "      <td>NaN</td>\n",
       "      <td>230.770004</td>\n",
       "      <td>6590200</td>\n",
       "    </tr>\n",
       "    <tr>\n",
       "      <th>1325</th>\n",
       "      <td>2015-10-02</td>\n",
       "      <td>235.600006</td>\n",
       "      <td>247.699997</td>\n",
       "      <td>234.929993</td>\n",
       "      <td>NaN</td>\n",
       "      <td>247.570007</td>\n",
       "      <td>4424000</td>\n",
       "    </tr>\n",
       "    <tr>\n",
       "      <th>1368</th>\n",
       "      <td>2015-12-03</td>\n",
       "      <td>235.479996</td>\n",
       "      <td>237.449997</td>\n",
       "      <td>230.000000</td>\n",
       "      <td>NaN</td>\n",
       "      <td>232.710007</td>\n",
       "      <td>2939600</td>\n",
       "    </tr>\n",
       "    <tr>\n",
       "      <th>1371</th>\n",
       "      <td>2015-12-08</td>\n",
       "      <td>227.520004</td>\n",
       "      <td>228.800003</td>\n",
       "      <td>224.199997</td>\n",
       "      <td>NaN</td>\n",
       "      <td>226.720001</td>\n",
       "      <td>2687600</td>\n",
       "    </tr>\n",
       "    <tr>\n",
       "      <th>1397</th>\n",
       "      <td>2016-01-15</td>\n",
       "      <td>198.970001</td>\n",
       "      <td>205.070007</td>\n",
       "      <td>197.250000</td>\n",
       "      <td>NaN</td>\n",
       "      <td>204.990005</td>\n",
       "      <td>5578600</td>\n",
       "    </tr>\n",
       "    <tr>\n",
       "      <th>1566</th>\n",
       "      <td>2016-09-16</td>\n",
       "      <td>200.419998</td>\n",
       "      <td>205.699997</td>\n",
       "      <td>199.000000</td>\n",
       "      <td>NaN</td>\n",
       "      <td>205.399994</td>\n",
       "      <td>3107800</td>\n",
       "    </tr>\n",
       "    <tr>\n",
       "      <th>1581</th>\n",
       "      <td>2016-10-07</td>\n",
       "      <td>201.000000</td>\n",
       "      <td>201.320007</td>\n",
       "      <td>195.800003</td>\n",
       "      <td>NaN</td>\n",
       "      <td>196.610001</td>\n",
       "      <td>3493000</td>\n",
       "    </tr>\n",
       "    <tr>\n",
       "      <th>1584</th>\n",
       "      <td>2016-10-12</td>\n",
       "      <td>200.949997</td>\n",
       "      <td>203.880005</td>\n",
       "      <td>200.419998</td>\n",
       "      <td>NaN</td>\n",
       "      <td>201.509995</td>\n",
       "      <td>1970700</td>\n",
       "    </tr>\n",
       "    <tr>\n",
       "      <th>1598</th>\n",
       "      <td>2016-11-01</td>\n",
       "      <td>198.039993</td>\n",
       "      <td>198.500000</td>\n",
       "      <td>188.110001</td>\n",
       "      <td>NaN</td>\n",
       "      <td>190.789993</td>\n",
       "      <td>7060000</td>\n",
       "    </tr>\n",
       "    <tr>\n",
       "      <th>1632</th>\n",
       "      <td>2016-12-20</td>\n",
       "      <td>203.050003</td>\n",
       "      <td>209.000000</td>\n",
       "      <td>202.500000</td>\n",
       "      <td>NaN</td>\n",
       "      <td>208.789993</td>\n",
       "      <td>4689100</td>\n",
       "    </tr>\n",
       "    <tr>\n",
       "      <th>1664</th>\n",
       "      <td>2017-02-07</td>\n",
       "      <td>258.190002</td>\n",
       "      <td>260.000000</td>\n",
       "      <td>256.420013</td>\n",
       "      <td>NaN</td>\n",
       "      <td>257.480011</td>\n",
       "      <td>4244800</td>\n",
       "    </tr>\n",
       "    <tr>\n",
       "      <th>1713</th>\n",
       "      <td>2017-04-19</td>\n",
       "      <td>302.459991</td>\n",
       "      <td>306.619995</td>\n",
       "      <td>302.109985</td>\n",
       "      <td>NaN</td>\n",
       "      <td>305.519989</td>\n",
       "      <td>3898000</td>\n",
       "    </tr>\n",
       "    <tr>\n",
       "      <th>1730</th>\n",
       "      <td>2017-05-12</td>\n",
       "      <td>325.480011</td>\n",
       "      <td>327.000000</td>\n",
       "      <td>321.529999</td>\n",
       "      <td>NaN</td>\n",
       "      <td>324.809998</td>\n",
       "      <td>4121600</td>\n",
       "    </tr>\n",
       "    <tr>\n",
       "      <th>1731</th>\n",
       "      <td>2017-05-15</td>\n",
       "      <td>318.380005</td>\n",
       "      <td>320.200012</td>\n",
       "      <td>312.529999</td>\n",
       "      <td>NaN</td>\n",
       "      <td>315.880005</td>\n",
       "      <td>7622000</td>\n",
       "    </tr>\n",
       "    <tr>\n",
       "      <th>1752</th>\n",
       "      <td>2017-06-14</td>\n",
       "      <td>381.089996</td>\n",
       "      <td>384.250000</td>\n",
       "      <td>376.309998</td>\n",
       "      <td>NaN</td>\n",
       "      <td>380.660004</td>\n",
       "      <td>12818400</td>\n",
       "    </tr>\n",
       "    <tr>\n",
       "      <th>1764</th>\n",
       "      <td>2017-06-30</td>\n",
       "      <td>363.709991</td>\n",
       "      <td>366.769989</td>\n",
       "      <td>359.619995</td>\n",
       "      <td>NaN</td>\n",
       "      <td>361.609985</td>\n",
       "      <td>5848500</td>\n",
       "    </tr>\n",
       "    <tr>\n",
       "      <th>1774</th>\n",
       "      <td>2017-07-17</td>\n",
       "      <td>325.540009</td>\n",
       "      <td>327.100006</td>\n",
       "      <td>313.450012</td>\n",
       "      <td>NaN</td>\n",
       "      <td>319.570007</td>\n",
       "      <td>9876900</td>\n",
       "    </tr>\n",
       "    <tr>\n",
       "      <th>1796</th>\n",
       "      <td>2017-08-16</td>\n",
       "      <td>363.000000</td>\n",
       "      <td>366.500000</td>\n",
       "      <td>362.519989</td>\n",
       "      <td>NaN</td>\n",
       "      <td>362.910004</td>\n",
       "      <td>3413800</td>\n",
       "    </tr>\n",
       "    <tr>\n",
       "      <th>1854</th>\n",
       "      <td>2017-11-07</td>\n",
       "      <td>301.019989</td>\n",
       "      <td>306.500000</td>\n",
       "      <td>300.029999</td>\n",
       "      <td>NaN</td>\n",
       "      <td>306.049988</td>\n",
       "      <td>5294300</td>\n",
       "    </tr>\n",
       "    <tr>\n",
       "      <th>1904</th>\n",
       "      <td>2018-01-22</td>\n",
       "      <td>349.399994</td>\n",
       "      <td>357.829987</td>\n",
       "      <td>349.200012</td>\n",
       "      <td>NaN</td>\n",
       "      <td>351.559998</td>\n",
       "      <td>6210400</td>\n",
       "    </tr>\n",
       "    <tr>\n",
       "      <th>1943</th>\n",
       "      <td>2018-03-19</td>\n",
       "      <td>316.500000</td>\n",
       "      <td>320.750000</td>\n",
       "      <td>309.670013</td>\n",
       "      <td>NaN</td>\n",
       "      <td>313.559998</td>\n",
       "      <td>7484300</td>\n",
       "    </tr>\n",
       "    <tr>\n",
       "      <th>1957</th>\n",
       "      <td>2018-04-09</td>\n",
       "      <td>300.369995</td>\n",
       "      <td>309.500000</td>\n",
       "      <td>289.209991</td>\n",
       "      <td>NaN</td>\n",
       "      <td>289.660004</td>\n",
       "      <td>10249800</td>\n",
       "    </tr>\n",
       "    <tr>\n",
       "      <th>2015</th>\n",
       "      <td>2018-06-29</td>\n",
       "      <td>353.329987</td>\n",
       "      <td>353.859985</td>\n",
       "      <td>342.410004</td>\n",
       "      <td>NaN</td>\n",
       "      <td>342.950012</td>\n",
       "      <td>6492400</td>\n",
       "    </tr>\n",
       "    <tr>\n",
       "      <th>2098</th>\n",
       "      <td>2018-10-26</td>\n",
       "      <td>308.250000</td>\n",
       "      <td>339.899994</td>\n",
       "      <td>306.649994</td>\n",
       "      <td>NaN</td>\n",
       "      <td>330.899994</td>\n",
       "      <td>27425500</td>\n",
       "    </tr>\n",
       "    <tr>\n",
       "      <th>2102</th>\n",
       "      <td>2018-11-01</td>\n",
       "      <td>338.260010</td>\n",
       "      <td>347.839996</td>\n",
       "      <td>334.730011</td>\n",
       "      <td>NaN</td>\n",
       "      <td>344.279999</td>\n",
       "      <td>8000100</td>\n",
       "    </tr>\n",
       "    <tr>\n",
       "      <th>2124</th>\n",
       "      <td>2018-12-04</td>\n",
       "      <td>356.049988</td>\n",
       "      <td>368.679993</td>\n",
       "      <td>352.000000</td>\n",
       "      <td>NaN</td>\n",
       "      <td>359.700012</td>\n",
       "      <td>8461900</td>\n",
       "    </tr>\n",
       "    <tr>\n",
       "      <th>2273</th>\n",
       "      <td>2019-07-11</td>\n",
       "      <td>238.139999</td>\n",
       "      <td>241.500000</td>\n",
       "      <td>235.800003</td>\n",
       "      <td>NaN</td>\n",
       "      <td>238.600006</td>\n",
       "      <td>7514400</td>\n",
       "    </tr>\n",
       "    <tr>\n",
       "      <th>2312</th>\n",
       "      <td>2019-09-05</td>\n",
       "      <td>222.500000</td>\n",
       "      <td>229.800003</td>\n",
       "      <td>220.850006</td>\n",
       "      <td>NaN</td>\n",
       "      <td>229.580002</td>\n",
       "      <td>7395300</td>\n",
       "    </tr>\n",
       "  </tbody>\n",
       "</table>\n",
       "</div>"
      ],
      "text/plain": [
       "            Date        Open        High  ...  Close   Adj Close    Volume\n",
       "79    2010-10-20   20.160000   20.690001  ...    NaN   20.650000    312500\n",
       "176   2011-03-10   24.440001   24.490000  ...    NaN   24.010000   1017000\n",
       "241   2011-06-13   28.070000   28.879999  ...    NaN   28.430000   1713400\n",
       "245   2011-06-17   26.870001   27.700001  ...    NaN   26.500000   1714000\n",
       "348   2011-11-11   31.900000   34.500000  ...    NaN   33.639999   3868300\n",
       "390   2012-01-13   28.400000   28.500000  ...    NaN   22.790001   5500400\n",
       "428   2012-03-09   33.200001   35.310001  ...    NaN   34.740002   1553400\n",
       "530   2012-08-03   26.900000   27.549999  ...    NaN   27.270000   1209500\n",
       "541   2012-08-20   30.150000   30.389999  ...    NaN   29.510000   1179100\n",
       "616   2012-12-07   34.299999   34.490002  ...    NaN   34.169998    664400\n",
       "637   2013-01-09   34.009998   34.189999  ...    NaN   33.639999    698000\n",
       "726   2013-05-17   92.500000   94.440002  ...    NaN   91.500000  19002200\n",
       "727   2013-05-20   91.120003   92.500000  ...    NaN   89.940002   8348400\n",
       "758   2013-07-03  118.000000  119.250000  ...    NaN  115.239998   4806700\n",
       "789   2013-08-16  141.630005  143.910004  ...    NaN  142.000000   7108100\n",
       "895   2014-01-17  170.190002  173.199997  ...    NaN  170.009995   9206200\n",
       "964   2014-04-29  198.210007  207.149994  ...    NaN  206.919998   5779100\n",
       "1000  2014-06-19  228.880005  235.309998  ...    NaN  227.789993   8793100\n",
       "1140  2015-01-08  212.809998  213.800003  ...    NaN  210.619995   3442500\n",
       "1204  2015-04-13  210.440002  213.000000  ...    NaN  209.779999   3758200\n",
       "1212  2015-04-23  218.270004  221.479996  ...    NaN  218.600006   4411200\n",
       "1280  2015-07-30  262.690002  266.940002  ...    NaN  266.790009   2034600\n",
       "1296  2015-08-21  236.000000  243.800003  ...    NaN  230.770004   6590200\n",
       "1325  2015-10-02  235.600006  247.699997  ...    NaN  247.570007   4424000\n",
       "1368  2015-12-03  235.479996  237.449997  ...    NaN  232.710007   2939600\n",
       "1371  2015-12-08  227.520004  228.800003  ...    NaN  226.720001   2687600\n",
       "1397  2016-01-15  198.970001  205.070007  ...    NaN  204.990005   5578600\n",
       "1566  2016-09-16  200.419998  205.699997  ...    NaN  205.399994   3107800\n",
       "1581  2016-10-07  201.000000  201.320007  ...    NaN  196.610001   3493000\n",
       "1584  2016-10-12  200.949997  203.880005  ...    NaN  201.509995   1970700\n",
       "1598  2016-11-01  198.039993  198.500000  ...    NaN  190.789993   7060000\n",
       "1632  2016-12-20  203.050003  209.000000  ...    NaN  208.789993   4689100\n",
       "1664  2017-02-07  258.190002  260.000000  ...    NaN  257.480011   4244800\n",
       "1713  2017-04-19  302.459991  306.619995  ...    NaN  305.519989   3898000\n",
       "1730  2017-05-12  325.480011  327.000000  ...    NaN  324.809998   4121600\n",
       "1731  2017-05-15  318.380005  320.200012  ...    NaN  315.880005   7622000\n",
       "1752  2017-06-14  381.089996  384.250000  ...    NaN  380.660004  12818400\n",
       "1764  2017-06-30  363.709991  366.769989  ...    NaN  361.609985   5848500\n",
       "1774  2017-07-17  325.540009  327.100006  ...    NaN  319.570007   9876900\n",
       "1796  2017-08-16  363.000000  366.500000  ...    NaN  362.910004   3413800\n",
       "1854  2017-11-07  301.019989  306.500000  ...    NaN  306.049988   5294300\n",
       "1904  2018-01-22  349.399994  357.829987  ...    NaN  351.559998   6210400\n",
       "1943  2018-03-19  316.500000  320.750000  ...    NaN  313.559998   7484300\n",
       "1957  2018-04-09  300.369995  309.500000  ...    NaN  289.660004  10249800\n",
       "2015  2018-06-29  353.329987  353.859985  ...    NaN  342.950012   6492400\n",
       "2098  2018-10-26  308.250000  339.899994  ...    NaN  330.899994  27425500\n",
       "2102  2018-11-01  338.260010  347.839996  ...    NaN  344.279999   8000100\n",
       "2124  2018-12-04  356.049988  368.679993  ...    NaN  359.700012   8461900\n",
       "2273  2019-07-11  238.139999  241.500000  ...    NaN  238.600006   7514400\n",
       "2312  2019-09-05  222.500000  229.800003  ...    NaN  229.580002   7395300\n",
       "\n",
       "[50 rows x 7 columns]"
      ]
     },
     "execution_count": 88,
     "metadata": {},
     "output_type": "execute_result"
    }
   ],
   "source": [
    "df[df.Close.isna()]"
   ]
  },
  {
   "cell_type": "code",
   "execution_count": null,
   "id": "kpmF-PytYNut",
   "metadata": {
    "colab": {
     "base_uri": "https://localhost:8080/",
     "height": 282
    },
    "id": "kpmF-PytYNut",
    "outputId": "d1becfdd-66b0-4f30-d047-55d053a6d4f0"
   },
   "outputs": [
    {
     "data": {
      "text/plain": [
       "[<matplotlib.lines.Line2D at 0x7ff2786458d0>]"
      ]
     },
     "execution_count": 91,
     "metadata": {},
     "output_type": "execute_result"
    },
    {
     "data": {
      "image/png": "[encoded data removed]",
      "text/plain": [
       "<Figure size 432x288 with 1 Axes>"
      ]
     },
     "metadata": {
      "needs_background": "light"
     },
     "output_type": "display_data"
    }
   ],
   "source": [
    "plt.plot(df[df.Close.isna() == False]['Close'].index, df[df.Close.isna() == False]['Close'])"
   ]
  },
  {
   "cell_type": "code",
   "execution_count": null,
   "id": "SIEjfDzDY0Ns",
   "metadata": {
    "colab": {
     "base_uri": "https://localhost:8080/",
     "height": 423
    },
    "id": "SIEjfDzDY0Ns",
    "outputId": "577d6617-bd9e-437b-f9f4-a324273f5363"
   },
   "outputs": [
    {
     "data": {
      "text/html": [
       "<div>\n",
       "<style scoped>\n",
       "    .dataframe tbody tr th:only-of-type {\n",
       "        vertical-align: middle;\n",
       "    }\n",
       "\n",
       "    .dataframe tbody tr th {\n",
       "        vertical-align: top;\n",
       "    }\n",
       "\n",
       "    .dataframe thead th {\n",
       "        text-align: right;\n",
       "    }\n",
       "</style>\n",
       "<table border=\"1\" class=\"dataframe\">\n",
       "  <thead>\n",
       "    <tr style=\"text-align: right;\">\n",
       "      <th></th>\n",
       "      <th>Date</th>\n",
       "      <th>Open</th>\n",
       "      <th>High</th>\n",
       "      <th>Low</th>\n",
       "      <th>Close</th>\n",
       "      <th>Adj Close</th>\n",
       "      <th>Volume</th>\n",
       "    </tr>\n",
       "  </thead>\n",
       "  <tbody>\n",
       "    <tr>\n",
       "      <th>78</th>\n",
       "      <td>NaN</td>\n",
       "      <td>NaN</td>\n",
       "      <td>NaN</td>\n",
       "      <td>NaN</td>\n",
       "      <td>NaN</td>\n",
       "      <td>NaN</td>\n",
       "      <td>NaN</td>\n",
       "    </tr>\n",
       "    <tr>\n",
       "      <th>80</th>\n",
       "      <td>NaN</td>\n",
       "      <td>NaN</td>\n",
       "      <td>NaN</td>\n",
       "      <td>NaN</td>\n",
       "      <td>NaN</td>\n",
       "      <td>NaN</td>\n",
       "      <td>NaN</td>\n",
       "    </tr>\n",
       "    <tr>\n",
       "      <th>175</th>\n",
       "      <td>NaN</td>\n",
       "      <td>NaN</td>\n",
       "      <td>NaN</td>\n",
       "      <td>NaN</td>\n",
       "      <td>NaN</td>\n",
       "      <td>NaN</td>\n",
       "      <td>NaN</td>\n",
       "    </tr>\n",
       "    <tr>\n",
       "      <th>177</th>\n",
       "      <td>NaN</td>\n",
       "      <td>NaN</td>\n",
       "      <td>NaN</td>\n",
       "      <td>NaN</td>\n",
       "      <td>NaN</td>\n",
       "      <td>NaN</td>\n",
       "      <td>NaN</td>\n",
       "    </tr>\n",
       "    <tr>\n",
       "      <th>240</th>\n",
       "      <td>NaN</td>\n",
       "      <td>NaN</td>\n",
       "      <td>NaN</td>\n",
       "      <td>NaN</td>\n",
       "      <td>NaN</td>\n",
       "      <td>NaN</td>\n",
       "      <td>NaN</td>\n",
       "    </tr>\n",
       "    <tr>\n",
       "      <th>...</th>\n",
       "      <td>...</td>\n",
       "      <td>...</td>\n",
       "      <td>...</td>\n",
       "      <td>...</td>\n",
       "      <td>...</td>\n",
       "      <td>...</td>\n",
       "      <td>...</td>\n",
       "    </tr>\n",
       "    <tr>\n",
       "      <th>2125</th>\n",
       "      <td>NaN</td>\n",
       "      <td>NaN</td>\n",
       "      <td>NaN</td>\n",
       "      <td>NaN</td>\n",
       "      <td>NaN</td>\n",
       "      <td>NaN</td>\n",
       "      <td>NaN</td>\n",
       "    </tr>\n",
       "    <tr>\n",
       "      <th>2272</th>\n",
       "      <td>NaN</td>\n",
       "      <td>NaN</td>\n",
       "      <td>NaN</td>\n",
       "      <td>NaN</td>\n",
       "      <td>NaN</td>\n",
       "      <td>NaN</td>\n",
       "      <td>NaN</td>\n",
       "    </tr>\n",
       "    <tr>\n",
       "      <th>2274</th>\n",
       "      <td>NaN</td>\n",
       "      <td>NaN</td>\n",
       "      <td>NaN</td>\n",
       "      <td>NaN</td>\n",
       "      <td>NaN</td>\n",
       "      <td>NaN</td>\n",
       "      <td>NaN</td>\n",
       "    </tr>\n",
       "    <tr>\n",
       "      <th>2311</th>\n",
       "      <td>NaN</td>\n",
       "      <td>NaN</td>\n",
       "      <td>NaN</td>\n",
       "      <td>NaN</td>\n",
       "      <td>NaN</td>\n",
       "      <td>NaN</td>\n",
       "      <td>NaN</td>\n",
       "    </tr>\n",
       "    <tr>\n",
       "      <th>2313</th>\n",
       "      <td>NaN</td>\n",
       "      <td>NaN</td>\n",
       "      <td>NaN</td>\n",
       "      <td>NaN</td>\n",
       "      <td>NaN</td>\n",
       "      <td>NaN</td>\n",
       "      <td>NaN</td>\n",
       "    </tr>\n",
       "  </tbody>\n",
       "</table>\n",
       "<p>100 rows × 7 columns</p>\n",
       "</div>"
      ],
      "text/plain": [
       "      Date  Open  High  Low  Close  Adj Close  Volume\n",
       "78     NaN   NaN   NaN  NaN    NaN        NaN     NaN\n",
       "80     NaN   NaN   NaN  NaN    NaN        NaN     NaN\n",
       "175    NaN   NaN   NaN  NaN    NaN        NaN     NaN\n",
       "177    NaN   NaN   NaN  NaN    NaN        NaN     NaN\n",
       "240    NaN   NaN   NaN  NaN    NaN        NaN     NaN\n",
       "...    ...   ...   ...  ...    ...        ...     ...\n",
       "2125   NaN   NaN   NaN  NaN    NaN        NaN     NaN\n",
       "2272   NaN   NaN   NaN  NaN    NaN        NaN     NaN\n",
       "2274   NaN   NaN   NaN  NaN    NaN        NaN     NaN\n",
       "2311   NaN   NaN   NaN  NaN    NaN        NaN     NaN\n",
       "2313   NaN   NaN   NaN  NaN    NaN        NaN     NaN\n",
       "\n",
       "[100 rows x 7 columns]"
      ]
     },
     "execution_count": 100,
     "metadata": {},
     "output_type": "execute_result"
    }
   ],
   "source": [
    "# Заполним пропуски средним значением между вчера и завтра\n",
    "\n",
    "# а как\n"
   ]
  },
  {
   "cell_type": "code",
   "execution_count": null,
   "id": "P8L_6VGbX-wd",
   "metadata": {
    "colab": {
     "base_uri": "https://localhost:8080/"
    },
    "id": "P8L_6VGbX-wd",
    "outputId": "55eca9de-acae-4054-d7c1-b89400df4ed7"
   },
   "outputs": [
    {
     "data": {
      "text/plain": [
       "0        23.889999\n",
       "1        23.830000\n",
       "2        21.959999\n",
       "3        19.200001\n",
       "4        16.110001\n",
       "           ...    \n",
       "2411    566.900024\n",
       "2412    580.989990\n",
       "2413    640.809998\n",
       "2414    650.570007\n",
       "2415    780.000000\n",
       "Name: Close, Length: 2416, dtype: float64"
      ]
     },
     "execution_count": 101,
     "metadata": {},
     "output_type": "execute_result"
    }
   ],
   "source": [
    "df['Close'].fillna(df['Close'].mean())"
   ]
  },
  {
   "cell_type": "code",
   "execution_count": null,
   "id": "gaNBQKkaX-0s",
   "metadata": {
    "id": "gaNBQKkaX-0s"
   },
   "outputs": [],
   "source": []
  }
 ],
 "metadata": {
  "colab": {
   "collapsed_sections": [
    "36396f4c"
   ],
   "name": "Pandas_1.ipynb",
   "provenance": []
  },
  "kernelspec": {
   "display_name": "Python 3",
   "language": "python",
   "name": "python3"
  },
  "language_info": {
   "codemirror_mode": {
    "name": "ipython",
    "version": 3
   },
   "file_extension": ".py",
   "mimetype": "text/x-python",
   "name": "python",
   "nbconvert_exporter": "python",
   "pygments_lexer": "ipython3",
   "version": "3.10.2"
  }
 },
 "nbformat": 4,
 "nbformat_minor": 5
}
