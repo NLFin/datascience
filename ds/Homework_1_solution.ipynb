{
 "cells": [
  {
   "cell_type": "markdown",
   "metadata": {},
   "source": [
    "# Домашнее задание #1"
   ]
  },
  {
   "cell_type": "markdown",
   "metadata": {},
   "source": [
    "Для начала вам понадобится импортировать модуль `numpy` как `np`"
   ]
  },
  {
   "cell_type": "code",
   "execution_count": 1,
   "metadata": {},
   "outputs": [],
   "source": [
    "import numpy as np"
   ]
  },
  {
   "cell_type": "markdown",
   "metadata": {},
   "source": [
    "## Задача №1"
   ]
  },
  {
   "cell_type": "markdown",
   "metadata": {},
   "source": [
    "Считайте (через `input`) 2 числа: <br>\n",
    "`n` - размер `Numpy` вектора; <br>\n",
    "`x` - координата элемента вектора, который должен быть равен `1`. Остальные должны быть равны `0`. <br>\n",
    "Создайте вектор размера `n`, в котором все элементы равны `0`, кроме элемента с номером `x` - он равен `1`.\n"
   ]
  },
  {
   "cell_type": "code",
   "execution_count": 2,
   "metadata": {},
   "outputs": [
    {
     "name": "stdout",
     "output_type": "stream",
     "text": [
      "Введите размер матрицы через пробел\n",
      "5 1\n"
     ]
    }
   ],
   "source": [
    "print(\"Введите размер матрицы через пробел\")\n",
    "n, x = map(int, input().split())"
   ]
  },
  {
   "cell_type": "code",
   "execution_count": 3,
   "metadata": {},
   "outputs": [
    {
     "data": {
      "text/plain": [
       "array([0., 1., 0., 0., 0.])"
      ]
     },
     "execution_count": 3,
     "metadata": {},
     "output_type": "execute_result"
    }
   ],
   "source": [
    "vec = np.zeros(n)\n",
    "vec[x] = 1\n",
    "\n",
    "vec"
   ]
  },
  {
   "cell_type": "markdown",
   "metadata": {},
   "source": [
    "## Задача №2"
   ]
  },
  {
   "cell_type": "markdown",
   "metadata": {},
   "source": [
    "Считайте 3 числа: `n, m, s`. Создайте `Numpy` вектор, состоящий из чисел от `n` до `m` с шагом `s`."
   ]
  },
  {
   "cell_type": "code",
   "execution_count": 6,
   "metadata": {},
   "outputs": [
    {
     "name": "stdout",
     "output_type": "stream",
     "text": [
      "Введите три числа через пробел\n",
      "1 10 2\n"
     ]
    }
   ],
   "source": [
    "print(\"Введите три числа через пробел\")\n",
    "n, m, s = map(int, input().split())"
   ]
  },
  {
   "cell_type": "code",
   "execution_count": 7,
   "metadata": {},
   "outputs": [
    {
     "data": {
      "text/plain": [
       "array([1, 3, 5, 7, 9])"
      ]
     },
     "execution_count": 7,
     "metadata": {},
     "output_type": "execute_result"
    }
   ],
   "source": [
    "vec = np.arange(n, m, s)\n",
    "\n",
    "vec"
   ]
  },
  {
   "cell_type": "markdown",
   "metadata": {},
   "source": [
    "## Задача №3"
   ]
  },
  {
   "cell_type": "markdown",
   "metadata": {},
   "source": [
    "Создайте матрицу `3х3` со значениями от `0` до `8`. Значения нужно сгенерировать."
   ]
  },
  {
   "cell_type": "code",
   "execution_count": 8,
   "metadata": {},
   "outputs": [
    {
     "data": {
      "text/plain": [
       "array([[2, 5, 1],\n",
       "       [7, 2, 6],\n",
       "       [2, 5, 6]])"
      ]
     },
     "execution_count": 8,
     "metadata": {},
     "output_type": "execute_result"
    }
   ],
   "source": [
    "np.random.randint(low=0, high=8, size=(3,3))"
   ]
  },
  {
   "cell_type": "markdown",
   "metadata": {},
   "source": [
    "## Задача №4"
   ]
  },
  {
   "cell_type": "markdown",
   "metadata": {},
   "source": [
    "1. Создайте матрицу `4х4` со случайными значениями.\n",
    "2. Найдите максимальное значение первой строки, минимальное - второй, среднее - третьей, сумму - четвертой."
   ]
  },
  {
   "cell_type": "code",
   "execution_count": 9,
   "metadata": {},
   "outputs": [],
   "source": [
    "np.random.seed(seed=5)\n",
    "array = np.random.rand(4, 4)"
   ]
  },
  {
   "cell_type": "code",
   "execution_count": 10,
   "metadata": {},
   "outputs": [
    {
     "name": "stdout",
     "output_type": "stream",
     "text": [
      "max 0.9186\n",
      "min 0.4884\n",
      "mean 0.3259\n",
      "sum 1.7536\n"
     ]
    }
   ],
   "source": [
    "print(f'max {np.max(array[0, :]).round(4)}')\n",
    "print(f'min {np.min(array[1, :]).round(4)}')\n",
    "print(f'mean {np.mean(array[2, :]).round(4)}')\n",
    "print(f'sum {np.sum(array[3, :]).round(4)}')"
   ]
  },
  {
   "cell_type": "markdown",
   "metadata": {},
   "source": [
    "## Задача №5"
   ]
  },
  {
   "cell_type": "markdown",
   "metadata": {},
   "source": [
    "Создайте диагональную матрицу `5х5`, все ненулевые элементы равны 5."
   ]
  },
  {
   "cell_type": "code",
   "execution_count": 11,
   "metadata": {},
   "outputs": [
    {
     "data": {
      "text/plain": [
       "array([[1., 0., 0., 0., 0.],\n",
       "       [0., 1., 0., 0., 0.],\n",
       "       [0., 0., 1., 0., 0.],\n",
       "       [0., 0., 0., 1., 0.],\n",
       "       [0., 0., 0., 0., 1.]])"
      ]
     },
     "execution_count": 11,
     "metadata": {},
     "output_type": "execute_result"
    }
   ],
   "source": [
    "np.eye(5, 5)"
   ]
  },
  {
   "cell_type": "markdown",
   "metadata": {},
   "source": [
    "## Задача №6"
   ]
  },
  {
   "cell_type": "markdown",
   "metadata": {},
   "source": [
    "Создайте `Numpy` массив случайных чисел размерности `6х6х6` и найдите максимальное значение среди всех элементов."
   ]
  },
  {
   "cell_type": "code",
   "execution_count": 12,
   "metadata": {},
   "outputs": [
    {
     "name": "stdout",
     "output_type": "stream",
     "text": [
      "Максимальное число: 0.9972\n"
     ]
    }
   ],
   "source": [
    "matrix = np.random.rand(6,6,6)\n",
    "print(\"Максимальное число: \" + str(np.max(matrix).round(4)))"
   ]
  },
  {
   "cell_type": "markdown",
   "metadata": {},
   "source": [
    "## Задача №7"
   ]
  },
  {
   "cell_type": "markdown",
   "metadata": {},
   "source": [
    "Напишите функцию, которая принимает на вход 2 `Numpy` матрицы, проверяет, можно ли их перемножить, и если можно - то перемножает и возвращает транспонированную результирующую матрицу."
   ]
  },
  {
   "cell_type": "code",
   "execution_count": 13,
   "metadata": {},
   "outputs": [],
   "source": [
    "def cond_and_mult_and_trans(A, B):\n",
    "    if A.shape[1] == B.shape[0]:\n",
    "        return np.transpose(A @ B)\n",
    "    \n",
    "    return \"Невозможно перемножать\"\n"
   ]
  },
  {
   "cell_type": "code",
   "execution_count": 14,
   "metadata": {},
   "outputs": [
    {
     "data": {
      "text/plain": [
       "'Невозможно перемножать'"
      ]
     },
     "execution_count": 14,
     "metadata": {},
     "output_type": "execute_result"
    }
   ],
   "source": [
    "A = np.array([[1, 2], [3, 4]])\n",
    "B = np.array([[1, 2, 3], [3, 4, 5], [2, 2, 3]])\n",
    "\n",
    "cond_and_mult_and_trans(A, B)"
   ]
  },
  {
   "cell_type": "code",
   "execution_count": 15,
   "metadata": {},
   "outputs": [
    {
     "data": {
      "text/plain": [
       "array([[ 7, 15],\n",
       "       [10, 22]])"
      ]
     },
     "execution_count": 15,
     "metadata": {},
     "output_type": "execute_result"
    }
   ],
   "source": [
    "A = np.array([[1, 2], [3, 4]])\n",
    "B = np.array([[1, 2], [3, 4]])\n",
    "\n",
    "cond_and_mult_and_trans(A, B)"
   ]
  },
  {
   "cell_type": "markdown",
   "metadata": {},
   "source": [
    "## Задача №8"
   ]
  },
  {
   "cell_type": "markdown",
   "metadata": {},
   "source": [
    "Эту задачу можете как запрограммировать, так и решить на листочке.\n",
    "\n",
    "Но проще, конечно, **запрограммировать**.\n",
    "\n",
    "Здесь вам придется заглянуть в ноутбук [\"Функция одной переменной/Производная функции многих переменных\"](./Derivative.ipynb) и убедиться, что вы поняли, как дифференцировать функцию многих переменных, а также в ноутбук [\"Оптимизация функции одной и многих переменных\"](./Optimization.ipynb) и убедиться, что вы поняли, как работает градиентный спуск. Если все-таки не поняли - пишите в [чат](https://t.me/joinchat/01_ttlSQj3hjZTg6), тегайте меня, `@leonidt`, пришлю вам что-нибудь в помощь."
   ]
  },
  {
   "cell_type": "markdown",
   "metadata": {},
   "source": [
    "Дана функция:\n",
    "\n",
    "$$ f(x_1, x_2) = x_1^2 + 2x_2^2 + e^{x_1+x_2} $$\n",
    "\n",
    "Найдите минимум данной функции, завершив вычисления при погрешности $$\\varepsilon = 0.5 $$, выбрав в качестве начального приблежения точку `(0, 0)` и коэффициент шага $$ H=0.1. $$"
   ]
  },
  {
   "cell_type": "code",
   "execution_count": 16,
   "metadata": {},
   "outputs": [],
   "source": [
    "def func(x, y):\n",
    "    return x*x + 2.0 * y*y + np.exp(x + y)\n",
    "\n",
    "def f_x(func, x, y, eps=0.001):\n",
    "    return (func(x+eps, y) - func(x, y)) / eps\n",
    "\n",
    "def f_y(func, x, y, eps=0.001):\n",
    "    return (func(x, y+eps) - func(x, y)) / eps"
   ]
  },
  {
   "cell_type": "code",
   "execution_count": 17,
   "metadata": {},
   "outputs": [],
   "source": [
    "EPS = 0.001\n",
    "INIT = np.array([1.0, -1.75])\n",
    "LEARN_RATE = 0.05\n",
    "ITER = 10000\n",
    "\n",
    "X_prev = INIT\n",
    "delta = 1\n",
    "for i in range(ITER):\n",
    "    if delta > EPS:\n",
    "        fxx = f_x(func, X_prev[0], X_prev[1], eps=0.001)\n",
    "        fyy = f_y(func, X_prev[0], X_prev[1], eps=0.001)\n",
    "        grad = np.array([fxx, fyy])\n",
    "\n",
    "        X_next = X_prev - LEARN_RATE * grad    \n",
    "\n",
    "        delta = np.sqrt(np.sum(grad*grad))\n",
    "        \n",
    "        X_prev = X_next\n",
    "        \n",
    "    else:\n",
    "        break"
   ]
  },
  {
   "cell_type": "code",
   "execution_count": 18,
   "metadata": {},
   "outputs": [
    {
     "name": "stdout",
     "output_type": "stream",
     "text": [
      "Значение функции 0.7723\n",
      "x_min -0.3128\n",
      "y_min -0.1569\n",
      "Производная в x_min 0.0008\n",
      "Производная в y_min -0.0002\n",
      "Градиент 0.000963264\n"
     ]
    }
   ],
   "source": [
    "print(f\"Значение функции {func(X_next[0], X_next[1]).round(4)}\")\n",
    "print(f\"x_min {X_next[0].round(4)}\")\n",
    "print(f\"y_min {X_next[1].round(4)}\")\n",
    "print(f\"Производная в x_min {f_x(func, X_next[0], X_next[1], eps=0.001).round(4)}\")\n",
    "print(f\"Производная в y_min {f_y(func, X_next[0], X_next[1], eps=0.001).round(4)}\")\n",
    "print(f\"Градиент {np.sqrt((grad**2).sum()).round(9)}\")\n"
   ]
  }
 ],
 "metadata": {
  "kernelspec": {
   "display_name": "Python 3",
   "language": "python",
   "name": "python3"
  },
  "language_info": {
   "codemirror_mode": {
    "name": "ipython",
    "version": 3
   },
   "file_extension": ".py",
   "mimetype": "text/x-python",
   "name": "python",
   "nbconvert_exporter": "python",
   "pygments_lexer": "ipython3",
   "version": "3.9.7"
  }
 },
 "nbformat": 4,
 "nbformat_minor": 4
}
