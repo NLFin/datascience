{
 "cells": [
  {
   "cell_type": "markdown",
   "metadata": {},
   "source": [
    "### Домашнее задание по линейной регрессии\n",
    "Итак, в качестве домашнего заданиия вам предстоит:\n",
    "1. Воспользоваться [ноутбуком](pandas_2.ipynb).\n",
    "2. Нормализовать данные. В идеале - 3-мя способами: лога    рифмом, минимаксом и методом, рассмотренным на последней лекции: вычитаним среднего и делением на вариацию. Потом нужно будет сравнить, какой способ дал лучший результат."
   ]
  },
  {
   "cell_type": "code",
   "execution_count": null,
   "metadata": {
    "pycharm": {
     "name": "#%%\n"
    }
   },
   "outputs": [],
   "source": [
    "# Начните писать тут"
   ]
  },
  {
   "cell_type": "markdown",
   "source": [
    "3. Выбрать набор слабо скореллированных признаков. Также стоит попробовать подобрать оптимальный порог корреляции: 0.9, 0.8 или какой-то другой. <br>\n",
    "Под лучшим, или оптимальным, естественно, следует понимать способ, который приведет к наименьшей функции потерь и наибольшему коэффициенту детерминации в квадрате $(R^2)$. <br>"
   ],
   "metadata": {
    "collapsed": false,
    "pycharm": {
     "name": "#%% md\n"
    }
   }
  },
  {
   "cell_type": "code",
   "execution_count": null,
   "outputs": [],
   "source": [
    "# Начните писать тут"
   ],
   "metadata": {
    "collapsed": false,
    "pycharm": {
     "name": "#%%\n"
    }
   }
  },
  {
   "cell_type": "markdown",
   "source": [
    "4. Наконец, взять свою великолепную реализацию градиентного спуска (или простенькую - из ноутбука [linreg](linreg.ipynb)) и с ее помощью обучить модель линейной регрессии."
   ],
   "metadata": {
    "collapsed": false,
    "pycharm": {
     "name": "#%% md\n"
    }
   }
  },
  {
   "cell_type": "code",
   "execution_count": null,
   "outputs": [],
   "source": [
    "# Начните писать тут"
   ],
   "metadata": {
    "collapsed": false,
    "pycharm": {
     "name": "#%%\n"
    }
   }
  }
 ],
 "metadata": {
  "kernelspec": {
   "display_name": "Python 3",
   "language": "python",
   "name": "python3"
  },
  "language_info": {
   "codemirror_mode": {
    "name": "ipython",
    "version": 3
   },
   "file_extension": ".py",
   "mimetype": "text/x-python",
   "name": "python",
   "nbconvert_exporter": "python",
   "pygments_lexer": "ipython3",
   "version": "3.8.5"
  }
 },
 "nbformat": 4,
 "nbformat_minor": 4
}