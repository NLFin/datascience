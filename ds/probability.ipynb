{
 "cells": [
  {
   "cell_type": "markdown",
   "id": "261bb71a",
   "metadata": {},
   "source": [
    "# Вероятность в Python"
   ]
  },
  {
   "cell_type": "markdown",
   "id": "f73861b6",
   "metadata": {},
   "source": [
    "> Вероятность — степень (относительная мера, количественная оценка) возможности наступления некоторого события. В теории вероятностей вероятность принимает значения от 0 до 1. Значение 1 соответствует достоверному событию, невозможное событие имеет вероятность 0. Чем выше значение, тем больше вероятность события\n",
    "\n",
    "**Вероятность** как область научного знания важна, потому что неопределенность и случайность встречаются повсеместно, соответственно, знание о вероятности помогает принимать более информированные решения и осмыслять неопределенности. \n",
    "\n",
    "\n",
    "## Факториал\n",
    "\n",
    "**Факториал** — функция, определённая на множестве неотрицательных целых чисел. Факториал натурального числа n определяется как произведение всех натуральных чисел от 1 до n включительно\n",
    "\n",
    "Факториал вычисляется по следующей формуле:\n",
    "\n",
    "$$ n! = n \\times (n-1) \\times (n-2)\\times \\ldots \\times 2 \\times 1 $$\n",
    "\n",
    "Пример: \n",
    "$$ 5! = 5 \\times 4 \\times  3 \\times 2 \\times 1 = 120 $$\n",
    "\n",
    "А как это выглядит в python"
   ]
  },
  {
   "cell_type": "code",
   "execution_count": 2,
   "id": "3da9f048",
   "metadata": {},
   "outputs": [],
   "source": [
    "def factorial(n):\n",
    "    if n == 1: return 1\n",
    "    else: return n * factorial(n-1)"
   ]
  },
  {
   "cell_type": "code",
   "execution_count": 3,
   "id": "af913d03",
   "metadata": {},
   "outputs": [
    {
     "data": {
      "text/plain": [
       "120"
      ]
     },
     "execution_count": 3,
     "metadata": {},
     "output_type": "execute_result"
    }
   ],
   "source": [
    "factorial(5)"
   ]
  },
  {
   "cell_type": "markdown",
   "id": "4137f849",
   "metadata": {},
   "source": [
    "Хорошо, но где факториалы используются в реальном мире? \n",
    "\n",
    "Скажем, в гонке участвуют пять машин F1, и вы хотите узнать количество способов, по которым эти пять могут финишировать первыми, вторыми или третьими. Можно взять листок бумаги и просто записать все возможные варианты, но зачем? Что если машин F1 больше 20? \n",
    "\n",
    "Вот как эта задача решается с помощью факториалов: \n",
    "\n",
    "$$ \\frac{5!}{(5-3)!} = \\frac{5!}{2!} = \\frac{5 \\times 4 \\times  3 \\times 2 \\times 1}{2 \\times 1} = 5 \\times 4 \\times 3 = 60 $$\n",
    "\n",
    "Это называется перестановка"
   ]
  },
  {
   "cell_type": "code",
   "execution_count": 47,
   "id": "7f472a58",
   "metadata": {},
   "outputs": [
    {
     "data": {
      "text/plain": [
       "9240.0"
      ]
     },
     "execution_count": 47,
     "metadata": {},
     "output_type": "execute_result"
    }
   ],
   "source": [
    "factorial(22)/factorial(22-3)"
   ]
  },
  {
   "cell_type": "markdown",
   "id": "2e7563d2",
   "metadata": {},
   "source": [
    "## Перестановки\n",
    "\n",
    "\n",
    "\n",
    "> В математике **перестановка** — это упорядочение членов набора в последовательность или, если последовательность уже определена, перестановка (изменение порядка) ее элементов. \n",
    "\n",
    "\n",
    "Существует два способа вычисления перестановок. Выбор способа зависит от того, разрешается повторение или нет. Давайте рассмотрим на примере.\n",
    "\n",
    "У вас есть веб-сайт, на котором могут регистрироваться пользователи. Им нужно вводить пароль длиной строго в 8 символов, которые не должны повторяться. Сперва нужно определить, сколько букв и цифр в английском алфавите:\n",
    "\n",
    "- количество букв: 26\n",
    "- количество цифр: 10\n",
    "\n",
    "То есть всего 36. Тогда `n = 36`, а `r = 8`, потому что пароль должен быть длиной в 8 символов. Зная это, мы легко можем рассчитать количество уникальных паролей, используя формулу: \n",
    "\n",
    "\n",
    "$$ \\frac{n!}{(n-r)!} $$\n",
    "\n",
    "Если вручную:\n",
    "\n",
    "$$ \\frac{36!}{(36-8)!} = 1220096908800 $$"
   ]
  },
  {
   "cell_type": "code",
   "execution_count": 5,
   "id": "dcbec43d",
   "metadata": {},
   "outputs": [],
   "source": [
    "def permutattion_without_repetition(n, r):\n",
    "    return factorial(n)/factorial(n-r)"
   ]
  },
  {
   "cell_type": "code",
   "execution_count": 48,
   "id": "33796f5a",
   "metadata": {},
   "outputs": [
    {
     "data": {
      "text/plain": [
       "1220096908800.0"
      ]
     },
     "execution_count": 48,
     "metadata": {},
     "output_type": "execute_result"
    }
   ],
   "source": [
    "permutattion_without_repetition(36,8)"
   ]
  },
  {
   "cell_type": "markdown",
   "id": "180414e2",
   "metadata": {},
   "source": [
    "Здорово, но я хочу разрешить пользователям повторно использовать символы. Нет проблем, в данном случае это перестановки с повторениями, формула еще проще: \n",
    "\n",
    "$$ n^r $$"
   ]
  },
  {
   "cell_type": "code",
   "execution_count": 7,
   "id": "7b0c4c24",
   "metadata": {},
   "outputs": [],
   "source": [
    "def permutattion_with_repetition(n, r):\n",
    "    return n**r"
   ]
  },
  {
   "cell_type": "code",
   "execution_count": 8,
   "id": "00831d88",
   "metadata": {},
   "outputs": [
    {
     "data": {
      "text/plain": [
       "2821109907456"
      ]
     },
     "execution_count": 8,
     "metadata": {},
     "output_type": "execute_result"
    }
   ],
   "source": [
    "permutattion_with_repetition(36, 8)"
   ]
  },
  {
   "cell_type": "markdown",
   "id": "4044e3ab",
   "metadata": {},
   "source": [
    "## Сочетания\n",
    "\n",
    "> Сочетание— это выбор значений из набора, в котором (в отличие от перестановок) порядок выбора не имеет значения. \n",
    "\n",
    "Чтобы понять это определение, разберем следующий пример: **группа людей, выбранных в команду — это та же самая группа, независимо от порядка участников**. Вот и вся идея сочетаний. Если выбрать 5 членов команды, можно упорядочить их по имени, росту или другому параметру, но команда останется прежней — порядок не имеет значения. \n",
    "\n",
    "Давайте запишем это формулой. Количество сочетаний `C` набора из `n` объектов, взятых по `r`, рассчитывается так:\n",
    "\n",
    "$$ C(n,r) = \\frac{n!}{r!(n-r)!} $$\n",
    "\n",
    "С этим уравнением мы можем решить следующую задачу: **сколькими способами можно выбрать в футбольную команду 5 человек из 10?** \n",
    "\n",
    "Группа будет той же, порядок значения не имеет. Значит, `n = 10`, а `r = 5`:\n",
    "\n",
    "$$ C(n,r) = \\frac{10!}{5!(10-5)!} = 252  $$\n"
   ]
  },
  {
   "cell_type": "code",
   "execution_count": 49,
   "id": "e989eea3",
   "metadata": {},
   "outputs": [],
   "source": [
    "def combination_without_repetition(n, r):\n",
    "    return factorial(n)/ (factorial(r) * factorial(n-r))"
   ]
  },
  {
   "cell_type": "code",
   "execution_count": 51,
   "id": "d3924050",
   "metadata": {},
   "outputs": [
    {
     "data": {
      "text/plain": [
       "252.0"
      ]
     },
     "execution_count": 51,
     "metadata": {},
     "output_type": "execute_result"
    }
   ],
   "source": [
    "combination_without_repetition(10,5)"
   ]
  },
  {
   "cell_type": "markdown",
   "id": "a74d5695",
   "metadata": {},
   "source": [
    "Великолепно! Но интересно, существует ли версия сочетаний с повторениями? Да! \n",
    "\n",
    "Представьте, что готовите сэндвич и по какой-то причине вам нужно использовать только 4 ингредиента из 10. Однако ингредиенты не должны быть уникальны, например, можно положить 3 куска сыра и 1 кусок салями. Как это здорово, я тоже обожаю сыр, вот спасибо!\n",
    "\n",
    "Но как сформулировать эту идею математически? Ответ снова прост:\n",
    "\n",
    "$$ \\frac{(n+r-1)!}{r!(n-1)} $$\n",
    "\n",
    "Давайте применим формулу к примеру выше. n снова равно 10 (потому что 10 возможных ингредиентов), а r = 4 (потому что выбрать можно только 4):\n",
    "\n",
    "$$ \\frac{(10+4-1)!}{4!(10-1)} = 715 $$"
   ]
  },
  {
   "cell_type": "code",
   "execution_count": 13,
   "id": "8ec0563c",
   "metadata": {},
   "outputs": [],
   "source": [
    "def combination_with_repetition(n, r):\n",
    "    return factorial(n+r-1)/ (factorial(r) * factorial(n-1))"
   ]
  },
  {
   "cell_type": "code",
   "execution_count": 14,
   "id": "2b4ce7f6",
   "metadata": {},
   "outputs": [
    {
     "data": {
      "text/plain": [
       "715.0"
      ]
     },
     "execution_count": 14,
     "metadata": {},
     "output_type": "execute_result"
    }
   ],
   "source": [
    "combination_with_repetition(10,4)"
   ]
  },
  {
   "cell_type": "markdown",
   "id": "56e2200d",
   "metadata": {},
   "source": [
    "## Вероятность\n",
    "\n",
    "Здесь я расскажу о том, что такое:\n",
    "- пространство элементарных событий («sample space»)  \n",
    "- случайных величин («outcome»);\n",
    "\n",
    "Приведем понятие эксперимента и то, как я его понимаю; вероятность («probability»), интерпретация вероятности и дискретных случайных величин.\n",
    "\n"
   ]
  },
  {
   "cell_type": "markdown",
   "id": "cf6146fe",
   "metadata": {},
   "source": [
    "Пожалуй, одним из основополагающих понятий, благодаря которому можно понять, что речь идёт о теории вероятностей, а не о другой области исследования является **выборка («sample»)** (1) и **пространство элементарных событий («sample space»)** (2). Я воспринимаю (1) как некоторый список сущностей (или событий), которые может захватить глаз человека и представить его на бумаге. \n",
    "\n",
    "Есть второй вариант интерпретации определения (1) – это могут быть выдуманные значения (числа, символы), которые можно представить на бумаге. Эти данные являются исходными значениями для эксперимента (о нём будет сказано чуть позже). Выборку мы получаем из пространства элементарных событий (2). По сути своей это абстрактное понятие, определяющее множество выборок в пространстве.\n",
    "\n",
    "\n",
    "Чуть выше мы затронули понятие эксперимента. Поскольку выше было определено, что выборка может быть, как выдуманной, так и нет, то соответственно, эксперимент я воспринимаю как некий процесс манипуляции либо с настоящими данными, либо с вымышленными. В качестве примера можно привести программный код на языке Python."
   ]
  },
  {
   "cell_type": "code",
   "execution_count": 15,
   "id": "695f8c75",
   "metadata": {},
   "outputs": [
    {
     "name": "stdout",
     "output_type": "stream",
     "text": [
      "[2, 4, 6, 3, 2]\n"
     ]
    }
   ],
   "source": [
    "import random\n",
    "\n",
    "data = []\n",
    "while len(data) != 5:\n",
    "    data.append(random.randint(1, 10))\n",
    "print(data)"
   ]
  },
  {
   "cell_type": "markdown",
   "id": "e2f5d5fd",
   "metadata": {},
   "source": [
    "Данный пример определяет любое событие в пространстве элементарных событий. В нашем случае пространство элементарных событий – это случайное число в промежутке от 1 до 10 `(random.randint(1, 10))`, которое добавляет эти значения в список data, пока его длина `(len)` не будет равняться 5.\n",
    "\n",
    "Ниже представлен пример с неслучайными данными. Давайте представим, что мы с вами работаем в некоторой фирме и для того, чтобы провести эксперимент, требуется узнать возраст людей (клиентов) по их имени. Вот код."
   ]
  },
  {
   "cell_type": "code",
   "execution_count": 16,
   "id": "6615f17e",
   "metadata": {},
   "outputs": [
    {
     "name": "stdout",
     "output_type": "stream",
     "text": [
      "{'Bob': 10, 'Alice': 16, 'Ann': 15}\n"
     ]
    }
   ],
   "source": [
    "birth_date ={'Bob': 10, 'Alice':16, 'Ann':15}\n",
    "print(birth_date)"
   ]
  },
  {
   "cell_type": "markdown",
   "id": "19de575b",
   "metadata": {},
   "source": [
    "Он представляет собой словарь, в качестве ключа выступает имя человека, а значения – его возраст.\n",
    "\n",
    "> Представленное событие не является выдуманным (исходя из условия задачи), поскольку в первой задаче мы не знали какое число нам достанется для помещения его в список, а во втором значения данные заранее известны.\n",
    "\n",
    "\n",
    "После того, как мы получили данные, необходимо их оценить. Оценка может быть либо экспериментальная (её ещё называют «грубой»), либо теоретической.  Логично понимать, что экспериментальная получена в результате проведения эксперимента, а теоретическая без проведения эксперимента.\n",
    "\n",
    "В качестве примера можно привести всеми известную задачу подбрасывания кубика, у которого на каждой грани написаны цифры от 1 до 6. И нам необходимо определить вероятность выпадения числа на каждой грани.\n",
    "\n",
    "\n",
    "Вот пример теоретического определения вероятности:\n",
    "\n",
    "Допустим кубик подбрасывается бесконечное количество раз, тогда в теории вероятность выпадения каждого числа стремится к\n",
    "\n",
    "$$ Pr = \\frac{1}{6} = 0.17 $$\n",
    "\n",
    " Проблема в том, что на практике мы не можем подбрасывать кубик бесконечное количество раз. Это утомительно и не нужно, поэтому мы проводим реальный эксперимент с ограничениями.\n",
    "\n",
    "\n",
    "Например, нам нужно подбросить кубик 10 раз. Для этого я написал функцию, которая носит название «кубик»."
   ]
  },
  {
   "cell_type": "code",
   "execution_count": 17,
   "id": "9b9a5969",
   "metadata": {},
   "outputs": [],
   "source": [
    "def kubik(n):\n",
    "    \"\"\"\n",
    "    :param n: Количество подбрасываний\n",
    "    :return:  Список слкучайных подюрасываний кубика\n",
    "    \"\"\"\n",
    "    data = []\n",
    "    while len(data) <n:\n",
    "        data.append(random.randint(1,6))\n",
    "    return data"
   ]
  },
  {
   "cell_type": "markdown",
   "id": "424a6df7",
   "metadata": {},
   "source": [
    "Она при помощи метода `(random.randint(1,6))` определяет количество выпаданий случайной грани от 1 до 6. Результат случайного числа он описывает в переменную data. Если мы выполним 10 подбрасываний, то результатом будет являться список из этих значений. Значения в списке могут быть любыми."
   ]
  },
  {
   "cell_type": "code",
   "execution_count": 57,
   "id": "408ff337",
   "metadata": {},
   "outputs": [
    {
     "name": "stdout",
     "output_type": "stream",
     "text": [
      "[2, 4, 2, 5, 6, 6, 3, 3, 5, 6, 4, 4, 5, 4, 2, 5, 1, 1, 1, 1, 5, 3, 3, 3, 6, 5, 3, 4, 2, 6, 4, 5, 4, 1, 6, 4, 3, 2, 1, 4, 2, 4, 1, 3, 1, 1, 2, 1, 6, 3, 4, 1, 6, 3, 5, 1, 2, 1, 3, 5, 4, 1, 5, 2, 1, 4, 6, 6, 2, 3, 5, 1, 5, 3, 3, 4, 6, 6, 2, 6, 5, 4, 5, 6, 2, 5, 3, 1, 1, 3, 3, 6, 3, 2, 4, 5, 5, 1, 6, 1]\n"
     ]
    }
   ],
   "source": [
    "kub_data = kubik(100)\n",
    "print(kub_data)"
   ]
  },
  {
   "cell_type": "markdown",
   "id": "c5b42496",
   "metadata": {},
   "source": [
    "Чтобы получить вероятность выпадения каждой грани, необходимо определить количество граней в выборке. Я реализовал это при помощи следующей функции:"
   ]
  },
  {
   "cell_type": "code",
   "execution_count": 58,
   "id": "11ebc9ed",
   "metadata": {},
   "outputs": [],
   "source": [
    "def count_rate(kub_data):\n",
    "    \"\"\"\n",
    "    Возвращает частоту выпадания значений кубика,\n",
    "    согласно полученным данным\n",
    "    :param kub_data: данные эксперимента\n",
    "    :return:\n",
    "    \"\"\"\n",
    "    kub_rate = {}\n",
    "    for i in kub_data:\n",
    "        if i in kub_rate:\n",
    "            continue\n",
    "        else:\n",
    "            kub_rate[i] = kub_data.count(i)\n",
    "    for i in range(1, 7):\n",
    "        if i not in kub_rate:\n",
    "            kub_rate[i] = 0\n",
    "    return kub_rate\n"
   ]
  },
  {
   "cell_type": "code",
   "execution_count": 59,
   "id": "13c273f1",
   "metadata": {},
   "outputs": [
    {
     "name": "stdout",
     "output_type": "stream",
     "text": [
      "{2: 13, 4: 16, 5: 17, 6: 16, 3: 18, 1: 20}\n"
     ]
    }
   ],
   "source": [
    "rate = count_rate(kub_data)\n",
    "print(rate)"
   ]
  },
  {
   "cell_type": "markdown",
   "id": "ce2e451c",
   "metadata": {},
   "source": [
    "Результатом функции служит словарь, который считает количество выпадений от 1 до 6. Пример реализует два цикла, первый цикл считает текущие случайные значения в полученной выборке, но поскольку у нас некоторые значения могут не выпасть, то мы их добавляем в конец словаря.\n",
    "\n",
    "Данные, конечно, я получил, но мне не нравится формат их вывода. Поэтому необходимо их отсортировать:"
   ]
  },
  {
   "cell_type": "code",
   "execution_count": 60,
   "id": "8f131e37",
   "metadata": {},
   "outputs": [],
   "source": [
    "def sort_rate(counted_rate):\n",
    "    \"\"\"\n",
    "    Возвращает отсортированную частоту по ключу\n",
    "    :param counted_rate: Наша неотсортированная частота\n",
    "    :return:\n",
    "    \"\"\"\n",
    "    sorted_rate = {}\n",
    "    for key in sorted(counted_rate.keys()):\n",
    "        sorted_rate[key] = counted_rate[key]\n",
    "    return sorted_rate"
   ]
  },
  {
   "cell_type": "code",
   "execution_count": 62,
   "id": "e1cb3c56",
   "metadata": {},
   "outputs": [
    {
     "name": "stdout",
     "output_type": "stream",
     "text": [
      "{1: 20, 2: 13, 3: 18, 4: 16, 5: 17, 6: 16}\n"
     ]
    }
   ],
   "source": [
    "srt_rate = sort_rate(rate)\n",
    "print(srt_rate)"
   ]
  },
  {
   "cell_type": "markdown",
   "id": "4379da49",
   "metadata": {},
   "source": [
    "Для сортировки хорошо подойдёт метод sorted. В официальной документации написано, что она возвращает отсортированный список, полученный из итерируемого объекта, который передан как аргумент. В моём случае итерируемый объект – это наш словарь, который мы сортируем по ключу `(sorted(counted_rate.keys()))`."
   ]
  },
  {
   "cell_type": "markdown",
   "id": "6066e8aa",
   "metadata": {},
   "source": [
    "Следующий шаг, преобразование данного словаря в `dataframe`. DataFrame представляет собой табличную структуру представления данных для удобного их структурирования. Для преобразования служит библиотека pandas (ссылка на официальную документацию (для тех, кто не знает): https://pandas.pydata.org/docs/ ). Она очень популярна в Python сообществе, имеет очень много интересных плюшек, о плюсах можно много говорить, об этом много написано в том числе на Хабре, поэтому перечислять их не буду. Вот реализация функции:"
   ]
  },
  {
   "cell_type": "code",
   "execution_count": 97,
   "id": "b9809e8d",
   "metadata": {},
   "outputs": [],
   "source": [
    "import pandas as pd\n",
    "\n",
    "def crate_dataframe(sorted_date):\n",
    "    \"\"\"\n",
    "    Создание и преобразование данных в Pandas dataframe\n",
    "    :param sorted_date: dict\n",
    "    :return: pd.Dataframe\n",
    "    \"\"\"\n",
    "    df = pd.DataFrame(sorted_date, index=[0])\n",
    "    df = df.T\n",
    "    df = df.rename(columns={0: 'Частота'})\n",
    "    df.insert(0, 'Количество выпаданий', range(1, 1 + len(df)))\n",
    "    return df"
   ]
  },
  {
   "cell_type": "code",
   "execution_count": 98,
   "id": "dc9719bc",
   "metadata": {},
   "outputs": [],
   "source": [
    "df = crate_dataframe(srt_rate)"
   ]
  },
  {
   "cell_type": "code",
   "execution_count": 99,
   "id": "31e4fca9",
   "metadata": {},
   "outputs": [
    {
     "data": {
      "text/html": [
       "<div>\n",
       "<style scoped>\n",
       "    .dataframe tbody tr th:only-of-type {\n",
       "        vertical-align: middle;\n",
       "    }\n",
       "\n",
       "    .dataframe tbody tr th {\n",
       "        vertical-align: top;\n",
       "    }\n",
       "\n",
       "    .dataframe thead th {\n",
       "        text-align: right;\n",
       "    }\n",
       "</style>\n",
       "<table border=\"1\" class=\"dataframe\">\n",
       "  <thead>\n",
       "    <tr style=\"text-align: right;\">\n",
       "      <th></th>\n",
       "      <th>Количество выпаданий</th>\n",
       "      <th>Частота</th>\n",
       "    </tr>\n",
       "  </thead>\n",
       "  <tbody>\n",
       "    <tr>\n",
       "      <th>1</th>\n",
       "      <td>1</td>\n",
       "      <td>20</td>\n",
       "    </tr>\n",
       "    <tr>\n",
       "      <th>2</th>\n",
       "      <td>2</td>\n",
       "      <td>13</td>\n",
       "    </tr>\n",
       "    <tr>\n",
       "      <th>3</th>\n",
       "      <td>3</td>\n",
       "      <td>18</td>\n",
       "    </tr>\n",
       "    <tr>\n",
       "      <th>4</th>\n",
       "      <td>4</td>\n",
       "      <td>16</td>\n",
       "    </tr>\n",
       "    <tr>\n",
       "      <th>5</th>\n",
       "      <td>5</td>\n",
       "      <td>17</td>\n",
       "    </tr>\n",
       "    <tr>\n",
       "      <th>6</th>\n",
       "      <td>6</td>\n",
       "      <td>16</td>\n",
       "    </tr>\n",
       "  </tbody>\n",
       "</table>\n",
       "</div>"
      ],
      "text/plain": [
       "   Количество выпаданий  Частота\n",
       "1                     1       20\n",
       "2                     2       13\n",
       "3                     3       18\n",
       "4                     4       16\n",
       "5                     5       17\n",
       "6                     6       16"
      ]
     },
     "execution_count": 99,
     "metadata": {},
     "output_type": "execute_result"
    }
   ],
   "source": [
    "df"
   ]
  },
  {
   "cell_type": "markdown",
   "id": "08087d21",
   "metadata": {},
   "source": [
    "Теперь самое время определить вероятности. Для того, чтобы это сделать, нужно ещё раз убедиться, что мы подбрасывали кубик ровно 10 раз и затем полученное значение разделить на частоту. Ниже опишу общую формулу:\n",
    "\n",
    "\n",
    "$$ \\text{Вероятность(Pr)} =  \\frac{\\text{Количество подбрасований}}{\\text{Частота выпадения грани куба}} $$"
   ]
  },
  {
   "cell_type": "code",
   "execution_count": 106,
   "id": "111c7461",
   "metadata": {},
   "outputs": [],
   "source": [
    "def probability_solving(dataframe):\n",
    "    \"\"\"\n",
    "    Вычисление вероятности полученных результатов\n",
    "    :param dataframe:\n",
    "    :return:\n",
    "    \"\"\"\n",
    "    sum_rate = dataframe['Частота'].sum()\n",
    "    probability = []\n",
    "    for i in dataframe['Частота']:\n",
    "        probability.append(i / sum_rate)\n",
    "    dataframe['Вероятность'] = probability\n",
    "    return dataframe\n"
   ]
  },
  {
   "cell_type": "code",
   "execution_count": 107,
   "id": "2605b594",
   "metadata": {},
   "outputs": [],
   "source": [
    "df = probability_solving(df)"
   ]
  },
  {
   "cell_type": "markdown",
   "id": "39481564",
   "metadata": {},
   "source": [
    "Суммарное количество бросков описывается переменной   sum_rate, для вычисления вероятности служит цикл, который берёт значения из столбца Частота (`dataframe['Частота']`) и вычисляет её вероятность, путём создания нового столбца (`dataframe['Вероятность']`)."
   ]
  },
  {
   "cell_type": "code",
   "execution_count": 109,
   "id": "52790ab9",
   "metadata": {},
   "outputs": [
    {
     "data": {
      "image/png": "[encoded data removed]",
      "text/plain": [
       "<Figure size 432x288 with 1 Axes>"
      ]
     },
     "metadata": {
      "needs_background": "light"
     },
     "output_type": "display_data"
    }
   ],
   "source": [
    "import matplotlib.pyplot as plt\n",
    "a = df['Вероятность'].plot(kind='bar', legend=True)"
   ]
  },
  {
   "cell_type": "markdown",
   "id": "0eef0e95",
   "metadata": {},
   "source": [
    "# Домашнее задание "
   ]
  },
  {
   "cell_type": "markdown",
   "id": "964f26e6",
   "metadata": {},
   "source": [
    "1. Один самолет вылетел из Москвы, и должен совершить посадку в 5 городах. Необходимо узнать, количество городов, в котрых может приземлиться в первый, второй, третий город."
   ]
  },
  {
   "cell_type": "code",
   "execution_count": null,
   "id": "59f2a57b",
   "metadata": {},
   "outputs": [],
   "source": [
    "# Начните писать код тут "
   ]
  },
  {
   "cell_type": "markdown",
   "id": "d8ba96f1",
   "metadata": {},
   "source": [
    "2. Осьминог Пауль 16 раз пробовал угадать победителя футбольного матча. 14 раз он угадал правильно, 2 раза ошибся. Проверьте гипотезу H0: Пауль выбирает победителя футбольного матча случайно. Сделайте вывод. (сложная задача)"
   ]
  },
  {
   "cell_type": "code",
   "execution_count": null,
   "id": "9c02008f",
   "metadata": {},
   "outputs": [],
   "source": [
    "# Начните писать код тут "
   ]
  }
 ],
 "metadata": {
  "kernelspec": {
   "display_name": "Python 3",
   "language": "python",
   "name": "python3"
  },
  "language_info": {
   "codemirror_mode": {
    "name": "ipython",
    "version": 3
   },
   "file_extension": ".py",
   "mimetype": "text/x-python",
   "name": "python",
   "nbconvert_exporter": "python",
   "pygments_lexer": "ipython3",
   "version": "3.10.2"
  }
 },
 "nbformat": 4,
 "nbformat_minor": 5
}
